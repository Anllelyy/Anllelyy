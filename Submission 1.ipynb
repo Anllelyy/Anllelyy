{
 "cells": [
  {
   "cell_type": "markdown",
   "id": "7c40d72b",
   "metadata": {},
   "source": [
    "## Proyecto "
   ]
  },
  {
   "cell_type": "code",
   "execution_count": 1,
   "id": "e9206c12",
   "metadata": {},
   "outputs": [],
   "source": [
    "#Import library\n",
    "import pandas as pd\n",
    "import matplotlib.pyplot as plt\n",
    "import numpy as np\n",
    "from sklearn.impute import KNNImputer\n",
    "import seaborn as sns\n",
    "import matplotlib.pyplot as plt"
   ]
  },
  {
   "cell_type": "code",
   "execution_count": 2,
   "id": "bc81f75a",
   "metadata": {},
   "outputs": [
    {
     "name": "stderr",
     "output_type": "stream",
     "text": [
      "/var/folders/wj/3_csl2wx1cdgyk8j3p42j6880000gn/T/ipykernel_7973/4191872533.py:2: DtypeWarning: Columns (16) have mixed types. Specify dtype option on import or set low_memory=False.\n",
      "  df = pd.read_csv('cardiovascular_disease.csv', encoding='ISO-8859-1')\n"
     ]
    },
    {
     "data": {
      "text/html": [
       "<div>\n",
       "<style scoped>\n",
       "    .dataframe tbody tr th:only-of-type {\n",
       "        vertical-align: middle;\n",
       "    }\n",
       "\n",
       "    .dataframe tbody tr th {\n",
       "        vertical-align: top;\n",
       "    }\n",
       "\n",
       "    .dataframe thead th {\n",
       "        text-align: right;\n",
       "    }\n",
       "</style>\n",
       "<table border=\"1\" class=\"dataframe\">\n",
       "  <thead>\n",
       "    <tr style=\"text-align: right;\">\n",
       "      <th></th>\n",
       "      <th>General_Health</th>\n",
       "      <th>Checkup</th>\n",
       "      <th>Exercise</th>\n",
       "      <th>Heart Disease</th>\n",
       "      <th>Skin Cancer</th>\n",
       "      <th>Other Cancer</th>\n",
       "      <th>Depression</th>\n",
       "      <th>Diabetes</th>\n",
       "      <th>Arthritis</th>\n",
       "      <th>Sex</th>\n",
       "      <th>Age Category</th>\n",
       "      <th>Height (cm)</th>\n",
       "      <th>Weight (kg)</th>\n",
       "      <th>BMI</th>\n",
       "      <th>Smoking History</th>\n",
       "      <th>Alcohol Consumption</th>\n",
       "      <th>Fruit Consumption</th>\n",
       "      <th>Green_Vegetables_Consumption</th>\n",
       "      <th>FriedPotato Consumption</th>\n",
       "    </tr>\n",
       "  </thead>\n",
       "  <tbody>\n",
       "    <tr>\n",
       "      <th>0</th>\n",
       "      <td>Poor</td>\n",
       "      <td>Within the past 2 years</td>\n",
       "      <td>No</td>\n",
       "      <td>No</td>\n",
       "      <td>No</td>\n",
       "      <td>No</td>\n",
       "      <td>No</td>\n",
       "      <td>No</td>\n",
       "      <td>Yes</td>\n",
       "      <td>Female</td>\n",
       "      <td>70-74</td>\n",
       "      <td>150</td>\n",
       "      <td>32.66</td>\n",
       "      <td>14.54</td>\n",
       "      <td>Yes</td>\n",
       "      <td>0</td>\n",
       "      <td>30</td>\n",
       "      <td>16</td>\n",
       "      <td>12</td>\n",
       "    </tr>\n",
       "    <tr>\n",
       "      <th>1</th>\n",
       "      <td>Very Good</td>\n",
       "      <td>Within the past year</td>\n",
       "      <td>No</td>\n",
       "      <td>Yes</td>\n",
       "      <td>No</td>\n",
       "      <td>No</td>\n",
       "      <td>No</td>\n",
       "      <td>Yes</td>\n",
       "      <td>No</td>\n",
       "      <td>Female</td>\n",
       "      <td>70-74</td>\n",
       "      <td>165</td>\n",
       "      <td>77.11</td>\n",
       "      <td>28.29</td>\n",
       "      <td>No</td>\n",
       "      <td>0</td>\n",
       "      <td>30</td>\n",
       "      <td>0</td>\n",
       "      <td>4</td>\n",
       "    </tr>\n",
       "    <tr>\n",
       "      <th>2</th>\n",
       "      <td>Very Good</td>\n",
       "      <td>Within the past year</td>\n",
       "      <td>Yes</td>\n",
       "      <td>No</td>\n",
       "      <td>No</td>\n",
       "      <td>No</td>\n",
       "      <td>No</td>\n",
       "      <td>Yes</td>\n",
       "      <td>No</td>\n",
       "      <td>Female</td>\n",
       "      <td>60-64</td>\n",
       "      <td>163</td>\n",
       "      <td>88.45</td>\n",
       "      <td>33.47</td>\n",
       "      <td>No</td>\n",
       "      <td>4</td>\n",
       "      <td>12</td>\n",
       "      <td>3</td>\n",
       "      <td>16</td>\n",
       "    </tr>\n",
       "    <tr>\n",
       "      <th>3</th>\n",
       "      <td>Poor</td>\n",
       "      <td>Within the past year</td>\n",
       "      <td>Yes</td>\n",
       "      <td>Yes</td>\n",
       "      <td>No</td>\n",
       "      <td>No</td>\n",
       "      <td>No</td>\n",
       "      <td>Yes</td>\n",
       "      <td>No</td>\n",
       "      <td>Male</td>\n",
       "      <td>75-79</td>\n",
       "      <td>180</td>\n",
       "      <td>93.44</td>\n",
       "      <td>28.73</td>\n",
       "      <td>No</td>\n",
       "      <td>0</td>\n",
       "      <td>30</td>\n",
       "      <td>30</td>\n",
       "      <td>8</td>\n",
       "    </tr>\n",
       "    <tr>\n",
       "      <th>4</th>\n",
       "      <td>Good</td>\n",
       "      <td>Within the past year</td>\n",
       "      <td>No</td>\n",
       "      <td>No</td>\n",
       "      <td>No</td>\n",
       "      <td>No</td>\n",
       "      <td>No</td>\n",
       "      <td>No</td>\n",
       "      <td>No</td>\n",
       "      <td>Male</td>\n",
       "      <td>80+</td>\n",
       "      <td>191</td>\n",
       "      <td>88.45</td>\n",
       "      <td>24.37</td>\n",
       "      <td>Yes</td>\n",
       "      <td>0</td>\n",
       "      <td>8</td>\n",
       "      <td>4</td>\n",
       "      <td>0</td>\n",
       "    </tr>\n",
       "  </tbody>\n",
       "</table>\n",
       "</div>"
      ],
      "text/plain": [
       "  General_Health                  Checkup Exercise Heart Disease Skin Cancer  \\\n",
       "0           Poor  Within the past 2 years       No            No          No   \n",
       "1      Very Good     Within the past year       No           Yes          No   \n",
       "2      Very Good     Within the past year      Yes            No          No   \n",
       "3           Poor     Within the past year      Yes           Yes          No   \n",
       "4           Good     Within the past year       No            No          No   \n",
       "\n",
       "  Other Cancer Depression Diabetes Arthritis     Sex Age Category  \\\n",
       "0           No         No       No       Yes  Female        70-74   \n",
       "1           No         No      Yes        No  Female        70-74   \n",
       "2           No         No      Yes        No  Female        60-64   \n",
       "3           No         No      Yes        No    Male        75-79   \n",
       "4           No         No       No        No    Male          80+   \n",
       "\n",
       "   Height (cm)  Weight (kg)    BMI Smoking History  Alcohol Consumption  \\\n",
       "0          150        32.66  14.54             Yes                    0   \n",
       "1          165        77.11  28.29              No                    0   \n",
       "2          163        88.45  33.47              No                    4   \n",
       "3          180        93.44  28.73              No                    0   \n",
       "4          191        88.45  24.37             Yes                    0   \n",
       "\n",
       "  Fruit Consumption  Green_Vegetables_Consumption  FriedPotato Consumption  \n",
       "0                30                            16                       12  \n",
       "1                30                             0                        4  \n",
       "2                12                             3                       16  \n",
       "3                30                            30                        8  \n",
       "4                 8                             4                        0  "
      ]
     },
     "execution_count": 2,
     "metadata": {},
     "output_type": "execute_result"
    }
   ],
   "source": [
    "#Read database\n",
    "df = pd.read_csv('cardiovascular_disease.csv', encoding='ISO-8859-1')\n",
    "df.head(5)"
   ]
  },
  {
   "cell_type": "code",
   "execution_count": 3,
   "id": "b22d2026",
   "metadata": {},
   "outputs": [],
   "source": [
    "#df.to_excel('datos_proyecto.xlsx', index=False)"
   ]
  },
  {
   "cell_type": "code",
   "execution_count": 4,
   "id": "f1fa331f",
   "metadata": {},
   "outputs": [
    {
     "data": {
      "text/plain": [
       "General_Health                   object\n",
       "Checkup                          object\n",
       "Exercise                         object\n",
       "Heart Disease                    object\n",
       "Skin Cancer                      object\n",
       "Other Cancer                     object\n",
       "Depression                       object\n",
       "Diabetes                         object\n",
       "Arthritis                        object\n",
       "Sex                              object\n",
       "Age Category                     object\n",
       "Height (cm)                       int64\n",
       "Weight (kg)                     float64\n",
       "BMI                             float64\n",
       "Smoking History                  object\n",
       "Alcohol Consumption               int64\n",
       "Fruit Consumption                object\n",
       "Green_Vegetables_Consumption      int64\n",
       "FriedPotato Consumption           int64\n",
       "dtype: object"
      ]
     },
     "execution_count": 4,
     "metadata": {},
     "output_type": "execute_result"
    }
   ],
   "source": [
    "df.dtypes"
   ]
  },
  {
   "cell_type": "code",
   "execution_count": 5,
   "id": "3ffef43d",
   "metadata": {},
   "outputs": [
    {
     "data": {
      "text/plain": [
       "General_Health                     0\n",
       "Checkup                            0\n",
       "Exercise                         101\n",
       "Heart Disease                      0\n",
       "Skin Cancer                        0\n",
       "Other Cancer                       0\n",
       "Depression                      3088\n",
       "Diabetes                           0\n",
       "Arthritis                          0\n",
       "Sex                                0\n",
       "Age Category                       0\n",
       "Height (cm)                        0\n",
       "Weight (kg)                        0\n",
       "BMI                                0\n",
       "Smoking History                    0\n",
       "Alcohol Consumption                0\n",
       "Fruit Consumption                  0\n",
       "Green_Vegetables_Consumption       0\n",
       "FriedPotato Consumption            0\n",
       "dtype: int64"
      ]
     },
     "execution_count": 5,
     "metadata": {},
     "output_type": "execute_result"
    }
   ],
   "source": [
    "pd.isnull(df).sum()"
   ]
  },
  {
   "cell_type": "code",
   "execution_count": 6,
   "id": "62b021bf",
   "metadata": {},
   "outputs": [
    {
     "name": "stdout",
     "output_type": "stream",
     "text": [
      "<class 'pandas.core.frame.DataFrame'>\n",
      "RangeIndex: 308854 entries, 0 to 308853\n",
      "Data columns (total 19 columns):\n",
      " #   Column                        Non-Null Count   Dtype  \n",
      "---  ------                        --------------   -----  \n",
      " 0   General_Health                308854 non-null  object \n",
      " 1   Checkup                       308854 non-null  object \n",
      " 2   Exercise                      308753 non-null  object \n",
      " 3   Heart Disease                 308854 non-null  object \n",
      " 4   Skin Cancer                   308854 non-null  object \n",
      " 5   Other Cancer                  308854 non-null  object \n",
      " 6   Depression                    305766 non-null  object \n",
      " 7   Diabetes                      308854 non-null  object \n",
      " 8   Arthritis                     308854 non-null  object \n",
      " 9   Sex                           308854 non-null  object \n",
      " 10  Age Category                  308854 non-null  object \n",
      " 11  Height (cm)                   308854 non-null  int64  \n",
      " 12  Weight (kg)                   308854 non-null  float64\n",
      " 13  BMI                           308854 non-null  float64\n",
      " 14  Smoking History               308854 non-null  object \n",
      " 15  Alcohol Consumption           308854 non-null  int64  \n",
      " 16  Fruit Consumption             308854 non-null  object \n",
      " 17  Green_Vegetables_Consumption  308854 non-null  int64  \n",
      " 18  FriedPotato Consumption       308854 non-null  int64  \n",
      "dtypes: float64(2), int64(4), object(13)\n",
      "memory usage: 44.8+ MB\n"
     ]
    }
   ],
   "source": [
    "df.info()"
   ]
  },
  {
   "cell_type": "code",
   "execution_count": 7,
   "id": "fdc32809",
   "metadata": {},
   "outputs": [
    {
     "data": {
      "text/plain": [
       "(308854, 19)"
      ]
     },
     "execution_count": 7,
     "metadata": {},
     "output_type": "execute_result"
    }
   ],
   "source": [
    "df.shape"
   ]
  },
  {
   "cell_type": "markdown",
   "id": "5e3b4a38",
   "metadata": {},
   "source": [
    "### Column Exercise"
   ]
  },
  {
   "cell_type": "code",
   "execution_count": 8,
   "id": "c57fd9be",
   "metadata": {},
   "outputs": [
    {
     "data": {
      "text/plain": [
       "array(['No', 'Yes', nan], dtype=object)"
      ]
     },
     "execution_count": 8,
     "metadata": {},
     "output_type": "execute_result"
    }
   ],
   "source": [
    "#Unique values\n",
    "Valores_unicos_Exercise = df['Exercise'].unique()\n",
    "Valores_unicos_Exercise"
   ]
  },
  {
   "cell_type": "code",
   "execution_count": 9,
   "id": "7131b57c",
   "metadata": {},
   "outputs": [
    {
     "data": {
      "text/plain": [
       "Yes    239304\n",
       "No      69449\n",
       "Name: Exercise, dtype: int64"
      ]
     },
     "execution_count": 9,
     "metadata": {},
     "output_type": "execute_result"
    }
   ],
   "source": [
    "#Count How many 'Yes' and 'No' exists\n",
    "conteo_YN = df['Exercise'].value_counts() \n",
    "conteo_YN"
   ]
  },
  {
   "cell_type": "code",
   "execution_count": 10,
   "id": "71af2545",
   "metadata": {},
   "outputs": [
    {
     "name": "stdout",
     "output_type": "stream",
     "text": [
      "Porcentaje de \"Yes\": 77.48%\n",
      "Porcentaje de \"No\": 22.49%\n"
     ]
    }
   ],
   "source": [
    "#Percentage of yes and NO\n",
    "porcentaje_yes = (conteo_YN['Yes'] / len(df)) * 100\n",
    "porcentaje_no = (conteo_YN['No'] / len(df)) * 100\n",
    "\n",
    "# Mostrar los resultados\n",
    "print(f'Porcentaje de \"Yes\": {porcentaje_yes:.2f}%')\n",
    "print(f'Porcentaje de \"No\": {porcentaje_no:.2f}%')"
   ]
  },
  {
   "cell_type": "code",
   "execution_count": 11,
   "id": "79d8aa27",
   "metadata": {},
   "outputs": [
    {
     "name": "stdout",
     "output_type": "stream",
     "text": [
      "El 77.48% de 101 es: 78\n",
      "El 22.49% de 101 es: 23\n"
     ]
    }
   ],
   "source": [
    "# Percentage of 101\n",
    "Nulos_Exercise = 101\n",
    "\n",
    "resultado = Nulos_Exercise * (porcentaje_yes / 100)\n",
    "resultado_2 = Nulos_Exercise * (porcentaje_no / 100)\n",
    "\n",
    "print(f'El 77.48% de {Nulos_Exercise} es: {resultado:.0f}')\n",
    "print(f'El 22.49% de {Nulos_Exercise} es: {resultado_2:.0f}')"
   ]
  },
  {
   "cell_type": "code",
   "execution_count": 12,
   "id": "b8af696a",
   "metadata": {},
   "outputs": [],
   "source": [
    "# Value to randomly fill rows with \"Yes\"\n",
    "yes_value = 'Yes'\n",
    "# Value to randomly fill rows with \"No\"\n",
    "no_value = 'No'\n",
    "\n",
    "# Get the index of empty rows\n",
    "empty_rows = df[df['Exercise'].isnull()].index\n",
    "\n",
    "# Randomly choose 78 indices for \"Yes\" and 23 indices for \"No\"\n",
    "indices_yes = np.random.choice(empty_rows, size=78, replace=False)\n",
    "indices_no = np.random.choice(list(set(empty_rows) - set(indices_yes)), size=23, replace=False)\n",
    "\n",
    "# Fill the selected rows with \"Yes\" and \"No\"\n",
    "df.loc[indices_yes, 'Exercise'] = yes_value\n",
    "df.loc[indices_no, 'Exercise'] = no_value"
   ]
  },
  {
   "cell_type": "code",
   "execution_count": 13,
   "id": "cfe769ad",
   "metadata": {},
   "outputs": [
    {
     "data": {
      "text/plain": [
       "array(['No', 'Yes'], dtype=object)"
      ]
     },
     "execution_count": 13,
     "metadata": {},
     "output_type": "execute_result"
    }
   ],
   "source": [
    "#Unique Values\n",
    "Valores_unicos_Exercise = df['Exercise'].unique()\n",
    "Valores_unicos_Exercise"
   ]
  },
  {
   "cell_type": "code",
   "execution_count": 14,
   "id": "22dd2922",
   "metadata": {},
   "outputs": [
    {
     "data": {
      "text/plain": [
       "Yes    239382\n",
       "No      69472\n",
       "Name: Exercise, dtype: int64"
      ]
     },
     "execution_count": 14,
     "metadata": {},
     "output_type": "execute_result"
    }
   ],
   "source": [
    "conteo_YN = df['Exercise'].value_counts() #How many 'Yes' and 'No' exists\n",
    "conteo_YN"
   ]
  },
  {
   "cell_type": "markdown",
   "id": "8d622fa2",
   "metadata": {},
   "source": [
    "### Column Heart Disease"
   ]
  },
  {
   "cell_type": "code",
   "execution_count": 15,
   "id": "3e0e3138",
   "metadata": {},
   "outputs": [
    {
     "data": {
      "text/plain": [
       "array(['No', 'Yes', 'e'], dtype=object)"
      ]
     },
     "execution_count": 15,
     "metadata": {},
     "output_type": "execute_result"
    }
   ],
   "source": [
    "#Unique Values\n",
    "Valores_unicos_HDisease = df['Heart Disease'].unique()\n",
    "Valores_unicos_HDisease"
   ]
  },
  {
   "cell_type": "code",
   "execution_count": 16,
   "id": "f18b0562",
   "metadata": {},
   "outputs": [
    {
     "data": {
      "text/plain": [
       "No     283882\n",
       "Yes     24971\n",
       "e           1\n",
       "Name: Heart Disease, dtype: int64"
      ]
     },
     "execution_count": 16,
     "metadata": {},
     "output_type": "execute_result"
    }
   ],
   "source": [
    "conteo_YN = df['Heart Disease'].value_counts() #How many 'Yes' and 'No' exists\n",
    "conteo_YN"
   ]
  },
  {
   "cell_type": "code",
   "execution_count": 17,
   "id": "a1aefd4f",
   "metadata": {},
   "outputs": [
    {
     "name": "stdout",
     "output_type": "stream",
     "text": [
      "Porcentaje de \"Yes\": 8.09%\n",
      "Porcentaje de \"No\": 91.91%\n"
     ]
    }
   ],
   "source": [
    "porcentaje_yes = (conteo_YN['Yes'] / len(df)) * 100\n",
    "porcentaje_no = (conteo_YN['No'] / len(df)) * 100\n",
    "# Mostrar los resultados\n",
    "print(f'Porcentaje de \"Yes\": {porcentaje_yes:.2f}%')\n",
    "print(f'Porcentaje de \"No\": {porcentaje_no:.2f}%')"
   ]
  },
  {
   "cell_type": "code",
   "execution_count": 18,
   "id": "2176d1d6",
   "metadata": {},
   "outputs": [],
   "source": [
    "# Valor a buscar y reemplazar\n",
    "valor_a_buscar = 'e'\n",
    "nuevo_valor = 'No'\n",
    "# Buscar y reemplazar en la columna específica\n",
    "df['Heart Disease'] = df['Heart Disease'].replace(valor_a_buscar, nuevo_valor)"
   ]
  },
  {
   "cell_type": "code",
   "execution_count": 19,
   "id": "1c008b5d",
   "metadata": {},
   "outputs": [
    {
     "data": {
      "text/plain": [
       "array(['No', 'Yes'], dtype=object)"
      ]
     },
     "execution_count": 19,
     "metadata": {},
     "output_type": "execute_result"
    }
   ],
   "source": [
    "Valores_unicos_HDisease = df['Heart Disease'].unique()\n",
    "Valores_unicos_HDisease"
   ]
  },
  {
   "cell_type": "code",
   "execution_count": 20,
   "id": "6393347a",
   "metadata": {},
   "outputs": [
    {
     "data": {
      "text/plain": [
       "No     283883\n",
       "Yes     24971\n",
       "Name: Heart Disease, dtype: int64"
      ]
     },
     "execution_count": 20,
     "metadata": {},
     "output_type": "execute_result"
    }
   ],
   "source": [
    "conteo_YN = df['Heart Disease'].value_counts() #How many 'Yes' and 'No' exists\n",
    "conteo_YN"
   ]
  },
  {
   "cell_type": "markdown",
   "id": "428394e5",
   "metadata": {},
   "source": [
    "### Column Skin Cancer"
   ]
  },
  {
   "cell_type": "code",
   "execution_count": 21,
   "id": "2b6af382",
   "metadata": {},
   "outputs": [
    {
     "data": {
      "text/plain": [
       "array(['No', 'Yes', 'dsfg', 'wet', '12*lkl\\x96«fg', 'q345345',\n",
       "       'serter-89', 'dfg 025', 'dfgkl\\x96fg-', 'sertret-8'], dtype=object)"
      ]
     },
     "execution_count": 21,
     "metadata": {},
     "output_type": "execute_result"
    }
   ],
   "source": [
    "Valores_unicos_SkinCancer = df['Skin Cancer'].unique()\n",
    "Valores_unicos_SkinCancer"
   ]
  },
  {
   "cell_type": "code",
   "execution_count": 22,
   "id": "634aa524",
   "metadata": {},
   "outputs": [],
   "source": [
    "# Valores permitidos (\"Yes\" o \"No\")\n",
    "allowed_values = ['Yes', 'No']\n",
    "\n",
    "# Asignar nulos a los valores que no son \"Yes\" ni \"No\" en la columna específica\n",
    "df.loc[~df['Skin Cancer'].isin(allowed_values), 'Skin Cancer'] = None\n",
    "\n",
    "# Mostrar el DataFrame después de la operación"
   ]
  },
  {
   "cell_type": "code",
   "execution_count": 23,
   "id": "4f75ca74",
   "metadata": {},
   "outputs": [
    {
     "data": {
      "text/plain": [
       "No      278853\n",
       "Yes      29992\n",
       "None         9\n",
       "Name: Skin Cancer, dtype: int64"
      ]
     },
     "execution_count": 23,
     "metadata": {},
     "output_type": "execute_result"
    }
   ],
   "source": [
    "conteo_YN = df['Skin Cancer'].value_counts(dropna=False)\n",
    "conteo_YN"
   ]
  },
  {
   "cell_type": "code",
   "execution_count": 24,
   "id": "9e4431a3",
   "metadata": {},
   "outputs": [
    {
     "name": "stdout",
     "output_type": "stream",
     "text": [
      "Porcentaje de \"Yes\": 9.71%\n",
      "Porcentaje de \"No\": 90.29%\n"
     ]
    }
   ],
   "source": [
    "#Percentaje of yes and no\n",
    "porcentaje_yes = (conteo_YN['Yes'] / len(df)) * 100\n",
    "porcentaje_no = (conteo_YN['No'] / len(df)) * 100\n",
    "# Mostrar los resultados\n",
    "print(f'Porcentaje de \"Yes\": {porcentaje_yes:.2f}%')\n",
    "print(f'Porcentaje de \"No\": {porcentaje_no:.2f}%')"
   ]
  },
  {
   "cell_type": "code",
   "execution_count": 25,
   "id": "ac4dd9c7",
   "metadata": {},
   "outputs": [
    {
     "name": "stdout",
     "output_type": "stream",
     "text": [
      "El 9.71% de 9 es: 1\n",
      "El 90.20% de 9 es: 8\n"
     ]
    }
   ],
   "source": [
    "Nulos_Exercise = 9\n",
    "\n",
    "resultado = Nulos_Exercise * (porcentaje_yes / 100)\n",
    "resultado_2 = Nulos_Exercise * (porcentaje_no / 100)\n",
    "\n",
    "print(f'El 9.71% de {Nulos_Exercise} es: {resultado:.0f}')\n",
    "print(f'El 90.20% de {Nulos_Exercise} es: {resultado_2:.0f}')"
   ]
  },
  {
   "cell_type": "code",
   "execution_count": 27,
   "id": "1caad0e0",
   "metadata": {},
   "outputs": [],
   "source": [
    "# Obtener el índice de las filas vacías\n",
    "filas_vacias = df[df['Skin Cancer'].isnull()].index\n",
    "\n",
    "# Elegir aleatoriamente 78 índices para \"Yes\" y 23 índices para \"No\"\n",
    "indices_yes = np.random.choice(filas_vacias, size=1, replace=False)\n",
    "indices_no = np.random.choice(list(set(filas_vacias) - set(indices_yes)), size=8, replace=False)\n",
    "\n",
    "# Llenar las filas seleccionadas con \"Yes\" y \"No\"\n",
    "df.loc[indices_yes, 'Skin Cancer'] = indices_yes\n",
    "df.loc[indices_no, 'Skin Cancer'] = indices_no"
   ]
  },
  {
   "cell_type": "code",
   "execution_count": 28,
   "id": "e3febda0",
   "metadata": {},
   "outputs": [
    {
     "data": {
      "text/plain": [
       "array(['No', 'Yes', 127023, 127051, 127053, 210253, 223307, 244880,\n",
       "       245005, 245212, 245295], dtype=object)"
      ]
     },
     "execution_count": 28,
     "metadata": {},
     "output_type": "execute_result"
    }
   ],
   "source": [
    "Valores_unicos_SkinCancer = df['Skin Cancer'].unique()\n",
    "Valores_unicos_SkinCancer"
   ]
  },
  {
   "cell_type": "code",
   "execution_count": 29,
   "id": "477a6b2f",
   "metadata": {},
   "outputs": [
    {
     "data": {
      "text/plain": [
       "No        278853\n",
       "Yes        29992\n",
       "127023         1\n",
       "127051         1\n",
       "127053         1\n",
       "210253         1\n",
       "223307         1\n",
       "244880         1\n",
       "245005         1\n",
       "245212         1\n",
       "245295         1\n",
       "Name: Skin Cancer, dtype: int64"
      ]
     },
     "execution_count": 29,
     "metadata": {},
     "output_type": "execute_result"
    }
   ],
   "source": [
    "conteo_YN = df['Skin Cancer'].value_counts(dropna=False)\n",
    "conteo_YN"
   ]
  },
  {
   "cell_type": "markdown",
   "id": "73144812",
   "metadata": {},
   "source": [
    "### Other Cancer"
   ]
  },
  {
   "cell_type": "code",
   "execution_count": 30,
   "id": "7a6b15be",
   "metadata": {},
   "outputs": [
    {
     "data": {
      "text/plain": [
       "array(['No', 'Yes', 'dsgw45'], dtype=object)"
      ]
     },
     "execution_count": 30,
     "metadata": {},
     "output_type": "execute_result"
    }
   ],
   "source": [
    "Valores_unicos_OtherCancer = df['Other Cancer'].unique()\n",
    "Valores_unicos_OtherCancer"
   ]
  },
  {
   "cell_type": "code",
   "execution_count": 31,
   "id": "92c79c22",
   "metadata": {},
   "outputs": [],
   "source": [
    "filas_a_eliminar = df.loc[~df['Other Cancer'].isin(['Yes', 'No'])].index\n",
    "\n",
    "# Eliminar las filas seleccionadas\n",
    "df.drop(filas_a_eliminar, inplace=True)"
   ]
  },
  {
   "cell_type": "code",
   "execution_count": 32,
   "id": "8c5bb3d3",
   "metadata": {},
   "outputs": [
    {
     "data": {
      "text/plain": [
       "(308853, 19)"
      ]
     },
     "execution_count": 32,
     "metadata": {},
     "output_type": "execute_result"
    }
   ],
   "source": [
    "df.shape"
   ]
  },
  {
   "cell_type": "markdown",
   "id": "6d6979c2",
   "metadata": {},
   "source": [
    "### Column Depression"
   ]
  },
  {
   "cell_type": "code",
   "execution_count": 33,
   "id": "f78dfa7c",
   "metadata": {},
   "outputs": [
    {
     "data": {
      "text/plain": [
       "array(['No', 'Yes', nan], dtype=object)"
      ]
     },
     "execution_count": 33,
     "metadata": {},
     "output_type": "execute_result"
    }
   ],
   "source": [
    "Valores_unicos_Depression = df['Depression'].unique()\n",
    "Valores_unicos_Depression"
   ]
  },
  {
   "cell_type": "code",
   "execution_count": 34,
   "id": "d639a8fd",
   "metadata": {},
   "outputs": [
    {
     "data": {
      "text/plain": [
       "No     244491\n",
       "Yes     61274\n",
       "NaN      3088\n",
       "Name: Depression, dtype: int64"
      ]
     },
     "execution_count": 34,
     "metadata": {},
     "output_type": "execute_result"
    }
   ],
   "source": [
    "conteo_YN = df['Depression'].value_counts(dropna = False) #How many 'Yes' and 'No' exists\n",
    "conteo_YN"
   ]
  },
  {
   "cell_type": "code",
   "execution_count": 35,
   "id": "6a0ba75e",
   "metadata": {},
   "outputs": [
    {
     "name": "stdout",
     "output_type": "stream",
     "text": [
      "Porcentaje de \"Yes\": 20%\n",
      "Porcentaje de \"No\": 79%\n"
     ]
    }
   ],
   "source": [
    "porcentaje_yes = round((conteo_YN['Yes'] / len(df)) * 100)\n",
    "porcentaje_no = round((conteo_YN['No'] / len(df)) * 100)\n",
    "\n",
    "# Mostrar los resultados\n",
    "print(f'Porcentaje de \"Yes\": {porcentaje_yes}%')\n",
    "print(f'Porcentaje de \"No\": {porcentaje_no}%')"
   ]
  },
  {
   "cell_type": "code",
   "execution_count": 36,
   "id": "1418c92d",
   "metadata": {},
   "outputs": [
    {
     "name": "stdout",
     "output_type": "stream",
     "text": [
      "El 20% de 3088 es: 618\n",
      "El 80% de 3088 es: 2470\n"
     ]
    }
   ],
   "source": [
    "Nulos_Exercise = 3088\n",
    "\n",
    "resultado = Nulos_Exercise * (porcentaje_yes / 100)\n",
    "resultado_2 = Nulos_Exercise * ((porcentaje_no+1) / 100)\n",
    "\n",
    "print(f'El 20% de {Nulos_Exercise} es: {resultado:.0f}')\n",
    "print(f'El 80% de {Nulos_Exercise} es: {resultado_2:.0f}')"
   ]
  },
  {
   "cell_type": "code",
   "execution_count": 37,
   "id": "969f25f4",
   "metadata": {},
   "outputs": [],
   "source": [
    "# Valor para llenar aleatoriamente las filas con \"Yes\"\n",
    "valor_yes = 'Yes'\n",
    "# Valor para llenar aleatoriamente las filas con \"No\"\n",
    "valor_no = 'No'\n",
    "\n",
    "# Obtener el índice de las filas vacías\n",
    "filas_vacias = df[df['Depression'].isnull()].index\n",
    "\n",
    "# Elegir aleatoriamente 618 índices para \"Yes\" y 23 índices para \"No\"\n",
    "indices_yes = np.random.choice(filas_vacias, size=618, replace=False)\n",
    "indices_no = np.random.choice(list(set(filas_vacias) - set(indices_yes)), size=2470, replace=False)\n",
    "\n",
    "# Llenar las filas seleccionadas con \"Yes\" y \"No\"\n",
    "df.loc[indices_yes, 'Depression'] = valor_yes\n",
    "df.loc[indices_no, 'Depression'] = valor_no"
   ]
  },
  {
   "cell_type": "code",
   "execution_count": 38,
   "id": "61d55818",
   "metadata": {},
   "outputs": [
    {
     "data": {
      "text/plain": [
       "array(['No', 'Yes'], dtype=object)"
      ]
     },
     "execution_count": 38,
     "metadata": {},
     "output_type": "execute_result"
    }
   ],
   "source": [
    "Valores_unicos_Depression = df['Depression'].unique()\n",
    "Valores_unicos_Depression"
   ]
  },
  {
   "cell_type": "code",
   "execution_count": 39,
   "id": "fb8086d6",
   "metadata": {},
   "outputs": [
    {
     "data": {
      "text/plain": [
       "No     246961\n",
       "Yes     61892\n",
       "Name: Depression, dtype: int64"
      ]
     },
     "execution_count": 39,
     "metadata": {},
     "output_type": "execute_result"
    }
   ],
   "source": [
    "conteo_YN = df['Depression'].value_counts(dropna = False) #How many 'Yes' and 'No' exists\n",
    "conteo_YN"
   ]
  },
  {
   "cell_type": "markdown",
   "id": "f584e8b3",
   "metadata": {},
   "source": [
    "### Column Sex"
   ]
  },
  {
   "cell_type": "code",
   "execution_count": 40,
   "id": "2be832df",
   "metadata": {},
   "outputs": [
    {
     "data": {
      "text/plain": [
       "array(['No', 'Yes', 'No, pre-diabetes or borderline diabetes',\n",
       "       'Yes, but female told only during pregnancy'], dtype=object)"
      ]
     },
     "execution_count": 40,
     "metadata": {},
     "output_type": "execute_result"
    }
   ],
   "source": [
    "Valores_unicos_Sex = df['Diabetes'].unique()\n",
    "Valores_unicos_Sex"
   ]
  },
  {
   "cell_type": "markdown",
   "id": "a6c646c0",
   "metadata": {},
   "source": [
    "### Column Diabetes"
   ]
  },
  {
   "cell_type": "code",
   "execution_count": 41,
   "id": "3f6c751d",
   "metadata": {},
   "outputs": [
    {
     "data": {
      "text/plain": [
       "array(['No', 'Yes', 'No, pre-diabetes or borderline diabetes',\n",
       "       'Yes, but female told only during pregnancy'], dtype=object)"
      ]
     },
     "execution_count": 41,
     "metadata": {},
     "output_type": "execute_result"
    }
   ],
   "source": [
    "Valores_unicos_Diabetes = df['Diabetes'].unique()\n",
    "Valores_unicos_Diabetes"
   ]
  },
  {
   "cell_type": "markdown",
   "id": "35fb7cf4",
   "metadata": {},
   "source": [
    "### Column Arthritis"
   ]
  },
  {
   "cell_type": "code",
   "execution_count": 42,
   "id": "5346b58b",
   "metadata": {},
   "outputs": [
    {
     "data": {
      "text/plain": [
       "array(['Yes', 'No'], dtype=object)"
      ]
     },
     "execution_count": 42,
     "metadata": {},
     "output_type": "execute_result"
    }
   ],
   "source": [
    "Valores_unicos_Arthritis = df['Arthritis'].unique()\n",
    "Valores_unicos_Arthritis"
   ]
  },
  {
   "cell_type": "markdown",
   "id": "b504704d",
   "metadata": {},
   "source": [
    "### Column Height (cm)"
   ]
  },
  {
   "cell_type": "code",
   "execution_count": 43,
   "id": "ce5e477a",
   "metadata": {},
   "outputs": [
    {
     "data": {
      "image/png": "[encoded data removed]",
      "text/plain": [
       "<Figure size 640x480 with 1 Axes>"
      ]
     },
     "metadata": {},
     "output_type": "display_data"
    }
   ],
   "source": [
    "plt.boxplot(df['Height (cm)'], vert = False)\n",
    "plt.title('Boxplot')\n",
    "plt.xlabel('Height (cm)')\n",
    "plt.ylabel('Values')\n",
    "plt.show()"
   ]
  },
  {
   "cell_type": "code",
   "execution_count": 44,
   "id": "554e0589",
   "metadata": {},
   "outputs": [
    {
     "data": {
      "text/plain": [
       "181       206\n",
       "454       140\n",
       "576       135\n",
       "1734      201\n",
       "1764      218\n",
       "         ... \n",
       "307810    140\n",
       "308223    135\n",
       "308444    140\n",
       "308560    135\n",
       "308710    213\n",
       "Name: Height (cm), Length: 1116, dtype: int64"
      ]
     },
     "execution_count": 44,
     "metadata": {},
     "output_type": "execute_result"
    }
   ],
   "source": [
    "# Calculate the first and third quartiles (Q1 and Q3)\n",
    "Q1 = df['Height (cm)'].quantile(0.25)\n",
    "Q3 = df['Height (cm)'].quantile(0.75)\n",
    "\n",
    "# Calculate the interquartile range (IQR)\n",
    "IQR = Q3 - Q1\n",
    "\n",
    "# Calculate the limits to identify outliers\n",
    "lower_limit = Q1 - 1.5 * IQR\n",
    "upper_limit = Q3 + 1.5 * IQR\n",
    "\n",
    "# Identify outlier values\n",
    "outliers = df[(df['Height (cm)'] < lower_limit) | (df['Height (cm)'] > upper_limit)]['Height (cm)']\n",
    "\n",
    "# Show the outlier values\n",
    "outliers"
   ]
  },
  {
   "cell_type": "code",
   "execution_count": 45,
   "id": "88c91fc6",
   "metadata": {},
   "outputs": [
    {
     "name": "stdout",
     "output_type": "stream",
     "text": [
      "Valor máximo atípico:\n",
      "365\n"
     ]
    }
   ],
   "source": [
    "Q1 = df['Height (cm)'].quantile(0.25)\n",
    "Q3 = df['Height (cm)'].quantile(0.75)\n",
    "IQR = Q3 - Q1\n",
    "\n",
    "# Calcular los límites para identificar valores atípicos\n",
    "limite_inferior = Q1 - 1.5 * IQR\n",
    "limite_superior = Q3 + 1.5 * IQR\n",
    "\n",
    "# Identificar valores atípicos\n",
    "valores_atipicos = df[(df['Height (cm)'] < limite_inferior) | (df['Height (cm)'] > limite_superior)]\n",
    "\n",
    "# Encontrar el valor máximo atípico\n",
    "valor_maximo_atipico = valores_atipicos['Height (cm)'].max()\n",
    "\n",
    "print(\"Valor máximo atípico:\")\n",
    "print(valor_maximo_atipico)"
   ]
  },
  {
   "cell_type": "code",
   "execution_count": 46,
   "id": "dccd65e2",
   "metadata": {},
   "outputs": [
    {
     "data": {
      "text/plain": [
       "170.65361515024946"
      ]
     },
     "execution_count": 46,
     "metadata": {},
     "output_type": "execute_result"
    }
   ],
   "source": [
    "media_con_atipicos=df['Height (cm)'].mean()\n",
    "media_con_atipicos"
   ]
  },
  {
   "cell_type": "code",
   "execution_count": 47,
   "id": "499933a3",
   "metadata": {},
   "outputs": [],
   "source": [
    "# replaces all values ​​equal to maximum_atypical_value in column 'Height (cm)' with NaN\n",
    "df['Height (cm)'] = df['Height (cm)'].replace(valor_maximo_atipico, np.nan)"
   ]
  },
  {
   "cell_type": "code",
   "execution_count": 48,
   "id": "7d1f6911",
   "metadata": {},
   "outputs": [
    {
     "data": {
      "text/plain": [
       "170.61522319231068"
      ]
     },
     "execution_count": 48,
     "metadata": {},
     "output_type": "execute_result"
    }
   ],
   "source": [
    "#Calculate mean without atipics\n",
    "media_sin_atipicos=df['Height (cm)'].mean()\n",
    "media_sin_atipicos"
   ]
  },
  {
   "cell_type": "code",
   "execution_count": 49,
   "id": "49887516",
   "metadata": {},
   "outputs": [],
   "source": [
    "# Replace null values with mean\n",
    "df['Height (cm)'] = df['Height (cm)'].fillna(media_sin_atipicos)"
   ]
  },
  {
   "cell_type": "code",
   "execution_count": 50,
   "id": "7eb00b47",
   "metadata": {},
   "outputs": [
    {
     "data": {
      "image/png": "[encoded data removed]",
      "text/plain": [
       "<Figure size 640x480 with 1 Axes>"
      ]
     },
     "metadata": {},
     "output_type": "display_data"
    }
   ],
   "source": [
    "plt.boxplot(df['Height (cm)'], vert = False)\n",
    "plt.title('Boxplot')\n",
    "plt.ylabel('Values')\n",
    "plt.xlabel('Height (cm)')\n",
    "plt.show()"
   ]
  },
  {
   "cell_type": "code",
   "execution_count": 51,
   "id": "d2b07a92",
   "metadata": {},
   "outputs": [
    {
     "data": {
      "text/plain": [
       "count    308853.000000\n",
       "mean        170.615223\n",
       "std          10.656985\n",
       "min          91.000000\n",
       "25%         163.000000\n",
       "50%         170.000000\n",
       "75%         178.000000\n",
       "max         241.000000\n",
       "Name: Height (cm), dtype: float64"
      ]
     },
     "execution_count": 51,
     "metadata": {},
     "output_type": "execute_result"
    }
   ],
   "source": [
    "df['Height (cm)'].describe()"
   ]
  },
  {
   "cell_type": "code",
   "execution_count": 52,
   "id": "20cf0f63",
   "metadata": {},
   "outputs": [
    {
     "name": "stdout",
     "output_type": "stream",
     "text": [
      "Valor máximo atípico:\n",
      "241.0\n"
     ]
    }
   ],
   "source": [
    "Q1 = df['Height (cm)'].quantile(0.25)\n",
    "Q3 = df['Height (cm)'].quantile(0.75)\n",
    "IQR = Q3 - Q1\n",
    "\n",
    "# Calcular los límites para identificar valores atípicos\n",
    "limite_inferior = Q1 - 1.5 * IQR\n",
    "limite_superior = Q3 + 1.5 * IQR\n",
    "\n",
    "# Identificar valores atípicos\n",
    "valores_atipicos = df[(df['Height (cm)'] < limite_inferior) | (df['Height (cm)'] > limite_superior)]\n",
    "\n",
    "# Encontrar el valor máximo atípico\n",
    "valor_maximo_atipico = valores_atipicos['Height (cm)'].max()\n",
    "\n",
    "print(\"Valor máximo atípico:\")\n",
    "print(valor_maximo_atipico)"
   ]
  },
  {
   "cell_type": "code",
   "execution_count": 53,
   "id": "efa451f0",
   "metadata": {},
   "outputs": [],
   "source": [
    "df = df[df['Height (cm)'] != valor_maximo_atipico]"
   ]
  },
  {
   "cell_type": "code",
   "execution_count": 54,
   "id": "8c2b83b0",
   "metadata": {},
   "outputs": [
    {
     "data": {
      "image/png": "[encoded data removed]",
      "text/plain": [
       "<Figure size 640x480 with 1 Axes>"
      ]
     },
     "metadata": {},
     "output_type": "display_data"
    }
   ],
   "source": [
    "plt.boxplot(df['Height (cm)'], vert = False)\n",
    "plt.title('Boxplot')\n",
    "plt.ylabel('Values')\n",
    "plt.xlabel('Height (cm)')\n",
    "plt.show()"
   ]
  },
  {
   "cell_type": "code",
   "execution_count": 55,
   "id": "2b1550e6",
   "metadata": {},
   "outputs": [
    {
     "name": "stdout",
     "output_type": "stream",
     "text": [
      "La cantidad de datos atípicos es: 1054\n"
     ]
    }
   ],
   "source": [
    "# Calcula el rango intercuartílico (IQR)\n",
    "Q1 = df['Height (cm)'].quantile(0.25)\n",
    "Q3 = df['Height (cm)'].quantile(0.75)\n",
    "IQR = Q3 - Q1\n",
    "\n",
    "# Define el límite para identificar outliers\n",
    "limite_superior = Q3 + 1.5 * IQR\n",
    "limite_inferior = Q1 - 1.5 * IQR\n",
    "\n",
    "# Filtra los valores atípicos\n",
    "atipicos = df[(df['Height (cm)'] < limite_inferior) | (df['Height (cm)'] > limite_superior)]\n",
    "\n",
    "# Cuenta los valores atípicos\n",
    "cantidad_atipicos = len(atipicos)\n",
    "\n",
    "print(f\"La cantidad de datos atípicos es: {cantidad_atipicos}\")"
   ]
  },
  {
   "cell_type": "code",
   "execution_count": 56,
   "id": "a8d4c335",
   "metadata": {},
   "outputs": [
    {
     "name": "stdout",
     "output_type": "stream",
     "text": [
      "El valor 1054 representa aproximadamente el 0.34% del total de datos\n"
     ]
    }
   ],
   "source": [
    "total_filas = len(df)  # Número total de filas en el DataFrame\n",
    "valor_especifico = cantidad_atipicos  # Value to calculate\n",
    "\n",
    "# Calcula el porcentaje\n",
    "porcentaje = (valor_especifico / total_filas) * 100\n",
    "\n",
    "print(f\"El valor {valor_especifico} representa aproximadamente el {porcentaje:.2f}% del total de datos\")"
   ]
  },
  {
   "cell_type": "code",
   "execution_count": 57,
   "id": "3522652c",
   "metadata": {},
   "outputs": [],
   "source": [
    "# Filtra y conserva solo los valores dentro del rango\n",
    "df = df[(df['Height (cm)'] >= 100) & (df['Height (cm)'] <= 200)]"
   ]
  },
  {
   "cell_type": "code",
   "execution_count": 58,
   "id": "4c0acf24",
   "metadata": {},
   "outputs": [
    {
     "data": {
      "image/png": "[encoded data removed]",
      "text/plain": [
       "<Figure size 640x480 with 1 Axes>"
      ]
     },
     "metadata": {},
     "output_type": "display_data"
    }
   ],
   "source": [
    "plt.boxplot(df['Height (cm)'], vert = False)\n",
    "plt.title('Boxplot')\n",
    "plt.ylabel('Values')\n",
    "plt.xlabel('Height (cm)')\n",
    "plt.show()"
   ]
  },
  {
   "cell_type": "code",
   "execution_count": 59,
   "id": "82c1aac0",
   "metadata": {},
   "outputs": [],
   "source": [
    "# Calculate again the media\n",
    "# Define el límite para identificar outliers\n",
    "limite_superior = Q3 + 1.5 * IQR\n",
    "limite_inferior = Q1 - 1.5 * IQR\n",
    "\n",
    "# Reemplaza los valores atípicos por la media de la columna\n",
    "media_columna = df['Height (cm)'].mean()\n",
    "df['Height (cm)'] = df['Height (cm)'].apply(lambda x: media_columna if x < limite_inferior or x > limite_superior else x)"
   ]
  },
  {
   "cell_type": "code",
   "execution_count": 60,
   "id": "4875e936",
   "metadata": {},
   "outputs": [
    {
     "data": {
      "image/png": "[encoded data removed]",
      "text/plain": [
       "<Figure size 640x480 with 1 Axes>"
      ]
     },
     "metadata": {},
     "output_type": "display_data"
    }
   ],
   "source": [
    "plt.boxplot(df['Height (cm)'], vert = False)\n",
    "plt.title('Boxplot')\n",
    "plt.ylabel('Values')\n",
    "plt.xlabel('Height (cm)')\n",
    "plt.show()"
   ]
  },
  {
   "cell_type": "code",
   "execution_count": 61,
   "id": "17566b0a",
   "metadata": {},
   "outputs": [
    {
     "data": {
      "text/plain": [
       "count    308234.000000\n",
       "mean        170.610649\n",
       "std          10.427360\n",
       "min         142.000000\n",
       "25%         163.000000\n",
       "50%         170.000000\n",
       "75%         178.000000\n",
       "max         200.000000\n",
       "Name: Height (cm), dtype: float64"
      ]
     },
     "execution_count": 61,
     "metadata": {},
     "output_type": "execute_result"
    }
   ],
   "source": [
    "df['Height (cm)'].describe()"
   ]
  },
  {
   "cell_type": "markdown",
   "id": "5a1d38e9",
   "metadata": {},
   "source": [
    "### Weight (kg)"
   ]
  },
  {
   "cell_type": "code",
   "execution_count": 62,
   "id": "01f06af1",
   "metadata": {},
   "outputs": [
    {
     "data": {
      "image/png": "[encoded data removed]",
      "text/plain": [
       "<Figure size 640x480 with 1 Axes>"
      ]
     },
     "metadata": {},
     "output_type": "display_data"
    }
   ],
   "source": [
    "plt.boxplot(df['Weight (kg)'], vert = False)\n",
    "plt.title('Boxplot')\n",
    "plt.xlabel('Weight (kg)')\n",
    "plt.ylabel('Value')\n",
    "plt.show()"
   ]
  },
  {
   "cell_type": "code",
   "execution_count": 63,
   "id": "818cbd83",
   "metadata": {},
   "outputs": [
    {
     "data": {
      "text/plain": [
       "count    308234.000000\n",
       "mean         83.538195\n",
       "std          21.293934\n",
       "min          24.950000\n",
       "25%          68.040000\n",
       "50%          81.650000\n",
       "75%          95.250000\n",
       "max         293.020000\n",
       "Name: Weight (kg), dtype: float64"
      ]
     },
     "execution_count": 63,
     "metadata": {},
     "output_type": "execute_result"
    }
   ],
   "source": [
    "df['Weight (kg)'].describe()"
   ]
  },
  {
   "cell_type": "code",
   "execution_count": 64,
   "id": "44136485",
   "metadata": {},
   "outputs": [
    {
     "name": "stdout",
     "output_type": "stream",
     "text": [
      "La cantidad de datos atípicos es: 7210\n"
     ]
    }
   ],
   "source": [
    "# Calcula el rango intercuartílico (IQR)\n",
    "Q1 = df['Weight (kg)'].quantile(0.25)\n",
    "Q3 = df['Weight (kg)'].quantile(0.75)\n",
    "IQR = Q3 - Q1\n",
    "\n",
    "# Define el límite para identificar outliers\n",
    "limite_superior = Q3 + 1.5 * IQR\n",
    "limite_inferior = Q1 - 1.5 * IQR\n",
    "\n",
    "# Filtra los valores atípicos\n",
    "atipicos = df[(df['Weight (kg)'] < limite_inferior) | (df['Weight (kg)'] > limite_superior)]\n",
    "\n",
    "# Cuenta los valores atípicos\n",
    "cantidad_atipicos = len(atipicos)\n",
    "\n",
    "print(f\"La cantidad de datos atípicos es: {cantidad_atipicos}\")"
   ]
  },
  {
   "cell_type": "code",
   "execution_count": 65,
   "id": "12fa86f9",
   "metadata": {},
   "outputs": [
    {
     "name": "stdout",
     "output_type": "stream",
     "text": [
      "El valor 7210 representa aproximadamente el 2.33% del total de datos\n"
     ]
    }
   ],
   "source": [
    "total_filas = 308854  # Número total de filas en el DataFrame\n",
    "valor_especifico = cantidad_atipicos  # El valor que deseas calcular\n",
    "\n",
    "# Calcula el porcentaje\n",
    "porcentaje = (valor_especifico / total_filas) * 100\n",
    "\n",
    "print(f\"El valor {valor_especifico} representa aproximadamente el {porcentaje:.2f}% del total de datos\")"
   ]
  },
  {
   "cell_type": "code",
   "execution_count": 66,
   "id": "d4265ed5",
   "metadata": {},
   "outputs": [
    {
     "data": {
      "text/plain": [
       "83.53819455348858"
      ]
     },
     "execution_count": 66,
     "metadata": {},
     "output_type": "execute_result"
    }
   ],
   "source": [
    "df['Weight (kg)'].mean()"
   ]
  },
  {
   "cell_type": "code",
   "execution_count": 67,
   "id": "1b2fe825",
   "metadata": {},
   "outputs": [
    {
     "data": {
      "text/plain": [
       "170.61064933971124"
      ]
     },
     "execution_count": 67,
     "metadata": {},
     "output_type": "execute_result"
    }
   ],
   "source": [
    "df['Height (cm)'].mean()"
   ]
  },
  {
   "cell_type": "code",
   "execution_count": 68,
   "id": "8e251a57",
   "metadata": {},
   "outputs": [],
   "source": [
    "df = df[(df['Weight (kg)'] >= 35) & (df['Weight (kg)'] <= 120)]"
   ]
  },
  {
   "cell_type": "code",
   "execution_count": 69,
   "id": "20446880",
   "metadata": {},
   "outputs": [
    {
     "data": {
      "image/png": "[encoded data removed]",
      "text/plain": [
       "<Figure size 640x480 with 1 Axes>"
      ]
     },
     "metadata": {},
     "output_type": "display_data"
    }
   ],
   "source": [
    "plt.boxplot(df['Weight (kg)'], vert = False)\n",
    "plt.title('Boxplot')\n",
    "plt.xlabel('Weight (kg)')\n",
    "plt.ylabel('Values')\n",
    "plt.show()"
   ]
  },
  {
   "cell_type": "code",
   "execution_count": 70,
   "id": "a9afa0ec",
   "metadata": {},
   "outputs": [
    {
     "data": {
      "text/plain": [
       "count    290241.000000\n",
       "mean         80.301119\n",
       "std          16.785265\n",
       "min          35.380000\n",
       "25%          68.040000\n",
       "50%          79.380000\n",
       "75%          90.720000\n",
       "max         120.000000\n",
       "Name: Weight (kg), dtype: float64"
      ]
     },
     "execution_count": 70,
     "metadata": {},
     "output_type": "execute_result"
    }
   ],
   "source": [
    "df['Weight (kg)'].describe()"
   ]
  },
  {
   "cell_type": "markdown",
   "id": "c26d769e",
   "metadata": {},
   "source": [
    "### "
   ]
  },
  {
   "cell_type": "code",
   "execution_count": 71,
   "id": "edd749f4",
   "metadata": {},
   "outputs": [
    {
     "name": "stdout",
     "output_type": "stream",
     "text": [
      "La cantidad de datos atípicos es: 0\n"
     ]
    }
   ],
   "source": [
    "Q1 = df['Weight (kg)'].quantile(0.25)\n",
    "Q3 = df['Weight (kg)'].quantile(0.75)\n",
    "IQR = Q3 - Q1\n",
    "\n",
    "# Define el límite para identificar outliers\n",
    "limite_superior = Q3 + 1.5 * IQR\n",
    "limite_inferior = Q1 - 1.5 * IQR\n",
    "\n",
    "# Filtra los valores atípicos\n",
    "atipicos = df[(df['Weight (kg)'] < limite_inferior) | (df['Weight (kg)'] > limite_superior)]\n",
    "\n",
    "# Cuenta los valores atípicos\n",
    "cantidad_atipicos = len(atipicos)\n",
    "\n",
    "print(f\"La cantidad de datos atípicos es: {cantidad_atipicos}\")"
   ]
  },
  {
   "cell_type": "markdown",
   "id": "09615a23",
   "metadata": {},
   "source": [
    "### Column BMI"
   ]
  },
  {
   "cell_type": "code",
   "execution_count": 72,
   "id": "9c2b9d78",
   "metadata": {},
   "outputs": [
    {
     "data": {
      "image/png": "[encoded data removed]",
      "text/plain": [
       "<Figure size 640x480 with 1 Axes>"
      ]
     },
     "metadata": {},
     "output_type": "display_data"
    }
   ],
   "source": [
    "plt.boxplot(df['BMI'], vert = False)\n",
    "plt.title('Boxplot')\n",
    "plt.xlabel('BMI')\n",
    "plt.ylabel('Values')\n",
    "plt.show()"
   ]
  },
  {
   "cell_type": "code",
   "execution_count": 73,
   "id": "e7079802",
   "metadata": {},
   "outputs": [
    {
     "data": {
      "text/plain": [
       "count    290241.000000\n",
       "mean         27.790387\n",
       "std          12.900248\n",
       "min          12.050000\n",
       "25%          24.030000\n",
       "50%          27.200000\n",
       "75%          30.900000\n",
       "max        4000.000000\n",
       "Name: BMI, dtype: float64"
      ]
     },
     "execution_count": 73,
     "metadata": {},
     "output_type": "execute_result"
    }
   ],
   "source": [
    "df['BMI'].describe()"
   ]
  },
  {
   "cell_type": "code",
   "execution_count": 74,
   "id": "eed7c12f",
   "metadata": {},
   "outputs": [
    {
     "data": {
      "image/png": "[encoded data removed]",
      "text/plain": [
       "<Figure size 640x480 with 1 Axes>"
      ]
     },
     "metadata": {},
     "output_type": "display_data"
    }
   ],
   "source": [
    "df = df[(df['BMI'] <= 2000)]\n",
    "plt.boxplot(df['BMI'], vert = False)\n",
    "plt.title('Boxplot')\n",
    "plt.xlabel('BMI')\n",
    "plt.ylabel('Values')\n",
    "plt.show()"
   ]
  },
  {
   "cell_type": "code",
   "execution_count": 75,
   "id": "7cc5abcc",
   "metadata": {},
   "outputs": [
    {
     "name": "stdout",
     "output_type": "stream",
     "text": [
      "La cantidad de datos atípicos es: 4637\n"
     ]
    }
   ],
   "source": [
    "# Calcula el rango intercuartílico (IQR)\n",
    "Q1 = df['BMI'].quantile(0.25)\n",
    "Q3 = df['BMI'].quantile(0.75)\n",
    "IQR = Q3 - Q1\n",
    "\n",
    "# Define el límite para identificar outliers\n",
    "limite_superior = Q3 + 1.5 * IQR\n",
    "limite_inferior = Q1 - 1.5 * IQR\n",
    "\n",
    "# Filtra los valores atípicos\n",
    "atipicos = df[(df['BMI'] < limite_inferior) | (df['BMI'] > limite_superior)]\n",
    "\n",
    "# Cuenta los valores atípicos\n",
    "cantidad_atipicos = len(atipicos)\n",
    "\n",
    "print(f\"La cantidad de datos atípicos es: {cantidad_atipicos}\")"
   ]
  },
  {
   "cell_type": "code",
   "execution_count": 76,
   "id": "38dc021c",
   "metadata": {},
   "outputs": [
    {
     "name": "stdout",
     "output_type": "stream",
     "text": [
      "El valor 4637 representa aproximadamente el 1.60% del total de datos\n"
     ]
    }
   ],
   "source": [
    "total_filas = len(df)  # Número total de filas en el DataFrame\n",
    "valor_especifico = cantidad_atipicos  #Value to calculate\n",
    "\n",
    "# Calcula el porcentaje\n",
    "porcentaje = (valor_especifico / total_filas) * 100\n",
    "\n",
    "print(f\"El valor {valor_especifico} representa aproximadamente el {porcentaje:.2f}% del total de datos\")"
   ]
  },
  {
   "cell_type": "code",
   "execution_count": 77,
   "id": "ecf605b7",
   "metadata": {},
   "outputs": [],
   "source": [
    "df = df[(df['BMI'] >= 14) & (df['BMI'] <= 40)]"
   ]
  },
  {
   "cell_type": "code",
   "execution_count": 78,
   "id": "4d20222b",
   "metadata": {},
   "outputs": [
    {
     "data": {
      "image/png": "[encoded data removed]",
      "text/plain": [
       "<Figure size 640x480 with 1 Axes>"
      ]
     },
     "metadata": {},
     "output_type": "display_data"
    }
   ],
   "source": [
    "plt.boxplot(df['BMI'], vert = False)\n",
    "plt.title('Boxplot')\n",
    "plt.xlabel('BMI')\n",
    "plt.ylabel('Values')\n",
    "plt.show()"
   ]
  },
  {
   "cell_type": "code",
   "execution_count": 79,
   "id": "cde4b970",
   "metadata": {},
   "outputs": [
    {
     "data": {
      "text/plain": [
       "count    283309.000000\n",
       "mean         27.374410\n",
       "std           4.753228\n",
       "min          14.000000\n",
       "25%          23.890000\n",
       "50%          27.050000\n",
       "75%          30.540000\n",
       "max          39.990000\n",
       "Name: BMI, dtype: float64"
      ]
     },
     "execution_count": 79,
     "metadata": {},
     "output_type": "execute_result"
    }
   ],
   "source": [
    "df['BMI'].describe()"
   ]
  },
  {
   "cell_type": "markdown",
   "id": "4ad82789",
   "metadata": {},
   "source": [
    "### Column Alcohol Consumption"
   ]
  },
  {
   "cell_type": "code",
   "execution_count": 80,
   "id": "cac2b9a7",
   "metadata": {},
   "outputs": [
    {
     "data": {
      "image/png": "[encoded data removed]",
      "text/plain": [
       "<Figure size 640x480 with 1 Axes>"
      ]
     },
     "metadata": {},
     "output_type": "display_data"
    }
   ],
   "source": [
    "plt.boxplot(df['Alcohol Consumption'], vert = False)\n",
    "plt.title('Boxplot')\n",
    "plt.xlabel('Alcohol Consumption')\n",
    "plt.ylabel('Values')\n",
    "plt.show()"
   ]
  },
  {
   "cell_type": "code",
   "execution_count": 81,
   "id": "20ff8b63",
   "metadata": {},
   "outputs": [
    {
     "data": {
      "text/plain": [
       "count    283309.000000\n",
       "mean          5.247521\n",
       "std           8.307332\n",
       "min           0.000000\n",
       "25%           0.000000\n",
       "50%           1.000000\n",
       "75%           7.000000\n",
       "max          30.000000\n",
       "Name: Alcohol Consumption, dtype: float64"
      ]
     },
     "execution_count": 81,
     "metadata": {},
     "output_type": "execute_result"
    }
   ],
   "source": [
    "df['Alcohol Consumption'].describe()"
   ]
  },
  {
   "cell_type": "code",
   "execution_count": 82,
   "id": "12f1f805",
   "metadata": {},
   "outputs": [
    {
     "name": "stdout",
     "output_type": "stream",
     "text": [
      "La cantidad de datos atípicos es: 30929\n"
     ]
    }
   ],
   "source": [
    "# Calcula el rango intercuartílico (IQR)\n",
    "Q1 = df['Alcohol Consumption'].quantile(0.25)\n",
    "Q3 = df['Alcohol Consumption'].quantile(0.75)\n",
    "IQR = Q3 - Q1\n",
    "\n",
    "# Define el límite para identificar outliers\n",
    "limite_superior = Q3 + 1.5 * IQR\n",
    "limite_inferior = Q1 - 1.5 * IQR\n",
    "\n",
    "# Filtra los valores atípicos\n",
    "atipicos = df[(df['Alcohol Consumption'] < limite_inferior) | (df['Alcohol Consumption'] > limite_superior)]\n",
    "\n",
    "# Cuenta los valores atípicos\n",
    "cantidad_atipicos = len(atipicos)\n",
    "\n",
    "print(f\"La cantidad de datos atípicos es: {cantidad_atipicos}\")"
   ]
  },
  {
   "cell_type": "code",
   "execution_count": 83,
   "id": "58fb696f",
   "metadata": {},
   "outputs": [
    {
     "name": "stdout",
     "output_type": "stream",
     "text": [
      "El valor 30929 representa aproximadamente el 10.92% del total de datos\n"
     ]
    }
   ],
   "source": [
    "total_filas = len(df)  # Número total de filas en el DataFrame\n",
    "valor_especifico = cantidad_atipicos  # El valor que deseas calcular\n",
    "\n",
    "# Calcula el porcentaje\n",
    "porcentaje = (valor_especifico / total_filas) * 100\n",
    "\n",
    "print(f\"El valor {valor_especifico} representa aproximadamente el {porcentaje:.2f}% del total de datos\")"
   ]
  },
  {
   "cell_type": "code",
   "execution_count": 84,
   "id": "f41a4fb8",
   "metadata": {},
   "outputs": [
    {
     "name": "stdout",
     "output_type": "stream",
     "text": [
      "Valor máximo atípico:\n",
      "30\n"
     ]
    }
   ],
   "source": [
    "# Encontrar el valor máximo atípico\n",
    "valor_maximo_atipico = valores_atipicos['Alcohol Consumption'].max()\n",
    "\n",
    "print(\"Valor máximo atípico:\")\n",
    "print(valor_maximo_atipico)"
   ]
  },
  {
   "cell_type": "markdown",
   "id": "f56e879c",
   "metadata": {},
   "source": [
    "Se mantienen, ya que personas alcoholicas toman todos los días (30 días por mes)"
   ]
  },
  {
   "cell_type": "markdown",
   "id": "6a040f7f",
   "metadata": {},
   "source": [
    "### Column Fruit Consumption"
   ]
  },
  {
   "cell_type": "code",
   "execution_count": 85,
   "id": "b2a492af",
   "metadata": {},
   "outputs": [
    {
     "data": {
      "text/plain": [
       "array([30, 12, 8, 16, 2, 1, 60, 0, 7, 5, 3, 6, 90, 28, 20, 4, 80, 24, 15,\n",
       "       10, 25, 14, 120, 32, 40, 17, 45, 100, 9, 99, 96, 35, 50, 56, 48,\n",
       "       72, 36, 84, 26, 23, 18, 27, 21, 42, 22, 11, 29, 64, 70, 33, 76, 44,\n",
       "       39, 75, 31, 92, 104, 88, 65, '40', '60', '12', '16', '2', '10',\n",
       "       '8', '30', '24', '3', '90', '4', '120', '5', '28', '99', '7', '0',\n",
       "       '15', '20', '6', '1', '48', '45', '70', '27', '25', '96', '32',\n",
       "       '11', '35', '9', '14', '29', '55', '13', '17', '18', '56', '23',\n",
       "       '31', '26', '44', '21', '22', '50', '100', '36', '63', '80', '65',\n",
       "       '97', '75', 'No', 'Yes', '108', '19', '88', 52, 19, 13, 98, 68,\n",
       "       '33', '64', '84', '34', '68', '72', '116', '112', '92', 34, 54, 55,\n",
       "       112, 38, 62, 85], dtype=object)"
      ]
     },
     "execution_count": 85,
     "metadata": {},
     "output_type": "execute_result"
    }
   ],
   "source": [
    "Valores_unicos_Fruit = df['Fruit Consumption'].unique()\n",
    "Valores_unicos_Fruit"
   ]
  },
  {
   "cell_type": "code",
   "execution_count": 86,
   "id": "ed4a96f2",
   "metadata": {},
   "outputs": [
    {
     "name": "stdout",
     "output_type": "stream",
     "text": [
      "El valor 'Yes' se repite 3 veces.\n",
      "El valor 'No' se repite 4 veces.\n"
     ]
    }
   ],
   "source": [
    "valor_yes = 'Yes'\n",
    "valor_no = 'No'\n",
    "# Usa el método value_counts() y selecciona el valor específico\n",
    "conteo_valor_especifico = df['Fruit Consumption'].value_counts()[valor_yes]\n",
    "# Muestra el resultado\n",
    "print(f\"El valor '{valor_yes}' se repite {conteo_valor_especifico} veces.\")\n",
    "conteo_valor_especifico = df['Fruit Consumption'].value_counts()[valor_no]\n",
    "\n",
    "print(f\"El valor '{valor_no}' se repite {conteo_valor_especifico} veces.\")\n"
   ]
  },
  {
   "cell_type": "code",
   "execution_count": 87,
   "id": "9628f55c",
   "metadata": {},
   "outputs": [],
   "source": [
    "# Valores que deseas eliminar ('yes' y 'no')\n",
    "valores_a_eliminar = ['Yes', 'No']\n",
    "\n",
    "# Filtra las filas que NO contienen los valores especificados\n",
    "df = df[~df['Fruit Consumption'].isin(valores_a_eliminar)]"
   ]
  },
  {
   "cell_type": "code",
   "execution_count": 88,
   "id": "c08ae87c",
   "metadata": {},
   "outputs": [],
   "source": [
    "df['Fruit Consumption'] = df['Fruit Consumption'].astype(int)"
   ]
  },
  {
   "cell_type": "code",
   "execution_count": 89,
   "id": "7ea3ec0b",
   "metadata": {},
   "outputs": [
    {
     "data": {
      "text/plain": [
       "array([ 30,  12,   8,  16,   2,   1,  60,   0,   7,   5,   3,   6,  90,\n",
       "        28,  20,   4,  80,  24,  15,  10,  25,  14, 120,  32,  40,  17,\n",
       "        45, 100,   9,  99,  96,  35,  50,  56,  48,  72,  36,  84,  26,\n",
       "        23,  18,  27,  21,  42,  22,  11,  29,  64,  70,  33,  76,  44,\n",
       "        39,  75,  31,  92, 104,  88,  65,  55,  13,  63,  97, 108,  19,\n",
       "        52,  98,  68,  34, 116, 112,  54,  38,  62,  85])"
      ]
     },
     "execution_count": 89,
     "metadata": {},
     "output_type": "execute_result"
    }
   ],
   "source": [
    "Valores_unicos_Fruit = df['Fruit Consumption'].unique()\n",
    "Valores_unicos_Fruit"
   ]
  },
  {
   "cell_type": "code",
   "execution_count": 90,
   "id": "376af572",
   "metadata": {},
   "outputs": [
    {
     "data": {
      "image/png": "[encoded data removed]",
      "text/plain": [
       "<Figure size 640x480 with 1 Axes>"
      ]
     },
     "metadata": {},
     "output_type": "display_data"
    }
   ],
   "source": [
    "plt.boxplot(df['Fruit Consumption'], vert = False)\n",
    "plt.title('Boxplot')\n",
    "plt.xlabel('Fruit Consumption')\n",
    "plt.ylabel('Values')\n",
    "plt.show()"
   ]
  },
  {
   "cell_type": "code",
   "execution_count": 91,
   "id": "fcf0620b",
   "metadata": {},
   "outputs": [
    {
     "data": {
      "text/plain": [
       "count    283302.000000\n",
       "mean         30.163952\n",
       "std          24.950803\n",
       "min           0.000000\n",
       "25%          12.000000\n",
       "50%          30.000000\n",
       "75%          30.000000\n",
       "max         120.000000\n",
       "Name: Fruit Consumption, dtype: float64"
      ]
     },
     "execution_count": 91,
     "metadata": {},
     "output_type": "execute_result"
    }
   ],
   "source": [
    "df['Fruit Consumption'].describe()"
   ]
  },
  {
   "cell_type": "code",
   "execution_count": 92,
   "id": "dcbaec3a",
   "metadata": {},
   "outputs": [
    {
     "name": "stdout",
     "output_type": "stream",
     "text": [
      "La cantidad de datos atípicos es: 63698\n"
     ]
    }
   ],
   "source": [
    "# Calcula el rango intercuartílico (IQR)\n",
    "Q1 = df['Fruit Consumption'].quantile(0.25)\n",
    "Q3 = df['Fruit Consumption'].quantile(0.75)\n",
    "IQR = Q3 - Q1\n",
    "\n",
    "# Define el límite para identificar outliers\n",
    "limite_superior = Q3 + 1.5 * IQR\n",
    "limite_inferior = Q1 - 1.5 * IQR\n",
    "\n",
    "# Filtra los valores atípicos\n",
    "atipicos = df[(df['Fruit Consumption'] < limite_inferior) | (df['Fruit Consumption'] > limite_superior)]\n",
    "\n",
    "# Cuenta los valores atípicos\n",
    "cantidad_atipicos = len(atipicos)\n",
    "\n",
    "print(f\"La cantidad de datos atípicos es: {cantidad_atipicos}\")"
   ]
  },
  {
   "cell_type": "code",
   "execution_count": 93,
   "id": "b3ce334e",
   "metadata": {},
   "outputs": [
    {
     "name": "stdout",
     "output_type": "stream",
     "text": [
      "El valor 63698 representa aproximadamente el 22.48% del total de datos\n"
     ]
    }
   ],
   "source": [
    "total_filas = len(df)  # Número total de filas en el DataFrame\n",
    "valor_especifico = cantidad_atipicos  # El valor que deseas calcular\n",
    "\n",
    "# Calcula el porcentaje\n",
    "porcentaje = (valor_especifico / total_filas) * 100\n",
    "\n",
    "print(f\"El valor {valor_especifico} representa aproximadamente el {porcentaje:.2f}% del total de datos\")"
   ]
  },
  {
   "cell_type": "code",
   "execution_count": 94,
   "id": "5468aa11",
   "metadata": {},
   "outputs": [
    {
     "name": "stdout",
     "output_type": "stream",
     "text": [
      "Valor máximo atípico:\n",
      "120\n"
     ]
    }
   ],
   "source": [
    "# Encontrar el valor máximo atípico\n",
    "valor_maximo_atipico = atipicos['Fruit Consumption'].max()\n",
    "\n",
    "print(\"Valor máximo atípico:\")\n",
    "print(valor_maximo_atipico)"
   ]
  },
  {
   "cell_type": "code",
   "execution_count": 95,
   "id": "aad21888",
   "metadata": {},
   "outputs": [
    {
     "data": {
      "text/plain": [
       "dtype('int64')"
      ]
     },
     "execution_count": 95,
     "metadata": {},
     "output_type": "execute_result"
    }
   ],
   "source": [
    "df['Fruit Consumption'].dtype"
   ]
  },
  {
   "cell_type": "markdown",
   "id": "ce8e2b51",
   "metadata": {},
   "source": [
    "### Green_Vegetables_Consumption"
   ]
  },
  {
   "cell_type": "code",
   "execution_count": 96,
   "id": "3d965ee9",
   "metadata": {},
   "outputs": [
    {
     "data": {
      "text/plain": [
       "array([  0,   3,  30,   4,   8,  12,  20,   1,  16,  10,   2,   5,   6,\n",
       "        60,  28,  25,  14,  40,   7,  22,  24,  15, 120,  90,  19,  13,\n",
       "        11,  80,  27,  17,  56,  18,  21,  99,   9,  29,  31,  45,  23,\n",
       "       100, 104,  32,  75,  36,  35, 112,  26,  33,  48,  96,  52,  76,\n",
       "        84,  50,  34,  97,  88,  68,  92,  95,  64,  61,  65,  77, 124,\n",
       "        85,  44,  39,  70,  93, 128,  37])"
      ]
     },
     "execution_count": 96,
     "metadata": {},
     "output_type": "execute_result"
    }
   ],
   "source": [
    "Valores_unicos_green = df['Green_Vegetables_Consumption'].unique()\n",
    "Valores_unicos_green"
   ]
  },
  {
   "cell_type": "code",
   "execution_count": 97,
   "id": "7406ff19",
   "metadata": {},
   "outputs": [
    {
     "name": "stdout",
     "output_type": "stream",
     "text": [
      "La cantidad de datos atípicos es: 11154\n"
     ]
    }
   ],
   "source": [
    "# Calcula el rango intercuartílico (IQR)\n",
    "Q1 = df['Green_Vegetables_Consumption'].quantile(0.25)\n",
    "Q3 = df['Green_Vegetables_Consumption'].quantile(0.75)\n",
    "IQR = Q3 - Q1\n",
    "\n",
    "# Define el límite para identificar outliers\n",
    "limite_superior = Q3 + 1.5 * IQR\n",
    "limite_inferior = Q1 - 1.5 * IQR\n",
    "\n",
    "# Filtra los valores atípicos\n",
    "atipicos = df[(df['Green_Vegetables_Consumption'] < limite_inferior) | (df['Green_Vegetables_Consumption'] > limite_superior)]\n",
    "\n",
    "# Cuenta los valores atípicos\n",
    "cantidad_atipicos = len(atipicos)\n",
    "\n",
    "print(f\"La cantidad de datos atípicos es: {cantidad_atipicos}\")"
   ]
  },
  {
   "cell_type": "code",
   "execution_count": 98,
   "id": "0a925728",
   "metadata": {},
   "outputs": [
    {
     "name": "stdout",
     "output_type": "stream",
     "text": [
      "El valor 11154 representa aproximadamente el 3.94% del total de datos\n"
     ]
    }
   ],
   "source": [
    "total_filas = len(df)  # Número total de filas en el DataFrame\n",
    "valor_especifico = cantidad_atipicos  # El valor que deseas calcular\n",
    "\n",
    "# Calcula el porcentaje\n",
    "porcentaje = (valor_especifico / total_filas) * 100\n",
    "\n",
    "print(f\"El valor {valor_especifico} representa aproximadamente el {porcentaje:.2f}% del total de datos\")"
   ]
  },
  {
   "cell_type": "code",
   "execution_count": 99,
   "id": "260e35cb",
   "metadata": {},
   "outputs": [
    {
     "data": {
      "image/png": "[encoded data removed]",
      "text/plain": [
       "<Figure size 640x480 with 1 Axes>"
      ]
     },
     "metadata": {},
     "output_type": "display_data"
    }
   ],
   "source": [
    "plt.boxplot(df['Green_Vegetables_Consumption'], vert = False)\n",
    "plt.title('Boxplot')\n",
    "plt.xlabel('Green_Vegetables_Consumption')\n",
    "plt.ylabel('Values')\n",
    "plt.show()"
   ]
  },
  {
   "cell_type": "markdown",
   "id": "791a898d",
   "metadata": {},
   "source": [
    "### Column FriedPotato Consumption"
   ]
  },
  {
   "cell_type": "code",
   "execution_count": 100,
   "id": "97396ef0",
   "metadata": {},
   "outputs": [
    {
     "data": {
      "image/png": "[encoded data removed]",
      "text/plain": [
       "<Figure size 640x480 with 1 Axes>"
      ]
     },
     "metadata": {},
     "output_type": "display_data"
    }
   ],
   "source": [
    "plt.boxplot(df['FriedPotato Consumption'], vert = False)\n",
    "plt.title('Boxplot')\n",
    "plt.xlabel('FriedPotato Consumption')\n",
    "plt.ylabel('Values')\n",
    "plt.show()"
   ]
  },
  {
   "cell_type": "code",
   "execution_count": 101,
   "id": "be2bc858",
   "metadata": {},
   "outputs": [
    {
     "name": "stdout",
     "output_type": "stream",
     "text": [
      "La cantidad de datos atípicos es: 17336\n"
     ]
    }
   ],
   "source": [
    "# Calcula el rango intercuartílico (IQR)\n",
    "Q1 = df['FriedPotato Consumption'].quantile(0.25)\n",
    "Q3 = df['FriedPotato Consumption'].quantile(0.75)\n",
    "IQR = Q3 - Q1\n",
    "\n",
    "# Define el límite para identificar outliers\n",
    "limite_superior = Q3 + 1.5 * IQR\n",
    "limite_inferior = Q1 - 1.5 * IQR\n",
    "\n",
    "# Filtra los valores atípicos\n",
    "atipicos = df[(df['FriedPotato Consumption'] < limite_inferior) | (df['FriedPotato Consumption'] > limite_superior)]\n",
    "\n",
    "# Cuenta los valores atípicos\n",
    "cantidad_atipicos = len(atipicos)\n",
    "\n",
    "print(f\"La cantidad de datos atípicos es: {cantidad_atipicos}\")"
   ]
  },
  {
   "cell_type": "code",
   "execution_count": 102,
   "id": "93868cc9",
   "metadata": {},
   "outputs": [
    {
     "name": "stdout",
     "output_type": "stream",
     "text": [
      "El valor 17336 representa aproximadamente el 6.12% del total de datos\n"
     ]
    }
   ],
   "source": [
    "total_filas = len(df)  # Número total de filas en el DataFrame\n",
    "valor_especifico = cantidad_atipicos  # El valor que deseas calcular\n",
    "\n",
    "# Calcula el porcentaje\n",
    "porcentaje = (valor_especifico / total_filas) * 100\n",
    "\n",
    "print(f\"El valor {valor_especifico} representa aproximadamente el {porcentaje:.2f}% del total de datos\")"
   ]
  },
  {
   "cell_type": "markdown",
   "id": "90251d66",
   "metadata": {},
   "source": [
    "## Formato DataFrame"
   ]
  },
  {
   "cell_type": "code",
   "execution_count": 103,
   "id": "b56fee2d",
   "metadata": {},
   "outputs": [
    {
     "data": {
      "text/plain": [
       "Index(['General_Health', 'Checkup', 'Exercise', 'Heart_Disease', 'Skin_Cancer',\n",
       "       'Other_Cancer', 'Depression', 'Diabetes', 'Arthritis', 'Sex',\n",
       "       'Age_Category', 'Height_(cm)', 'Weight_(kg)', 'BMI', 'Smoking_History',\n",
       "       'Alcohol_Consumption', 'Fruit_Consumption',\n",
       "       'Green_Vegetables_Consumption', 'FriedPotato_Consumption'],\n",
       "      dtype='object')"
      ]
     },
     "execution_count": 103,
     "metadata": {},
     "output_type": "execute_result"
    }
   ],
   "source": [
    "# strip remueve los espacios antes y despues de la palabra\n",
    "\n",
    "df.columns = [i.strip().replace(' ', '_') for i in df.columns]\n",
    "df.columns"
   ]
  },
  {
   "cell_type": "code",
   "execution_count": 104,
   "id": "8b09d9e6",
   "metadata": {},
   "outputs": [
    {
     "data": {
      "text/plain": [
       "General_Health                   object\n",
       "Checkup                          object\n",
       "Exercise                         object\n",
       "Heart_Disease                    object\n",
       "Skin_Cancer                      object\n",
       "Other_Cancer                     object\n",
       "Depression                       object\n",
       "Diabetes                         object\n",
       "Arthritis                        object\n",
       "Sex                              object\n",
       "Age_Category                     object\n",
       "Height_(cm)                     float64\n",
       "Weight_(kg)                     float64\n",
       "BMI                             float64\n",
       "Smoking_History                  object\n",
       "Alcohol_Consumption               int64\n",
       "Fruit_Consumption                 int64\n",
       "Green_Vegetables_Consumption      int64\n",
       "FriedPotato_Consumption           int64\n",
       "dtype: object"
      ]
     },
     "execution_count": 104,
     "metadata": {},
     "output_type": "execute_result"
    }
   ],
   "source": [
    "df.dtypes"
   ]
  },
  {
   "cell_type": "code",
   "execution_count": 105,
   "id": "8d592084",
   "metadata": {},
   "outputs": [],
   "source": [
    "#df.General_Health = df.General_Health.astype('category')\n",
    "#df.Checkup = df.Checkup.astype('category')\n",
    "#df.Age_Category = df.Age_Category.astype('category')\n",
    "#df.BMI = df.BMI.astype('category')"
   ]
  },
  {
   "cell_type": "code",
   "execution_count": 106,
   "id": "4b597ca1",
   "metadata": {},
   "outputs": [
    {
     "data": {
      "text/plain": [
       "General_Health                   object\n",
       "Checkup                          object\n",
       "Exercise                         object\n",
       "Heart_Disease                    object\n",
       "Skin_Cancer                      object\n",
       "Other_Cancer                     object\n",
       "Depression                       object\n",
       "Diabetes                         object\n",
       "Arthritis                        object\n",
       "Sex                              object\n",
       "Age_Category                     object\n",
       "Height_(cm)                     float64\n",
       "Weight_(kg)                     float64\n",
       "BMI                             float64\n",
       "Smoking_History                  object\n",
       "Alcohol_Consumption               int64\n",
       "Fruit_Consumption                 int64\n",
       "Green_Vegetables_Consumption      int64\n",
       "FriedPotato_Consumption           int64\n",
       "dtype: object"
      ]
     },
     "execution_count": 106,
     "metadata": {},
     "output_type": "execute_result"
    }
   ],
   "source": [
    "df.dtypes"
   ]
  },
  {
   "cell_type": "markdown",
   "id": "da779a02",
   "metadata": {},
   "source": [
    "### Determine Categories"
   ]
  },
  {
   "cell_type": "code",
   "execution_count": 107,
   "id": "4dc80f7b",
   "metadata": {},
   "outputs": [],
   "source": [
    "def General_Health(Health):\n",
    "    if Health == 'Poor':\n",
    "        return 1\n",
    "    elif Health == 'Fair':\n",
    "        return 2\n",
    "    elif Health == 'Good':\n",
    "        return 3\n",
    "    elif Health == 'Very Good':\n",
    "        return 4\n",
    "    elif Health == 'Excellent':\n",
    "        return 5\n",
    "# Create a new column \"BMI Group\" using the classification function\n",
    "df[\"General_Health\"] = df[\"General_Health\"].apply(General_Health)\n",
    "df['General_Health'] = df['General_Health'].astype(int)"
   ]
  },
  {
   "cell_type": "code",
   "execution_count": 108,
   "id": "5f560120",
   "metadata": {},
   "outputs": [],
   "source": [
    "def Checkup(Checkup):\n",
    "    if Checkup == 'Never':\n",
    "        return 1\n",
    "    elif Checkup == 'Within the past year':\n",
    "        return 2\n",
    "    elif Checkup == 'Within the past 2 years':\n",
    "        return 3\n",
    "    elif Checkup == 'Within the past 5 years':\n",
    "        return 4\n",
    "    elif Checkup == '5 or more years ago':\n",
    "        return 5\n",
    "# Create a new column \"BMI Group\" using the classification function\n",
    "df[\"Checkup\"] = df[\"Checkup\"].apply(Checkup)"
   ]
  },
  {
   "cell_type": "code",
   "execution_count": 109,
   "id": "767f1045",
   "metadata": {},
   "outputs": [
    {
     "data": {
      "text/html": [
       "<div>\n",
       "<style scoped>\n",
       "    .dataframe tbody tr th:only-of-type {\n",
       "        vertical-align: middle;\n",
       "    }\n",
       "\n",
       "    .dataframe tbody tr th {\n",
       "        vertical-align: top;\n",
       "    }\n",
       "\n",
       "    .dataframe thead th {\n",
       "        text-align: right;\n",
       "    }\n",
       "</style>\n",
       "<table border=\"1\" class=\"dataframe\">\n",
       "  <thead>\n",
       "    <tr style=\"text-align: right;\">\n",
       "      <th></th>\n",
       "      <th>General_Health</th>\n",
       "      <th>Checkup</th>\n",
       "      <th>Exercise</th>\n",
       "      <th>Heart_Disease</th>\n",
       "      <th>Skin_Cancer</th>\n",
       "      <th>Other_Cancer</th>\n",
       "      <th>Depression</th>\n",
       "      <th>Diabetes</th>\n",
       "      <th>Arthritis</th>\n",
       "      <th>Sex</th>\n",
       "      <th>Age_Category</th>\n",
       "      <th>Height_(cm)</th>\n",
       "      <th>Weight_(kg)</th>\n",
       "      <th>BMI</th>\n",
       "      <th>Smoking_History</th>\n",
       "      <th>Alcohol_Consumption</th>\n",
       "      <th>Fruit_Consumption</th>\n",
       "      <th>Green_Vegetables_Consumption</th>\n",
       "      <th>FriedPotato_Consumption</th>\n",
       "    </tr>\n",
       "  </thead>\n",
       "  <tbody>\n",
       "    <tr>\n",
       "      <th>1</th>\n",
       "      <td>4</td>\n",
       "      <td>2</td>\n",
       "      <td>No</td>\n",
       "      <td>Yes</td>\n",
       "      <td>No</td>\n",
       "      <td>No</td>\n",
       "      <td>No</td>\n",
       "      <td>Yes</td>\n",
       "      <td>No</td>\n",
       "      <td>Female</td>\n",
       "      <td>70-74</td>\n",
       "      <td>165.0</td>\n",
       "      <td>77.11</td>\n",
       "      <td>28.29</td>\n",
       "      <td>No</td>\n",
       "      <td>0</td>\n",
       "      <td>30</td>\n",
       "      <td>0</td>\n",
       "      <td>4</td>\n",
       "    </tr>\n",
       "    <tr>\n",
       "      <th>2</th>\n",
       "      <td>4</td>\n",
       "      <td>2</td>\n",
       "      <td>Yes</td>\n",
       "      <td>No</td>\n",
       "      <td>No</td>\n",
       "      <td>No</td>\n",
       "      <td>No</td>\n",
       "      <td>Yes</td>\n",
       "      <td>No</td>\n",
       "      <td>Female</td>\n",
       "      <td>60-64</td>\n",
       "      <td>163.0</td>\n",
       "      <td>88.45</td>\n",
       "      <td>33.47</td>\n",
       "      <td>No</td>\n",
       "      <td>4</td>\n",
       "      <td>12</td>\n",
       "      <td>3</td>\n",
       "      <td>16</td>\n",
       "    </tr>\n",
       "  </tbody>\n",
       "</table>\n",
       "</div>"
      ],
      "text/plain": [
       "   General_Health  Checkup Exercise Heart_Disease Skin_Cancer Other_Cancer  \\\n",
       "1               4        2       No           Yes          No           No   \n",
       "2               4        2      Yes            No          No           No   \n",
       "\n",
       "  Depression Diabetes Arthritis     Sex Age_Category  Height_(cm)  \\\n",
       "1         No      Yes        No  Female        70-74        165.0   \n",
       "2         No      Yes        No  Female        60-64        163.0   \n",
       "\n",
       "   Weight_(kg)    BMI Smoking_History  Alcohol_Consumption  Fruit_Consumption  \\\n",
       "1        77.11  28.29              No                    0                 30   \n",
       "2        88.45  33.47              No                    4                 12   \n",
       "\n",
       "   Green_Vegetables_Consumption  FriedPotato_Consumption  \n",
       "1                             0                        4  \n",
       "2                             3                       16  "
      ]
     },
     "execution_count": 109,
     "metadata": {},
     "output_type": "execute_result"
    }
   ],
   "source": [
    "df.head(2)"
   ]
  },
  {
   "cell_type": "code",
   "execution_count": 110,
   "id": "df798e05",
   "metadata": {},
   "outputs": [
    {
     "data": {
      "text/plain": [
       "General_Health                    int64\n",
       "Checkup                           int64\n",
       "Exercise                         object\n",
       "Heart_Disease                    object\n",
       "Skin_Cancer                      object\n",
       "Other_Cancer                     object\n",
       "Depression                       object\n",
       "Diabetes                         object\n",
       "Arthritis                        object\n",
       "Sex                              object\n",
       "Age_Category                     object\n",
       "Height_(cm)                     float64\n",
       "Weight_(kg)                     float64\n",
       "BMI                             float64\n",
       "Smoking_History                  object\n",
       "Alcohol_Consumption               int64\n",
       "Fruit_Consumption                 int64\n",
       "Green_Vegetables_Consumption      int64\n",
       "FriedPotato_Consumption           int64\n",
       "dtype: object"
      ]
     },
     "execution_count": 110,
     "metadata": {},
     "output_type": "execute_result"
    }
   ],
   "source": [
    "df.dtypes"
   ]
  },
  {
   "cell_type": "code",
   "execution_count": 111,
   "id": "bb6cc76d",
   "metadata": {},
   "outputs": [],
   "source": [
    "#def Classify_BMI(BMI):\n",
    " #   if BMI >= 0.0 and BMI < 18.5:\n",
    "  #      return \"Underweight\"\n",
    "   # elif BMI >= 18.5 and BMI < 25.0:\n",
    "    #    return \"Normal Weight\"\n",
    "  #  elif BMI >= 25.0 and BMI < 30.0:\n",
    "   #     return \"Overweight\"\n",
    "   # elif BMI >= 30.0 and BMI < 35.0:\n",
    "    #    return \"Obesity Class 1\"\n",
    "   # elif BMI >= 35.0 and BMI < 40.0:\n",
    "    #    return \"Obesity Class 2\"\n",
    "    #elif BMI >= 40.0:\n",
    "     #   return \"Obesity Class 3\"\n",
    "    #else:\n",
    "     #   return \"Invalid\"\n",
    "\n",
    "# Create a new column \"BMI Group\" using the classification function\n",
    "#df[\"BMI\"] = df[\"BMI\"].apply(Classify_BMI)"
   ]
  },
  {
   "cell_type": "code",
   "execution_count": 112,
   "id": "ff35af32",
   "metadata": {},
   "outputs": [],
   "source": [
    "#df.BMI  = df.BMI.astype('category')"
   ]
  },
  {
   "cell_type": "code",
   "execution_count": 113,
   "id": "f69e75ce",
   "metadata": {},
   "outputs": [],
   "source": [
    "def Classify_Age(age):\n",
    "    if age == '18-24':\n",
    "        return 1\n",
    "    elif age == '25-29':\n",
    "        return 2\n",
    "    elif age == '30-34':\n",
    "        return 3\n",
    "    elif age == '35-39':\n",
    "        return 4\n",
    "    elif age == '40-44':\n",
    "        return 5\n",
    "    elif age == '45-49':\n",
    "        return 6\n",
    "    elif age == '50-54':\n",
    "        return 7\n",
    "    elif age == '55-59':\n",
    "        return 8\n",
    "    elif age == '60-64':\n",
    "        return 9\n",
    "    elif age == '65-69':\n",
    "        return 10\n",
    "    elif age == '70-74':\n",
    "        return 11\n",
    "    elif age == '75-79':\n",
    "        return 12\n",
    "    elif age == '80+':\n",
    "        return 13\n",
    "# Create a new column \"Age Group\" using the classification function\n",
    "df[\"Age_Category\"] = df[\"Age_Category\"].apply(Classify_Age)"
   ]
  },
  {
   "cell_type": "code",
   "execution_count": 114,
   "id": "02f9be6a",
   "metadata": {},
   "outputs": [],
   "source": [
    "df.Age_Category  = df.Age_Category.astype('category')"
   ]
  },
  {
   "cell_type": "code",
   "execution_count": 115,
   "id": "e9592029",
   "metadata": {},
   "outputs": [],
   "source": [
    "def Classify_Yes_No(variable):\n",
    "    if variable == 'Yes':\n",
    "        return 1\n",
    "    elif variable == 'No':\n",
    "        return 0\n",
    "# Create a new column \"Age Group\" using the classification function\n",
    "df[\"Exercise\"] = df[\"Exercise\"].apply(Classify_Yes_No)\n",
    "df[\"Heart_Disease\"] = df[\"Heart_Disease\"].apply(Classify_Yes_No)\n",
    "df[\"Skin_Cancer\"] = df[\"Skin_Cancer\"].apply(Classify_Yes_No)\n",
    "df[\"Other_Cancer\"] = df[\"Other_Cancer\"].apply(Classify_Yes_No)\n",
    "df[\"Depression\"] = df[\"Depression\"].apply(Classify_Yes_No)\n",
    "df[\"Arthritis\"] = df[\"Arthritis\"].apply(Classify_Yes_No)\n",
    "df[\"Smoking_History\"] = df[\"Smoking_History\"].apply(Classify_Yes_No)\n"
   ]
  },
  {
   "cell_type": "code",
   "execution_count": 116,
   "id": "2754acb2",
   "metadata": {},
   "outputs": [
    {
     "data": {
      "text/html": [
       "<div>\n",
       "<style scoped>\n",
       "    .dataframe tbody tr th:only-of-type {\n",
       "        vertical-align: middle;\n",
       "    }\n",
       "\n",
       "    .dataframe tbody tr th {\n",
       "        vertical-align: top;\n",
       "    }\n",
       "\n",
       "    .dataframe thead th {\n",
       "        text-align: right;\n",
       "    }\n",
       "</style>\n",
       "<table border=\"1\" class=\"dataframe\">\n",
       "  <thead>\n",
       "    <tr style=\"text-align: right;\">\n",
       "      <th></th>\n",
       "      <th>General_Health</th>\n",
       "      <th>Checkup</th>\n",
       "      <th>Exercise</th>\n",
       "      <th>Heart_Disease</th>\n",
       "      <th>Skin_Cancer</th>\n",
       "      <th>Other_Cancer</th>\n",
       "      <th>Depression</th>\n",
       "      <th>Diabetes</th>\n",
       "      <th>Arthritis</th>\n",
       "      <th>Sex</th>\n",
       "      <th>Age_Category</th>\n",
       "      <th>Height_(cm)</th>\n",
       "      <th>Weight_(kg)</th>\n",
       "      <th>BMI</th>\n",
       "      <th>Smoking_History</th>\n",
       "      <th>Alcohol_Consumption</th>\n",
       "      <th>Fruit_Consumption</th>\n",
       "      <th>Green_Vegetables_Consumption</th>\n",
       "      <th>FriedPotato_Consumption</th>\n",
       "    </tr>\n",
       "  </thead>\n",
       "  <tbody>\n",
       "    <tr>\n",
       "      <th>1</th>\n",
       "      <td>4</td>\n",
       "      <td>2</td>\n",
       "      <td>0</td>\n",
       "      <td>1</td>\n",
       "      <td>0.0</td>\n",
       "      <td>0</td>\n",
       "      <td>0</td>\n",
       "      <td>Yes</td>\n",
       "      <td>0</td>\n",
       "      <td>Female</td>\n",
       "      <td>11</td>\n",
       "      <td>165.0</td>\n",
       "      <td>77.11</td>\n",
       "      <td>28.29</td>\n",
       "      <td>0</td>\n",
       "      <td>0</td>\n",
       "      <td>30</td>\n",
       "      <td>0</td>\n",
       "      <td>4</td>\n",
       "    </tr>\n",
       "    <tr>\n",
       "      <th>2</th>\n",
       "      <td>4</td>\n",
       "      <td>2</td>\n",
       "      <td>1</td>\n",
       "      <td>0</td>\n",
       "      <td>0.0</td>\n",
       "      <td>0</td>\n",
       "      <td>0</td>\n",
       "      <td>Yes</td>\n",
       "      <td>0</td>\n",
       "      <td>Female</td>\n",
       "      <td>9</td>\n",
       "      <td>163.0</td>\n",
       "      <td>88.45</td>\n",
       "      <td>33.47</td>\n",
       "      <td>0</td>\n",
       "      <td>4</td>\n",
       "      <td>12</td>\n",
       "      <td>3</td>\n",
       "      <td>16</td>\n",
       "    </tr>\n",
       "    <tr>\n",
       "      <th>3</th>\n",
       "      <td>1</td>\n",
       "      <td>2</td>\n",
       "      <td>1</td>\n",
       "      <td>1</td>\n",
       "      <td>0.0</td>\n",
       "      <td>0</td>\n",
       "      <td>0</td>\n",
       "      <td>Yes</td>\n",
       "      <td>0</td>\n",
       "      <td>Male</td>\n",
       "      <td>12</td>\n",
       "      <td>180.0</td>\n",
       "      <td>93.44</td>\n",
       "      <td>28.73</td>\n",
       "      <td>0</td>\n",
       "      <td>0</td>\n",
       "      <td>30</td>\n",
       "      <td>30</td>\n",
       "      <td>8</td>\n",
       "    </tr>\n",
       "    <tr>\n",
       "      <th>4</th>\n",
       "      <td>3</td>\n",
       "      <td>2</td>\n",
       "      <td>0</td>\n",
       "      <td>0</td>\n",
       "      <td>0.0</td>\n",
       "      <td>0</td>\n",
       "      <td>0</td>\n",
       "      <td>No</td>\n",
       "      <td>0</td>\n",
       "      <td>Male</td>\n",
       "      <td>13</td>\n",
       "      <td>191.0</td>\n",
       "      <td>88.45</td>\n",
       "      <td>24.37</td>\n",
       "      <td>1</td>\n",
       "      <td>0</td>\n",
       "      <td>8</td>\n",
       "      <td>4</td>\n",
       "      <td>0</td>\n",
       "    </tr>\n",
       "    <tr>\n",
       "      <th>6</th>\n",
       "      <td>2</td>\n",
       "      <td>2</td>\n",
       "      <td>1</td>\n",
       "      <td>1</td>\n",
       "      <td>0.0</td>\n",
       "      <td>0</td>\n",
       "      <td>0</td>\n",
       "      <td>No</td>\n",
       "      <td>1</td>\n",
       "      <td>Male</td>\n",
       "      <td>9</td>\n",
       "      <td>175.0</td>\n",
       "      <td>69.85</td>\n",
       "      <td>22.74</td>\n",
       "      <td>1</td>\n",
       "      <td>0</td>\n",
       "      <td>16</td>\n",
       "      <td>8</td>\n",
       "      <td>0</td>\n",
       "    </tr>\n",
       "  </tbody>\n",
       "</table>\n",
       "</div>"
      ],
      "text/plain": [
       "   General_Health  Checkup  Exercise  Heart_Disease  Skin_Cancer  \\\n",
       "1               4        2         0              1          0.0   \n",
       "2               4        2         1              0          0.0   \n",
       "3               1        2         1              1          0.0   \n",
       "4               3        2         0              0          0.0   \n",
       "6               2        2         1              1          0.0   \n",
       "\n",
       "   Other_Cancer  Depression Diabetes  Arthritis     Sex Age_Category  \\\n",
       "1             0           0      Yes          0  Female           11   \n",
       "2             0           0      Yes          0  Female            9   \n",
       "3             0           0      Yes          0    Male           12   \n",
       "4             0           0       No          0    Male           13   \n",
       "6             0           0       No          1    Male            9   \n",
       "\n",
       "   Height_(cm)  Weight_(kg)    BMI  Smoking_History  Alcohol_Consumption  \\\n",
       "1        165.0        77.11  28.29                0                    0   \n",
       "2        163.0        88.45  33.47                0                    4   \n",
       "3        180.0        93.44  28.73                0                    0   \n",
       "4        191.0        88.45  24.37                1                    0   \n",
       "6        175.0        69.85  22.74                1                    0   \n",
       "\n",
       "   Fruit_Consumption  Green_Vegetables_Consumption  FriedPotato_Consumption  \n",
       "1                 30                             0                        4  \n",
       "2                 12                             3                       16  \n",
       "3                 30                            30                        8  \n",
       "4                  8                             4                        0  \n",
       "6                 16                             8                        0  "
      ]
     },
     "execution_count": 116,
     "metadata": {},
     "output_type": "execute_result"
    }
   ],
   "source": [
    "df.head()"
   ]
  },
  {
   "cell_type": "code",
   "execution_count": 117,
   "id": "cca51bf8",
   "metadata": {},
   "outputs": [],
   "source": [
    "# Utiliza get_dummies para crear variables dummy\n",
    "df_dummies = pd.get_dummies(df['Diabetes'], prefix='Diabetes')\n",
    "\n",
    "# Concatena las nuevas columnas dummy al DataFrame original\n",
    "df = pd.concat([df, df_dummies], axis=1)\n",
    "\n",
    "# Elimina la columna original si lo deseas\n",
    "#df = df.drop('MiColumna', axis=1)"
   ]
  },
  {
   "cell_type": "code",
   "execution_count": 118,
   "id": "0cc66613",
   "metadata": {},
   "outputs": [],
   "source": [
    "# Utiliza get_dummies para crear variables dummy\n",
    "df_dummies = pd.get_dummies(df['Sex'], prefix='Sex')\n",
    "\n",
    "# Concatena las nuevas columnas dummy al DataFrame original\n",
    "df = pd.concat([df, df_dummies], axis=1)"
   ]
  },
  {
   "cell_type": "code",
   "execution_count": 119,
   "id": "6e30942b",
   "metadata": {},
   "outputs": [],
   "source": [
    "#df = pd.get_dummies(df, drop_first=True)"
   ]
  },
  {
   "cell_type": "code",
   "execution_count": 120,
   "id": "3071aab0",
   "metadata": {},
   "outputs": [],
   "source": [
    "#df = df.astype('category')"
   ]
  },
  {
   "cell_type": "code",
   "execution_count": 121,
   "id": "871092f5",
   "metadata": {},
   "outputs": [
    {
     "data": {
      "text/plain": [
       "General_Health                                            int64\n",
       "Checkup                                                   int64\n",
       "Exercise                                                  int64\n",
       "Heart_Disease                                             int64\n",
       "Skin_Cancer                                             float64\n",
       "Other_Cancer                                              int64\n",
       "Depression                                                int64\n",
       "Diabetes                                                 object\n",
       "Arthritis                                                 int64\n",
       "Sex                                                      object\n",
       "Age_Category                                           category\n",
       "Height_(cm)                                             float64\n",
       "Weight_(kg)                                             float64\n",
       "BMI                                                     float64\n",
       "Smoking_History                                           int64\n",
       "Alcohol_Consumption                                       int64\n",
       "Fruit_Consumption                                         int64\n",
       "Green_Vegetables_Consumption                              int64\n",
       "FriedPotato_Consumption                                   int64\n",
       "Diabetes_No                                               uint8\n",
       "Diabetes_No, pre-diabetes or borderline diabetes          uint8\n",
       "Diabetes_Yes                                              uint8\n",
       "Diabetes_Yes, but female told only during pregnancy       uint8\n",
       "Sex_Female                                                uint8\n",
       "Sex_Male                                                  uint8\n",
       "Sex_Non-Binary                                            uint8\n",
       "dtype: object"
      ]
     },
     "execution_count": 121,
     "metadata": {},
     "output_type": "execute_result"
    }
   ],
   "source": [
    "df.dtypes"
   ]
  },
  {
   "cell_type": "code",
   "execution_count": 122,
   "id": "3e939797",
   "metadata": {},
   "outputs": [
    {
     "data": {
      "text/html": [
       "<div>\n",
       "<style scoped>\n",
       "    .dataframe tbody tr th:only-of-type {\n",
       "        vertical-align: middle;\n",
       "    }\n",
       "\n",
       "    .dataframe tbody tr th {\n",
       "        vertical-align: top;\n",
       "    }\n",
       "\n",
       "    .dataframe thead th {\n",
       "        text-align: right;\n",
       "    }\n",
       "</style>\n",
       "<table border=\"1\" class=\"dataframe\">\n",
       "  <thead>\n",
       "    <tr style=\"text-align: right;\">\n",
       "      <th></th>\n",
       "      <th>General_Health</th>\n",
       "      <th>Checkup</th>\n",
       "      <th>Exercise</th>\n",
       "      <th>Heart_Disease</th>\n",
       "      <th>Skin_Cancer</th>\n",
       "      <th>Other_Cancer</th>\n",
       "      <th>Depression</th>\n",
       "      <th>Diabetes</th>\n",
       "      <th>Arthritis</th>\n",
       "      <th>Sex</th>\n",
       "      <th>...</th>\n",
       "      <th>Fruit_Consumption</th>\n",
       "      <th>Green_Vegetables_Consumption</th>\n",
       "      <th>FriedPotato_Consumption</th>\n",
       "      <th>Diabetes_No</th>\n",
       "      <th>Diabetes_No, pre-diabetes or borderline diabetes</th>\n",
       "      <th>Diabetes_Yes</th>\n",
       "      <th>Diabetes_Yes, but female told only during pregnancy</th>\n",
       "      <th>Sex_Female</th>\n",
       "      <th>Sex_Male</th>\n",
       "      <th>Sex_Non-Binary</th>\n",
       "    </tr>\n",
       "  </thead>\n",
       "  <tbody>\n",
       "    <tr>\n",
       "      <th>1</th>\n",
       "      <td>4</td>\n",
       "      <td>2</td>\n",
       "      <td>0</td>\n",
       "      <td>1</td>\n",
       "      <td>0.0</td>\n",
       "      <td>0</td>\n",
       "      <td>0</td>\n",
       "      <td>Yes</td>\n",
       "      <td>0</td>\n",
       "      <td>Female</td>\n",
       "      <td>...</td>\n",
       "      <td>30</td>\n",
       "      <td>0</td>\n",
       "      <td>4</td>\n",
       "      <td>0</td>\n",
       "      <td>0</td>\n",
       "      <td>1</td>\n",
       "      <td>0</td>\n",
       "      <td>1</td>\n",
       "      <td>0</td>\n",
       "      <td>0</td>\n",
       "    </tr>\n",
       "    <tr>\n",
       "      <th>2</th>\n",
       "      <td>4</td>\n",
       "      <td>2</td>\n",
       "      <td>1</td>\n",
       "      <td>0</td>\n",
       "      <td>0.0</td>\n",
       "      <td>0</td>\n",
       "      <td>0</td>\n",
       "      <td>Yes</td>\n",
       "      <td>0</td>\n",
       "      <td>Female</td>\n",
       "      <td>...</td>\n",
       "      <td>12</td>\n",
       "      <td>3</td>\n",
       "      <td>16</td>\n",
       "      <td>0</td>\n",
       "      <td>0</td>\n",
       "      <td>1</td>\n",
       "      <td>0</td>\n",
       "      <td>1</td>\n",
       "      <td>0</td>\n",
       "      <td>0</td>\n",
       "    </tr>\n",
       "    <tr>\n",
       "      <th>3</th>\n",
       "      <td>1</td>\n",
       "      <td>2</td>\n",
       "      <td>1</td>\n",
       "      <td>1</td>\n",
       "      <td>0.0</td>\n",
       "      <td>0</td>\n",
       "      <td>0</td>\n",
       "      <td>Yes</td>\n",
       "      <td>0</td>\n",
       "      <td>Male</td>\n",
       "      <td>...</td>\n",
       "      <td>30</td>\n",
       "      <td>30</td>\n",
       "      <td>8</td>\n",
       "      <td>0</td>\n",
       "      <td>0</td>\n",
       "      <td>1</td>\n",
       "      <td>0</td>\n",
       "      <td>0</td>\n",
       "      <td>1</td>\n",
       "      <td>0</td>\n",
       "    </tr>\n",
       "    <tr>\n",
       "      <th>4</th>\n",
       "      <td>3</td>\n",
       "      <td>2</td>\n",
       "      <td>0</td>\n",
       "      <td>0</td>\n",
       "      <td>0.0</td>\n",
       "      <td>0</td>\n",
       "      <td>0</td>\n",
       "      <td>No</td>\n",
       "      <td>0</td>\n",
       "      <td>Male</td>\n",
       "      <td>...</td>\n",
       "      <td>8</td>\n",
       "      <td>4</td>\n",
       "      <td>0</td>\n",
       "      <td>1</td>\n",
       "      <td>0</td>\n",
       "      <td>0</td>\n",
       "      <td>0</td>\n",
       "      <td>0</td>\n",
       "      <td>1</td>\n",
       "      <td>0</td>\n",
       "    </tr>\n",
       "    <tr>\n",
       "      <th>6</th>\n",
       "      <td>2</td>\n",
       "      <td>2</td>\n",
       "      <td>1</td>\n",
       "      <td>1</td>\n",
       "      <td>0.0</td>\n",
       "      <td>0</td>\n",
       "      <td>0</td>\n",
       "      <td>No</td>\n",
       "      <td>1</td>\n",
       "      <td>Male</td>\n",
       "      <td>...</td>\n",
       "      <td>16</td>\n",
       "      <td>8</td>\n",
       "      <td>0</td>\n",
       "      <td>1</td>\n",
       "      <td>0</td>\n",
       "      <td>0</td>\n",
       "      <td>0</td>\n",
       "      <td>0</td>\n",
       "      <td>1</td>\n",
       "      <td>0</td>\n",
       "    </tr>\n",
       "  </tbody>\n",
       "</table>\n",
       "<p>5 rows × 26 columns</p>\n",
       "</div>"
      ],
      "text/plain": [
       "   General_Health  Checkup  Exercise  Heart_Disease  Skin_Cancer  \\\n",
       "1               4        2         0              1          0.0   \n",
       "2               4        2         1              0          0.0   \n",
       "3               1        2         1              1          0.0   \n",
       "4               3        2         0              0          0.0   \n",
       "6               2        2         1              1          0.0   \n",
       "\n",
       "   Other_Cancer  Depression Diabetes  Arthritis     Sex  ...  \\\n",
       "1             0           0      Yes          0  Female  ...   \n",
       "2             0           0      Yes          0  Female  ...   \n",
       "3             0           0      Yes          0    Male  ...   \n",
       "4             0           0       No          0    Male  ...   \n",
       "6             0           0       No          1    Male  ...   \n",
       "\n",
       "  Fruit_Consumption  Green_Vegetables_Consumption  FriedPotato_Consumption  \\\n",
       "1                30                             0                        4   \n",
       "2                12                             3                       16   \n",
       "3                30                            30                        8   \n",
       "4                 8                             4                        0   \n",
       "6                16                             8                        0   \n",
       "\n",
       "   Diabetes_No  Diabetes_No, pre-diabetes or borderline diabetes  \\\n",
       "1            0                                                 0   \n",
       "2            0                                                 0   \n",
       "3            0                                                 0   \n",
       "4            1                                                 0   \n",
       "6            1                                                 0   \n",
       "\n",
       "   Diabetes_Yes  Diabetes_Yes, but female told only during pregnancy  \\\n",
       "1             1                                                  0     \n",
       "2             1                                                  0     \n",
       "3             1                                                  0     \n",
       "4             0                                                  0     \n",
       "6             0                                                  0     \n",
       "\n",
       "   Sex_Female  Sex_Male  Sex_Non-Binary  \n",
       "1           1         0               0  \n",
       "2           1         0               0  \n",
       "3           0         1               0  \n",
       "4           0         1               0  \n",
       "6           0         1               0  \n",
       "\n",
       "[5 rows x 26 columns]"
      ]
     },
     "execution_count": 122,
     "metadata": {},
     "output_type": "execute_result"
    }
   ],
   "source": [
    "df.head()"
   ]
  },
  {
   "cell_type": "markdown",
   "id": "e57d5d55",
   "metadata": {},
   "source": [
    "### Verify Category"
   ]
  },
  {
   "cell_type": "code",
   "execution_count": 123,
   "id": "00b9d982",
   "metadata": {},
   "outputs": [],
   "source": [
    "# BMI\n",
    "#df.BMI.cat.categories"
   ]
  },
  {
   "cell_type": "code",
   "execution_count": 124,
   "id": "81020d23",
   "metadata": {},
   "outputs": [],
   "source": [
    "# General_Health\n",
    "#df.General_Health.cat.categories"
   ]
  },
  {
   "cell_type": "code",
   "execution_count": 125,
   "id": "3790bd75",
   "metadata": {},
   "outputs": [
    {
     "data": {
      "text/plain": [
       "Int64Index([1, 2, 3, 4, 5, 6, 7, 8, 9, 10, 11, 12, 13], dtype='int64')"
      ]
     },
     "execution_count": 125,
     "metadata": {},
     "output_type": "execute_result"
    }
   ],
   "source": [
    "df.Age_Category.cat.categories"
   ]
  },
  {
   "cell_type": "code",
   "execution_count": 126,
   "id": "82d37f4c",
   "metadata": {},
   "outputs": [],
   "source": [
    "df = df.drop('Sex', axis=1)"
   ]
  },
  {
   "cell_type": "code",
   "execution_count": 127,
   "id": "f8d3c356",
   "metadata": {},
   "outputs": [],
   "source": [
    "df = df.drop('Diabetes', axis=1)"
   ]
  },
  {
   "cell_type": "code",
   "execution_count": 128,
   "id": "5cb7ebae",
   "metadata": {},
   "outputs": [],
   "source": [
    "df_clean = df"
   ]
  },
  {
   "cell_type": "code",
   "execution_count": 129,
   "id": "5ee9e257",
   "metadata": {},
   "outputs": [
    {
     "data": {
      "text/html": [
       "<div>\n",
       "<style scoped>\n",
       "    .dataframe tbody tr th:only-of-type {\n",
       "        vertical-align: middle;\n",
       "    }\n",
       "\n",
       "    .dataframe tbody tr th {\n",
       "        vertical-align: top;\n",
       "    }\n",
       "\n",
       "    .dataframe thead th {\n",
       "        text-align: right;\n",
       "    }\n",
       "</style>\n",
       "<table border=\"1\" class=\"dataframe\">\n",
       "  <thead>\n",
       "    <tr style=\"text-align: right;\">\n",
       "      <th></th>\n",
       "      <th>General_Health</th>\n",
       "      <th>Checkup</th>\n",
       "      <th>Exercise</th>\n",
       "      <th>Heart_Disease</th>\n",
       "      <th>Skin_Cancer</th>\n",
       "      <th>Other_Cancer</th>\n",
       "      <th>Depression</th>\n",
       "      <th>Arthritis</th>\n",
       "      <th>Age_Category</th>\n",
       "      <th>Height_(cm)</th>\n",
       "      <th>...</th>\n",
       "      <th>Fruit_Consumption</th>\n",
       "      <th>Green_Vegetables_Consumption</th>\n",
       "      <th>FriedPotato_Consumption</th>\n",
       "      <th>Diabetes_No</th>\n",
       "      <th>Diabetes_No, pre-diabetes or borderline diabetes</th>\n",
       "      <th>Diabetes_Yes</th>\n",
       "      <th>Diabetes_Yes, but female told only during pregnancy</th>\n",
       "      <th>Sex_Female</th>\n",
       "      <th>Sex_Male</th>\n",
       "      <th>Sex_Non-Binary</th>\n",
       "    </tr>\n",
       "  </thead>\n",
       "  <tbody>\n",
       "    <tr>\n",
       "      <th>1</th>\n",
       "      <td>4</td>\n",
       "      <td>2</td>\n",
       "      <td>0</td>\n",
       "      <td>1</td>\n",
       "      <td>0.0</td>\n",
       "      <td>0</td>\n",
       "      <td>0</td>\n",
       "      <td>0</td>\n",
       "      <td>11</td>\n",
       "      <td>165.0</td>\n",
       "      <td>...</td>\n",
       "      <td>30</td>\n",
       "      <td>0</td>\n",
       "      <td>4</td>\n",
       "      <td>0</td>\n",
       "      <td>0</td>\n",
       "      <td>1</td>\n",
       "      <td>0</td>\n",
       "      <td>1</td>\n",
       "      <td>0</td>\n",
       "      <td>0</td>\n",
       "    </tr>\n",
       "    <tr>\n",
       "      <th>2</th>\n",
       "      <td>4</td>\n",
       "      <td>2</td>\n",
       "      <td>1</td>\n",
       "      <td>0</td>\n",
       "      <td>0.0</td>\n",
       "      <td>0</td>\n",
       "      <td>0</td>\n",
       "      <td>0</td>\n",
       "      <td>9</td>\n",
       "      <td>163.0</td>\n",
       "      <td>...</td>\n",
       "      <td>12</td>\n",
       "      <td>3</td>\n",
       "      <td>16</td>\n",
       "      <td>0</td>\n",
       "      <td>0</td>\n",
       "      <td>1</td>\n",
       "      <td>0</td>\n",
       "      <td>1</td>\n",
       "      <td>0</td>\n",
       "      <td>0</td>\n",
       "    </tr>\n",
       "    <tr>\n",
       "      <th>3</th>\n",
       "      <td>1</td>\n",
       "      <td>2</td>\n",
       "      <td>1</td>\n",
       "      <td>1</td>\n",
       "      <td>0.0</td>\n",
       "      <td>0</td>\n",
       "      <td>0</td>\n",
       "      <td>0</td>\n",
       "      <td>12</td>\n",
       "      <td>180.0</td>\n",
       "      <td>...</td>\n",
       "      <td>30</td>\n",
       "      <td>30</td>\n",
       "      <td>8</td>\n",
       "      <td>0</td>\n",
       "      <td>0</td>\n",
       "      <td>1</td>\n",
       "      <td>0</td>\n",
       "      <td>0</td>\n",
       "      <td>1</td>\n",
       "      <td>0</td>\n",
       "    </tr>\n",
       "  </tbody>\n",
       "</table>\n",
       "<p>3 rows × 24 columns</p>\n",
       "</div>"
      ],
      "text/plain": [
       "   General_Health  Checkup  Exercise  Heart_Disease  Skin_Cancer  \\\n",
       "1               4        2         0              1          0.0   \n",
       "2               4        2         1              0          0.0   \n",
       "3               1        2         1              1          0.0   \n",
       "\n",
       "   Other_Cancer  Depression  Arthritis Age_Category  Height_(cm)  ...  \\\n",
       "1             0           0          0           11        165.0  ...   \n",
       "2             0           0          0            9        163.0  ...   \n",
       "3             0           0          0           12        180.0  ...   \n",
       "\n",
       "   Fruit_Consumption  Green_Vegetables_Consumption  FriedPotato_Consumption  \\\n",
       "1                 30                             0                        4   \n",
       "2                 12                             3                       16   \n",
       "3                 30                            30                        8   \n",
       "\n",
       "   Diabetes_No  Diabetes_No, pre-diabetes or borderline diabetes  \\\n",
       "1            0                                                 0   \n",
       "2            0                                                 0   \n",
       "3            0                                                 0   \n",
       "\n",
       "   Diabetes_Yes  Diabetes_Yes, but female told only during pregnancy  \\\n",
       "1             1                                                  0     \n",
       "2             1                                                  0     \n",
       "3             1                                                  0     \n",
       "\n",
       "   Sex_Female  Sex_Male  Sex_Non-Binary  \n",
       "1           1         0               0  \n",
       "2           1         0               0  \n",
       "3           0         1               0  \n",
       "\n",
       "[3 rows x 24 columns]"
      ]
     },
     "execution_count": 129,
     "metadata": {},
     "output_type": "execute_result"
    }
   ],
   "source": [
    "df_clean.head(3)"
   ]
  },
  {
   "cell_type": "code",
   "execution_count": 130,
   "id": "0da62d4b",
   "metadata": {},
   "outputs": [],
   "source": [
    "#df_clean.to_excel('CleanData.xlsx', index=False)"
   ]
  },
  {
   "cell_type": "code",
   "execution_count": 131,
   "id": "5cd114bb",
   "metadata": {},
   "outputs": [
    {
     "data": {
      "text/plain": [
       "General_Health                                         0\n",
       "Checkup                                                0\n",
       "Exercise                                               0\n",
       "Heart_Disease                                          0\n",
       "Skin_Cancer                                            9\n",
       "Other_Cancer                                           0\n",
       "Depression                                             0\n",
       "Arthritis                                              0\n",
       "Age_Category                                           0\n",
       "Height_(cm)                                            0\n",
       "Weight_(kg)                                            0\n",
       "BMI                                                    0\n",
       "Smoking_History                                        0\n",
       "Alcohol_Consumption                                    0\n",
       "Fruit_Consumption                                      0\n",
       "Green_Vegetables_Consumption                           0\n",
       "FriedPotato_Consumption                                0\n",
       "Diabetes_No                                            0\n",
       "Diabetes_No, pre-diabetes or borderline diabetes       0\n",
       "Diabetes_Yes                                           0\n",
       "Diabetes_Yes, but female told only during pregnancy    0\n",
       "Sex_Female                                             0\n",
       "Sex_Male                                               0\n",
       "Sex_Non-Binary                                         0\n",
       "dtype: int64"
      ]
     },
     "execution_count": 131,
     "metadata": {},
     "output_type": "execute_result"
    }
   ],
   "source": [
    "pd.isnull(df).sum()"
   ]
  },
  {
   "cell_type": "code",
   "execution_count": 132,
   "id": "9db58bb6",
   "metadata": {},
   "outputs": [],
   "source": [
    "#df = pd.get_dummies(df, drop_first=True)"
   ]
  },
  {
   "cell_type": "code",
   "execution_count": 133,
   "id": "dc4af68e",
   "metadata": {},
   "outputs": [
    {
     "name": "stderr",
     "output_type": "stream",
     "text": [
      "/var/folders/wj/3_csl2wx1cdgyk8j3p42j6880000gn/T/ipykernel_7973/2512368824.py:1: FutureWarning: The default value of numeric_only in DataFrame.corr is deprecated. In a future version, it will default to False. Select only valid columns or specify the value of numeric_only to silence this warning.\n",
      "  correlation_matrix = df.corr()\n"
     ]
    },
    {
     "data": {
      "image/png": "[encoded data removed]",
      "text/plain": [
       "<Figure size 1700x1000 with 2 Axes>"
      ]
     },
     "metadata": {},
     "output_type": "display_data"
    }
   ],
   "source": [
    "correlation_matrix = df.corr()\n",
    "\n",
    "# Configuración de la visualización\n",
    "plt.figure(figsize=(17, 10))\n",
    "sns.heatmap(correlation_matrix, annot=True, cmap=\"coolwarm\", fmt=\".2f\", linewidths=5)\n",
    "plt.title(\"Matriz de Correlación\")\n",
    "plt.show()"
   ]
  },
  {
   "cell_type": "code",
   "execution_count": 134,
   "id": "ae611a30",
   "metadata": {},
   "outputs": [
    {
     "data": {
      "text/plain": [
       "(283302, 24)"
      ]
     },
     "execution_count": 134,
     "metadata": {},
     "output_type": "execute_result"
    }
   ],
   "source": [
    "df_clean.shape"
   ]
  },
  {
   "cell_type": "code",
   "execution_count": null,
   "id": "07c27828",
   "metadata": {},
   "outputs": [],
   "source": []
  },
  {
   "cell_type": "code",
   "execution_count": null,
   "id": "c8bc0f28",
   "metadata": {},
   "outputs": [],
   "source": []
  },
  {
   "cell_type": "code",
   "execution_count": null,
   "id": "78e56875",
   "metadata": {},
   "outputs": [],
   "source": []
  },
  {
   "cell_type": "code",
   "execution_count": null,
   "id": "b325f890",
   "metadata": {},
   "outputs": [],
   "source": []
  },
  {
   "cell_type": "code",
   "execution_count": null,
   "id": "b593cd65",
   "metadata": {},
   "outputs": [],
   "source": []
  }
 ],
 "metadata": {
  "kernelspec": {
   "display_name": "Python 3 (ipykernel)",
   "language": "python",
   "name": "python3"
  },
  "language_info": {
   "codemirror_mode": {
    "name": "ipython",
    "version": 3
   },
   "file_extension": ".py",
   "mimetype": "text/x-python",
   "name": "python",
   "nbconvert_exporter": "python",
   "pygments_lexer": "ipython3",
   "version": "3.11.4"
  }
 },
 "nbformat": 4,
 "nbformat_minor": 5
}
