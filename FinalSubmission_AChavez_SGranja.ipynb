{
 "cells": [
  {
   "cell_type": "markdown",
   "id": "7febc439",
   "metadata": {},
   "source": [
    "# Final Submission "
   ]
  },
  {
   "cell_type": "markdown",
   "id": "001eb31c",
   "metadata": {},
   "source": [
    "Anllely Chávez\n"
   ]
  },
  {
   "cell_type": "markdown",
   "id": "c7ccbac1",
   "metadata": {},
   "source": [
    "Santiago Granja"
   ]
  },
  {
   "cell_type": "markdown",
   "id": "6f652905",
   "metadata": {},
   "source": [
    "## 1. Preprocessing"
   ]
  },
  {
   "cell_type": "code",
   "execution_count": 1,
   "id": "cfc32717-f167-4e2d-9d37-9989b7e2bdc1",
   "metadata": {},
   "outputs": [
    {
     "data": {
      "text/html": [
       "<div>\n",
       "<style scoped>\n",
       "    .dataframe tbody tr th:only-of-type {\n",
       "        vertical-align: middle;\n",
       "    }\n",
       "\n",
       "    .dataframe tbody tr th {\n",
       "        vertical-align: top;\n",
       "    }\n",
       "\n",
       "    .dataframe thead th {\n",
       "        text-align: right;\n",
       "    }\n",
       "</style>\n",
       "<table border=\"1\" class=\"dataframe\">\n",
       "  <thead>\n",
       "    <tr style=\"text-align: right;\">\n",
       "      <th></th>\n",
       "      <th>General_Health</th>\n",
       "      <th>Checkup</th>\n",
       "      <th>Exercise</th>\n",
       "      <th>Heart_Disease</th>\n",
       "      <th>Skin_Cancer</th>\n",
       "      <th>Other_Cancer</th>\n",
       "      <th>Depression</th>\n",
       "      <th>Arthritis</th>\n",
       "      <th>Age_Category</th>\n",
       "      <th>Height_(cm)</th>\n",
       "      <th>...</th>\n",
       "      <th>Fruit_Consumption</th>\n",
       "      <th>Green_Vegetables_Consumption</th>\n",
       "      <th>FriedPotato_Consumption</th>\n",
       "      <th>Diabetes_No</th>\n",
       "      <th>Diabetes_No, pre-diabetes or borderline diabetes</th>\n",
       "      <th>Diabetes_Yes</th>\n",
       "      <th>Diabetes_Yes, but female told only during pregnancy</th>\n",
       "      <th>Sex_Female</th>\n",
       "      <th>Sex_Male</th>\n",
       "      <th>Sex_Non-Binary</th>\n",
       "    </tr>\n",
       "  </thead>\n",
       "  <tbody>\n",
       "    <tr>\n",
       "      <th>0</th>\n",
       "      <td>4</td>\n",
       "      <td>2</td>\n",
       "      <td>0</td>\n",
       "      <td>1</td>\n",
       "      <td>0</td>\n",
       "      <td>0</td>\n",
       "      <td>0</td>\n",
       "      <td>0</td>\n",
       "      <td>11</td>\n",
       "      <td>165.0</td>\n",
       "      <td>...</td>\n",
       "      <td>30</td>\n",
       "      <td>0</td>\n",
       "      <td>4</td>\n",
       "      <td>0</td>\n",
       "      <td>0</td>\n",
       "      <td>1</td>\n",
       "      <td>0</td>\n",
       "      <td>1</td>\n",
       "      <td>0</td>\n",
       "      <td>0</td>\n",
       "    </tr>\n",
       "    <tr>\n",
       "      <th>1</th>\n",
       "      <td>4</td>\n",
       "      <td>2</td>\n",
       "      <td>1</td>\n",
       "      <td>0</td>\n",
       "      <td>0</td>\n",
       "      <td>0</td>\n",
       "      <td>0</td>\n",
       "      <td>0</td>\n",
       "      <td>9</td>\n",
       "      <td>163.0</td>\n",
       "      <td>...</td>\n",
       "      <td>12</td>\n",
       "      <td>3</td>\n",
       "      <td>16</td>\n",
       "      <td>0</td>\n",
       "      <td>0</td>\n",
       "      <td>1</td>\n",
       "      <td>0</td>\n",
       "      <td>1</td>\n",
       "      <td>0</td>\n",
       "      <td>0</td>\n",
       "    </tr>\n",
       "    <tr>\n",
       "      <th>2</th>\n",
       "      <td>1</td>\n",
       "      <td>2</td>\n",
       "      <td>1</td>\n",
       "      <td>1</td>\n",
       "      <td>0</td>\n",
       "      <td>0</td>\n",
       "      <td>0</td>\n",
       "      <td>0</td>\n",
       "      <td>12</td>\n",
       "      <td>180.0</td>\n",
       "      <td>...</td>\n",
       "      <td>30</td>\n",
       "      <td>30</td>\n",
       "      <td>8</td>\n",
       "      <td>0</td>\n",
       "      <td>0</td>\n",
       "      <td>1</td>\n",
       "      <td>0</td>\n",
       "      <td>0</td>\n",
       "      <td>1</td>\n",
       "      <td>0</td>\n",
       "    </tr>\n",
       "    <tr>\n",
       "      <th>3</th>\n",
       "      <td>3</td>\n",
       "      <td>2</td>\n",
       "      <td>0</td>\n",
       "      <td>0</td>\n",
       "      <td>0</td>\n",
       "      <td>0</td>\n",
       "      <td>0</td>\n",
       "      <td>0</td>\n",
       "      <td>13</td>\n",
       "      <td>191.0</td>\n",
       "      <td>...</td>\n",
       "      <td>8</td>\n",
       "      <td>4</td>\n",
       "      <td>0</td>\n",
       "      <td>1</td>\n",
       "      <td>0</td>\n",
       "      <td>0</td>\n",
       "      <td>0</td>\n",
       "      <td>0</td>\n",
       "      <td>1</td>\n",
       "      <td>0</td>\n",
       "    </tr>\n",
       "    <tr>\n",
       "      <th>4</th>\n",
       "      <td>2</td>\n",
       "      <td>2</td>\n",
       "      <td>1</td>\n",
       "      <td>1</td>\n",
       "      <td>0</td>\n",
       "      <td>0</td>\n",
       "      <td>0</td>\n",
       "      <td>1</td>\n",
       "      <td>9</td>\n",
       "      <td>175.0</td>\n",
       "      <td>...</td>\n",
       "      <td>16</td>\n",
       "      <td>8</td>\n",
       "      <td>0</td>\n",
       "      <td>1</td>\n",
       "      <td>0</td>\n",
       "      <td>0</td>\n",
       "      <td>0</td>\n",
       "      <td>0</td>\n",
       "      <td>1</td>\n",
       "      <td>0</td>\n",
       "    </tr>\n",
       "  </tbody>\n",
       "</table>\n",
       "<p>5 rows × 24 columns</p>\n",
       "</div>"
      ],
      "text/plain": [
       "   General_Health  Checkup  Exercise  Heart_Disease  Skin_Cancer  \\\n",
       "0               4        2         0              1            0   \n",
       "1               4        2         1              0            0   \n",
       "2               1        2         1              1            0   \n",
       "3               3        2         0              0            0   \n",
       "4               2        2         1              1            0   \n",
       "\n",
       "   Other_Cancer  Depression  Arthritis  Age_Category  Height_(cm)  ...  \\\n",
       "0             0           0          0            11        165.0  ...   \n",
       "1             0           0          0             9        163.0  ...   \n",
       "2             0           0          0            12        180.0  ...   \n",
       "3             0           0          0            13        191.0  ...   \n",
       "4             0           0          1             9        175.0  ...   \n",
       "\n",
       "   Fruit_Consumption  Green_Vegetables_Consumption  FriedPotato_Consumption  \\\n",
       "0                 30                             0                        4   \n",
       "1                 12                             3                       16   \n",
       "2                 30                            30                        8   \n",
       "3                  8                             4                        0   \n",
       "4                 16                             8                        0   \n",
       "\n",
       "   Diabetes_No  Diabetes_No, pre-diabetes or borderline diabetes  \\\n",
       "0            0                                                 0   \n",
       "1            0                                                 0   \n",
       "2            0                                                 0   \n",
       "3            1                                                 0   \n",
       "4            1                                                 0   \n",
       "\n",
       "   Diabetes_Yes  Diabetes_Yes, but female told only during pregnancy  \\\n",
       "0             1                                                  0     \n",
       "1             1                                                  0     \n",
       "2             1                                                  0     \n",
       "3             0                                                  0     \n",
       "4             0                                                  0     \n",
       "\n",
       "   Sex_Female  Sex_Male  Sex_Non-Binary  \n",
       "0           1         0               0  \n",
       "1           1         0               0  \n",
       "2           0         1               0  \n",
       "3           0         1               0  \n",
       "4           0         1               0  \n",
       "\n",
       "[5 rows x 24 columns]"
      ]
     },
     "execution_count": 1,
     "metadata": {},
     "output_type": "execute_result"
    }
   ],
   "source": [
    "import pandas as pd\n",
    "\n",
    "# Read data from an Excel file named 'CleanData.xlsx' and specify the sheet name as 'Sheet1'\n",
    "df_can = pd.read_csv(\"CleanData.csv\")\n",
    "\n",
    "# Display the first few rows (head) of the DataFrame to inspect the data\n",
    "df_can.head()"
   ]
  },
  {
   "cell_type": "code",
   "execution_count": 2,
   "id": "6d43043a-2b85-4c55-8426-dec735f237b4",
   "metadata": {},
   "outputs": [
    {
     "name": "stdout",
     "output_type": "stream",
     "text": [
      "General_Health                                         0\n",
      "Checkup                                                0\n",
      "Exercise                                               0\n",
      "Heart_Disease                                          0\n",
      "Skin_Cancer                                            0\n",
      "Other_Cancer                                           0\n",
      "Depression                                             0\n",
      "Arthritis                                              0\n",
      "Age_Category                                           0\n",
      "Height_(cm)                                            0\n",
      "Weight_(kg)                                            0\n",
      "BMI                                                    0\n",
      "Smoking_History                                        0\n",
      "Alcohol_Consumption                                    0\n",
      "Fruit_Consumption                                      0\n",
      "Green_Vegetables_Consumption                           0\n",
      "FriedPotato_Consumption                                0\n",
      "Diabetes_No                                            0\n",
      "Diabetes_No, pre-diabetes or borderline diabetes       0\n",
      "Diabetes_Yes                                           0\n",
      "Diabetes_Yes, but female told only during pregnancy    0\n",
      "Sex_Female                                             0\n",
      "Sex_Male                                               0\n",
      "Sex_Non-Binary                                         0\n",
      "dtype: int64\n"
     ]
    }
   ],
   "source": [
    "# Print the sum of missing values for each column in the DataFrame\n",
    "print(df_can.isnull().sum())"
   ]
  },
  {
   "cell_type": "code",
   "execution_count": 3,
   "id": "910a46f9-dd7f-4f47-b40b-0261c20fe274",
   "metadata": {},
   "outputs": [
    {
     "name": "stdout",
     "output_type": "stream",
     "text": [
      "(283302, 24)\n"
     ]
    }
   ],
   "source": [
    "# Print the shape of the DataFrame, which represents the number of rows and columns\n",
    "print(df_can.shape)"
   ]
  },
  {
   "cell_type": "code",
   "execution_count": 4,
   "id": "d10af31e-61a9-4368-847b-e36969cfa15e",
   "metadata": {},
   "outputs": [
    {
     "name": "stdout",
     "output_type": "stream",
     "text": [
      "General_Health: [4 1 3 2 5]\n",
      "\n",
      "\n",
      "Checkup: [2 3 4 5 1]\n",
      "\n",
      "\n",
      "Exercise; [0 1]\n",
      "\n",
      "\n",
      "Heart_Disease: [1 0]\n",
      "\n",
      "\n",
      "Skin_Cancer: [0 1]\n",
      "\n",
      "\n",
      "Other_Cancer: [0 1]\n",
      "\n",
      "\n",
      "Depression: [0 1]\n",
      "\n",
      "\n",
      "Arthritis: [0 1]\n",
      "\n",
      "\n",
      "Age_Category: [11  9 12 13 10  7  6  1  8  4  5  2  3]\n",
      "\n",
      "\n",
      "Height_(cm): [165.         163.         180.         191.         175.\n",
      " 160.         168.         178.         152.         183.\n",
      " 157.         188.         185.         170.         173.\n",
      " 155.         196.         150.         193.         198.\n",
      " 145.         147.         142.         170.55357789 151.\n",
      " 170.61522319 177.         164.         162.         156.\n",
      " 153.         169.         167.         172.         190.\n",
      " 171.         154.         176.         146.         148.\n",
      " 158.         159.         187.         182.         184.\n",
      " 166.         181.         186.         174.         149.\n",
      " 143.         197.         161.         144.         189.\n",
      " 179.         200.         195.        ]\n",
      "\n",
      "\n",
      "Weight_(kg): [ 77.11  88.45  93.44  69.85 108.86  72.57  91.63  74.84  73.48  83.91\n",
      " 113.4   52.16  99.79  81.65 104.33  79.38  55.79  81.19  70.31 112.49\n",
      "  84.82 102.06  64.41  60.78  61.23  88.    90.72  49.9   85.28  69.4\n",
      "  62.14  65.77  89.81  66.68  86.18  72.12  87.54  62.6   75.75  88.9\n",
      "  92.08  56.7   68.04  79.83  63.5   58.97 114.76  45.36  73.94  54.43\n",
      "  77.56  96.16  95.25  82.55  78.93  70.76  95.71  53.52  87.09  55.34\n",
      "  83.01  98.88  73.03  76.66  97.52  71.67  83.46  58.06  74.39  67.13\n",
      "  82.1   47.63  85.73 108.41  91.17  57.61  63.05  45.81  94.35  44.45\n",
      " 117.93 106.59  89.36  92.99  53.07  78.02  97.98  84.37 111.13  50.8\n",
      "  57.15 107.95  64.86  80.29  76.2   65.32  97.07  67.59  75.3  105.69\n",
      "  86.64  51.26  61.69 107.05  42.64  40.82 101.6   90.26  98.43  78.47\n",
      "  59.87  68.95  60.33  94.8   48.53 110.68  96.62 117.48 102.51  46.27\n",
      "  58.51  68.49  52.62  80.74  48.99 117.03  54.88  51.71  92.53  99.34\n",
      "  44.91 105.23 106.14  56.25 103.42  71.21 101.15 103.87  93.89  49.44\n",
      "  46.72 112.04  66.22 114.31  63.96 115.67 111.58 110.22 118.39 119.29\n",
      " 102.97  43.09  43.54 119.75  59.42 116.12 100.7  115.21 100.24  50.35\n",
      "  47.17 118.84 116.57 113.85  72.    44.   104.78 107.5   65.    48.08\n",
      "  53.98  36.29 105.    75.   109.   109.77  42.18  39.92  78.   109.32\n",
      "  85.    90.    61.    60.   112.94  45.    82.    70.    64.   100.\n",
      "  63.    95.    74.    83.    97.    73.    54.    80.    55.    52.\n",
      "  67.    68.    62.    76.    79.    96.    58.   118.    84.    38.1\n",
      "  41.73  39.01  37.19  87.    35.38  89.    66.    40.37  81.    50.\n",
      "  38.56  86.   110.    92.    41.28  48.    94.    98.    53.    77.\n",
      "  69.   101.    47.    59.    39.46  46.    40.    51.    37.65  93.\n",
      "  56.   119.    99.    36.74  57.    71.   103.    35.83 116.   120.\n",
      " 102.    43.   106.   112.    41.   113.   117.   115.    49.    42.  ]\n",
      "\n",
      "\n",
      "Smoking_History: [0 1]\n",
      "\n",
      "\n",
      "Alcohol_Consumption: [ 0  4  3  8 30  2 12  1  5 10 20 17 16  6 25 28 15  7  9 24 11 29 27 14\n",
      " 21 23 18 26 22 13 19]\n",
      "\n",
      "\n",
      "Fruit_Consumption: [ 30  12   8  16   2   1  60   0   7   5   3   6  90  28  20   4  80  24\n",
      "  15  10  25  14 120  32  40  17  45 100   9  99  96  35  50  56  48  72\n",
      "  36  84  26  23  18  27  21  42  22  11  29  64  70  33  76  44  39  75\n",
      "  31  92 104  88  65  55  13  63  97 108  19  52  98  68  34 116 112  54\n",
      "  38  62  85]\n",
      "\n",
      "\n",
      "Green_Vegetables_Consumption: [  0   3  30   4   8  12  20   1  16  10   2   5   6  60  28  25  14  40\n",
      "   7  22  24  15 120  90  19  13  11  80  27  17  56  18  21  99   9  29\n",
      "  31  45  23 100 104  32  75  36  35 112  26  33  48  96  52  76  84  50\n",
      "  34  97  88  68  92  95  64  61  65  77 124  85  44  39  70  93 128  37]\n",
      "\n",
      "\n",
      "FriedPotato_Consumption: [  4  16   8   0   1   2  30  20  15  12   3   7  28   5   9   6  10 120\n",
      "  32  14  60  33  48  25  24  21  90  13  17  18  40  56  34  36 100  11\n",
      "  45  29  68  26  50  22  99  64  23  27 112  35  31  98  96  88  92  76\n",
      "  80  49 128  19  37  42  52  46 124  84]\n",
      "\n",
      "\n"
     ]
    }
   ],
   "source": [
    "# Displaying unique values for selected columns in the DataFrame 'df_new'\n",
    "\n",
    "print('General_Health:',df_can['General_Health'].unique())\n",
    "print(\"\\n\")\n",
    "\n",
    "print('Checkup:',df_can['Checkup'].unique())\n",
    "print(\"\\n\")\n",
    "\n",
    "print('Exercise;',df_can['Exercise'].unique())\n",
    "print(\"\\n\")\n",
    "\n",
    "print('Heart_Disease:',df_can['Heart_Disease'].unique())\n",
    "print(\"\\n\")\n",
    "\n",
    "print('Skin_Cancer:',df_can['Skin_Cancer'].unique())\n",
    "print(\"\\n\")\n",
    "\n",
    "print('Other_Cancer:',df_can['Other_Cancer'].unique())\n",
    "print(\"\\n\")\n",
    "\n",
    "print('Depression:',df_can['Depression'].unique())\n",
    "print(\"\\n\")\n",
    "\n",
    "print('Arthritis:',df_can['Arthritis'].unique())\n",
    "print(\"\\n\")\n",
    "\n",
    "print('Age_Category:',df_can['Age_Category'].unique())\n",
    "print(\"\\n\")\n",
    "\n",
    "print('Height_(cm):',df_can['Height_(cm)'].unique())\n",
    "print(\"\\n\")\n",
    "\n",
    "print('Weight_(kg):',df_can['Weight_(kg)'].unique())\n",
    "print(\"\\n\")\n",
    "\n",
    "\n",
    "print('Smoking_History:',df_can['Smoking_History'].unique())\n",
    "print(\"\\n\")\n",
    "\n",
    "print('Alcohol_Consumption:',df_can['Alcohol_Consumption'].unique())\n",
    "print(\"\\n\")\n",
    "\n",
    "print('Fruit_Consumption:',df_can['Fruit_Consumption'].unique())\n",
    "print(\"\\n\")\n",
    "\n",
    "print('Green_Vegetables_Consumption:',df_can['Green_Vegetables_Consumption'].unique())\n",
    "print(\"\\n\")\n",
    "\n",
    "print('FriedPotato_Consumption:',df_can['FriedPotato_Consumption'].unique())\n",
    "print(\"\\n\")"
   ]
  },
  {
   "cell_type": "markdown",
   "id": "d40578f3",
   "metadata": {},
   "source": [
    "> 2. The dataset is unbalanced. Investigate what is an unbalanced dataset, the problems caused by this type of dataset, and at least 2 techniques that can be applied during training to reduce its effect. Use academic references for this investigation and cite them (papers or books, internet blogs are not acceptable)"
   ]
  },
  {
   "cell_type": "markdown",
   "id": "f7b659bb-c561-419f-a3ef-20dd8e34218b",
   "metadata": {},
   "source": [
    "# 2. The dataset is unbalanced.\n",
    "\n",
    "Class imbalance refers to a situation in which one or more classes (the minority classes) are represented to a lesser \n",
    "extent than others (the majority classes) in a sample. This phenomenon can manifest at various levels, and to date, \n",
    "there is no clear threshold to determine when a database is imbalanced. This issue poses challenges in the realm of \n",
    "classifying new data, as it may result in a significant decrease in the efficiency of our classifier. Specifically, \n",
    "the model tends to perform more effectively on the majority class at the expense of the minority class, as it perceives \n",
    "a more pronounced presence of the former group in the sample, thus biasing the classification toward the majority class.\n",
    "\n",
    "\n",
    "Random undersampling: we randomly suppress some instances of the majority class.\n",
    "SMOTE (Synthetic Minority Oversampling Method): This technique generates new instances of the minority class by\n",
    "of the minority class by interpolating the values of the minority instances closest to a given one.\n",
    "to a given one."
   ]
  },
  {
   "cell_type": "markdown",
   "id": "6861c3d6-4e96-4b58-99d6-4b0fc5fda2b6",
   "metadata": {},
   "source": [
    "## 2.1. Oversampling SMOTE"
   ]
  },
  {
   "cell_type": "code",
   "execution_count": 5,
   "id": "0fe9bccb-7545-4b19-a3ee-35cfde0b6101",
   "metadata": {},
   "outputs": [
    {
     "name": "stdout",
     "output_type": "stream",
     "text": [
      "Without SMOTE:\n",
      "0    260819\n",
      "1     22483\n",
      "Name: Heart_Disease, dtype: int64\n",
      "With SMOTE:\n",
      "1    260819\n",
      "0    260819\n",
      "Name: Heart_Disease, dtype: int64\n"
     ]
    }
   ],
   "source": [
    "from imblearn.over_sampling import SMOTE\n",
    "import pandas as pd\n",
    "\n",
    "# Separate predictor variables (X) from the target variable (y)\n",
    "X = df_can.drop('Heart_Disease', axis=1)\n",
    "y = df_can['Heart_Disease']\n",
    "\n",
    "# Apply SMOTE\n",
    "smote = SMOTE()\n",
    "X_resampled, y_resampled = smote.fit_resample(X, y)\n",
    "\n",
    "# Print class distributions before and after the application of SMOTE\n",
    "print('Without SMOTE:')\n",
    "print(y.value_counts())\n",
    "print('With SMOTE:')\n",
    "print(y_resampled.value_counts())"
   ]
  },
  {
   "cell_type": "code",
   "execution_count": 6,
   "id": "e622d67d-d17f-4b17-b448-63e7c1b3bf1c",
   "metadata": {},
   "outputs": [
    {
     "data": {
      "text/html": [
       "<div>\n",
       "<style scoped>\n",
       "    .dataframe tbody tr th:only-of-type {\n",
       "        vertical-align: middle;\n",
       "    }\n",
       "\n",
       "    .dataframe tbody tr th {\n",
       "        vertical-align: top;\n",
       "    }\n",
       "\n",
       "    .dataframe thead th {\n",
       "        text-align: right;\n",
       "    }\n",
       "</style>\n",
       "<table border=\"1\" class=\"dataframe\">\n",
       "  <thead>\n",
       "    <tr style=\"text-align: right;\">\n",
       "      <th></th>\n",
       "      <th>General_Health</th>\n",
       "      <th>Checkup</th>\n",
       "      <th>Exercise</th>\n",
       "      <th>Skin_Cancer</th>\n",
       "      <th>Other_Cancer</th>\n",
       "      <th>Depression</th>\n",
       "      <th>Arthritis</th>\n",
       "      <th>Age_Category</th>\n",
       "      <th>Height_(cm)</th>\n",
       "      <th>Weight_(kg)</th>\n",
       "      <th>...</th>\n",
       "      <th>Green_Vegetables_Consumption</th>\n",
       "      <th>FriedPotato_Consumption</th>\n",
       "      <th>Diabetes_No</th>\n",
       "      <th>Diabetes_No, pre-diabetes or borderline diabetes</th>\n",
       "      <th>Diabetes_Yes</th>\n",
       "      <th>Diabetes_Yes, but female told only during pregnancy</th>\n",
       "      <th>Sex_Female</th>\n",
       "      <th>Sex_Male</th>\n",
       "      <th>Sex_Non-Binary</th>\n",
       "      <th>Heart_Disease</th>\n",
       "    </tr>\n",
       "  </thead>\n",
       "  <tbody>\n",
       "    <tr>\n",
       "      <th>0</th>\n",
       "      <td>4</td>\n",
       "      <td>2</td>\n",
       "      <td>0</td>\n",
       "      <td>0</td>\n",
       "      <td>0</td>\n",
       "      <td>0</td>\n",
       "      <td>0</td>\n",
       "      <td>11</td>\n",
       "      <td>165.0</td>\n",
       "      <td>77.11</td>\n",
       "      <td>...</td>\n",
       "      <td>0</td>\n",
       "      <td>4</td>\n",
       "      <td>0</td>\n",
       "      <td>0</td>\n",
       "      <td>1</td>\n",
       "      <td>0</td>\n",
       "      <td>1</td>\n",
       "      <td>0</td>\n",
       "      <td>0</td>\n",
       "      <td>1</td>\n",
       "    </tr>\n",
       "    <tr>\n",
       "      <th>1</th>\n",
       "      <td>4</td>\n",
       "      <td>2</td>\n",
       "      <td>1</td>\n",
       "      <td>0</td>\n",
       "      <td>0</td>\n",
       "      <td>0</td>\n",
       "      <td>0</td>\n",
       "      <td>9</td>\n",
       "      <td>163.0</td>\n",
       "      <td>88.45</td>\n",
       "      <td>...</td>\n",
       "      <td>3</td>\n",
       "      <td>16</td>\n",
       "      <td>0</td>\n",
       "      <td>0</td>\n",
       "      <td>1</td>\n",
       "      <td>0</td>\n",
       "      <td>1</td>\n",
       "      <td>0</td>\n",
       "      <td>0</td>\n",
       "      <td>0</td>\n",
       "    </tr>\n",
       "    <tr>\n",
       "      <th>2</th>\n",
       "      <td>1</td>\n",
       "      <td>2</td>\n",
       "      <td>1</td>\n",
       "      <td>0</td>\n",
       "      <td>0</td>\n",
       "      <td>0</td>\n",
       "      <td>0</td>\n",
       "      <td>12</td>\n",
       "      <td>180.0</td>\n",
       "      <td>93.44</td>\n",
       "      <td>...</td>\n",
       "      <td>30</td>\n",
       "      <td>8</td>\n",
       "      <td>0</td>\n",
       "      <td>0</td>\n",
       "      <td>1</td>\n",
       "      <td>0</td>\n",
       "      <td>0</td>\n",
       "      <td>1</td>\n",
       "      <td>0</td>\n",
       "      <td>1</td>\n",
       "    </tr>\n",
       "    <tr>\n",
       "      <th>3</th>\n",
       "      <td>3</td>\n",
       "      <td>2</td>\n",
       "      <td>0</td>\n",
       "      <td>0</td>\n",
       "      <td>0</td>\n",
       "      <td>0</td>\n",
       "      <td>0</td>\n",
       "      <td>13</td>\n",
       "      <td>191.0</td>\n",
       "      <td>88.45</td>\n",
       "      <td>...</td>\n",
       "      <td>4</td>\n",
       "      <td>0</td>\n",
       "      <td>1</td>\n",
       "      <td>0</td>\n",
       "      <td>0</td>\n",
       "      <td>0</td>\n",
       "      <td>0</td>\n",
       "      <td>1</td>\n",
       "      <td>0</td>\n",
       "      <td>0</td>\n",
       "    </tr>\n",
       "    <tr>\n",
       "      <th>4</th>\n",
       "      <td>2</td>\n",
       "      <td>2</td>\n",
       "      <td>1</td>\n",
       "      <td>0</td>\n",
       "      <td>0</td>\n",
       "      <td>0</td>\n",
       "      <td>1</td>\n",
       "      <td>9</td>\n",
       "      <td>175.0</td>\n",
       "      <td>69.85</td>\n",
       "      <td>...</td>\n",
       "      <td>8</td>\n",
       "      <td>0</td>\n",
       "      <td>1</td>\n",
       "      <td>0</td>\n",
       "      <td>0</td>\n",
       "      <td>0</td>\n",
       "      <td>0</td>\n",
       "      <td>1</td>\n",
       "      <td>0</td>\n",
       "      <td>1</td>\n",
       "    </tr>\n",
       "  </tbody>\n",
       "</table>\n",
       "<p>5 rows × 24 columns</p>\n",
       "</div>"
      ],
      "text/plain": [
       "   General_Health  Checkup  Exercise  Skin_Cancer  Other_Cancer  Depression  \\\n",
       "0               4        2         0            0             0           0   \n",
       "1               4        2         1            0             0           0   \n",
       "2               1        2         1            0             0           0   \n",
       "3               3        2         0            0             0           0   \n",
       "4               2        2         1            0             0           0   \n",
       "\n",
       "   Arthritis  Age_Category  Height_(cm)  Weight_(kg)  ...  \\\n",
       "0          0            11        165.0        77.11  ...   \n",
       "1          0             9        163.0        88.45  ...   \n",
       "2          0            12        180.0        93.44  ...   \n",
       "3          0            13        191.0        88.45  ...   \n",
       "4          1             9        175.0        69.85  ...   \n",
       "\n",
       "   Green_Vegetables_Consumption  FriedPotato_Consumption  Diabetes_No  \\\n",
       "0                             0                        4            0   \n",
       "1                             3                       16            0   \n",
       "2                            30                        8            0   \n",
       "3                             4                        0            1   \n",
       "4                             8                        0            1   \n",
       "\n",
       "   Diabetes_No, pre-diabetes or borderline diabetes  Diabetes_Yes  \\\n",
       "0                                                 0             1   \n",
       "1                                                 0             1   \n",
       "2                                                 0             1   \n",
       "3                                                 0             0   \n",
       "4                                                 0             0   \n",
       "\n",
       "   Diabetes_Yes, but female told only during pregnancy  Sex_Female  Sex_Male  \\\n",
       "0                                                  0             1         0   \n",
       "1                                                  0             1         0   \n",
       "2                                                  0             0         1   \n",
       "3                                                  0             0         1   \n",
       "4                                                  0             0         1   \n",
       "\n",
       "   Sex_Non-Binary  Heart_Disease  \n",
       "0               0              1  \n",
       "1               0              0  \n",
       "2               0              1  \n",
       "3               0              0  \n",
       "4               0              1  \n",
       "\n",
       "[5 rows x 24 columns]"
      ]
     },
     "execution_count": 6,
     "metadata": {},
     "output_type": "execute_result"
    }
   ],
   "source": [
    "# Convert numpy arrays to a dataframe\n",
    "X_resampled_df = pd.DataFrame(X_resampled, columns=X.columns)\n",
    "y_resampled_df = pd.DataFrame(y_resampled, columns=['Heart_Disease'])\n",
    "\n",
    "# Concatenate the two parts of the dataframe\n",
    "df_oversampling = pd.concat([X_resampled_df, y_resampled_df], axis=1)\n",
    "\n",
    "# Print the first 5 rows of the resulting dataframe\n",
    "df_oversampling.head()"
   ]
  },
  {
   "cell_type": "code",
   "execution_count": 7,
   "id": "00858a15-1e17-4cfa-9796-709c320d0e0c",
   "metadata": {},
   "outputs": [
    {
     "data": {
      "image/png": "[encoded data removed]",
      "text/plain": [
       "<Figure size 640x480 with 1 Axes>"
      ]
     },
     "metadata": {},
     "output_type": "display_data"
    }
   ],
   "source": [
    "import matplotlib.pyplot as plt\n",
    "\n",
    "# Create the histogram\n",
    "Heart_Disease = df_oversampling['Heart_Disease'].value_counts()\n",
    "\n",
    "# Create a bar chart\n",
    "ax = Heart_Disease.plot(kind='bar', color=['crimson', 'orange', 'gold', 'limegreen', 'darkturquoise'])\n",
    "\n",
    "# Add labels and title\n",
    "plt.xlabel('Heart_Disease')\n",
    "plt.ylabel('Frequency')\n",
    "plt.title('Bar Chart Heart_Disease (Oversampling)')\n",
    "\n",
    "# Add legend with corrected labels\n",
    "plt.legend(['1 - Yes', '0 - No'], title='Category')\n",
    "\n",
    "# Calculate total number of cases\n",
    "total_cases = len(df_oversampling['Heart_Disease'])\n",
    "\n",
    "# Calculate and display the percentage on top of each bar\n",
    "for i, value in enumerate(Heart_Disease):\n",
    "    percentage = (value / total_cases) * 100\n",
    "    ax.text(i, value + 1, f'{percentage:.2f}%', ha='center', va='bottom')\n",
    "\n",
    "# Show the plot\n",
    "plt.show()"
   ]
  },
  {
   "cell_type": "code",
   "execution_count": 8,
   "id": "b7137219-6714-4520-ae8b-2ed01cd4851a",
   "metadata": {},
   "outputs": [
    {
     "data": {
      "text/plain": [
       "521638"
      ]
     },
     "execution_count": 8,
     "metadata": {},
     "output_type": "execute_result"
    }
   ],
   "source": [
    "len(df_oversampling['Heart_Disease'])"
   ]
  },
  {
   "cell_type": "markdown",
   "id": "9ad3bcac-e9de-41d9-a118-954f81bd3071",
   "metadata": {},
   "source": [
    "## 2.2. Random undersampling"
   ]
  },
  {
   "cell_type": "code",
   "execution_count": 9,
   "id": "0d2166af-d893-4cf3-bedc-68288b05830b",
   "metadata": {},
   "outputs": [
    {
     "name": "stdout",
     "output_type": "stream",
     "text": [
      "Without Random Undersampling:\n",
      "0    260819\n",
      "1     22483\n",
      "Name: Heart_Disease, dtype: int64\n",
      "With Random Undersampling:\n",
      "0    22483\n",
      "1    22483\n",
      "Name: Heart_Disease, dtype: int64\n"
     ]
    }
   ],
   "source": [
    "# Importing necessary libraries\n",
    "from imblearn.under_sampling import RandomUnderSampler\n",
    "import pandas as pd\n",
    "\n",
    "# Assume X is your set of predictor variables and y is the target variable\n",
    "X = df_can.drop('Heart_Disease', axis=1)\n",
    "y = df_can['Heart_Disease']\n",
    "\n",
    "# Apply Random Undersampling\n",
    "undersampler = RandomUnderSampler(sampling_strategy='auto', random_state=42)\n",
    "X_resampled, y_resampled = undersampler.fit_resample(X, y)\n",
    "\n",
    "# Print class distributions before and after Random Undersampling\n",
    "print('Without Random Undersampling:')\n",
    "print(y.value_counts())\n",
    "print('With Random Undersampling:')\n",
    "print(y_resampled.value_counts())"
   ]
  },
  {
   "cell_type": "code",
   "execution_count": 10,
   "id": "d15e33a9-db90-4d74-8306-070e1ec33560",
   "metadata": {},
   "outputs": [
    {
     "data": {
      "text/html": [
       "<div>\n",
       "<style scoped>\n",
       "    .dataframe tbody tr th:only-of-type {\n",
       "        vertical-align: middle;\n",
       "    }\n",
       "\n",
       "    .dataframe tbody tr th {\n",
       "        vertical-align: top;\n",
       "    }\n",
       "\n",
       "    .dataframe thead th {\n",
       "        text-align: right;\n",
       "    }\n",
       "</style>\n",
       "<table border=\"1\" class=\"dataframe\">\n",
       "  <thead>\n",
       "    <tr style=\"text-align: right;\">\n",
       "      <th></th>\n",
       "      <th>General_Health</th>\n",
       "      <th>Checkup</th>\n",
       "      <th>Exercise</th>\n",
       "      <th>Skin_Cancer</th>\n",
       "      <th>Other_Cancer</th>\n",
       "      <th>Depression</th>\n",
       "      <th>Arthritis</th>\n",
       "      <th>Age_Category</th>\n",
       "      <th>Height_(cm)</th>\n",
       "      <th>Weight_(kg)</th>\n",
       "      <th>...</th>\n",
       "      <th>Green_Vegetables_Consumption</th>\n",
       "      <th>FriedPotato_Consumption</th>\n",
       "      <th>Diabetes_No</th>\n",
       "      <th>Diabetes_No, pre-diabetes or borderline diabetes</th>\n",
       "      <th>Diabetes_Yes</th>\n",
       "      <th>Diabetes_Yes, but female told only during pregnancy</th>\n",
       "      <th>Sex_Female</th>\n",
       "      <th>Sex_Male</th>\n",
       "      <th>Sex_Non-Binary</th>\n",
       "      <th>Heart_Disease</th>\n",
       "    </tr>\n",
       "  </thead>\n",
       "  <tbody>\n",
       "    <tr>\n",
       "      <th>281095</th>\n",
       "      <td>2</td>\n",
       "      <td>2</td>\n",
       "      <td>1</td>\n",
       "      <td>0</td>\n",
       "      <td>0</td>\n",
       "      <td>0</td>\n",
       "      <td>1</td>\n",
       "      <td>13</td>\n",
       "      <td>157.0</td>\n",
       "      <td>69.85</td>\n",
       "      <td>...</td>\n",
       "      <td>3</td>\n",
       "      <td>0</td>\n",
       "      <td>1</td>\n",
       "      <td>0</td>\n",
       "      <td>0</td>\n",
       "      <td>0</td>\n",
       "      <td>1</td>\n",
       "      <td>0</td>\n",
       "      <td>0</td>\n",
       "      <td>0</td>\n",
       "    </tr>\n",
       "    <tr>\n",
       "      <th>92078</th>\n",
       "      <td>3</td>\n",
       "      <td>2</td>\n",
       "      <td>1</td>\n",
       "      <td>0</td>\n",
       "      <td>0</td>\n",
       "      <td>0</td>\n",
       "      <td>1</td>\n",
       "      <td>9</td>\n",
       "      <td>170.0</td>\n",
       "      <td>99.79</td>\n",
       "      <td>...</td>\n",
       "      <td>4</td>\n",
       "      <td>0</td>\n",
       "      <td>1</td>\n",
       "      <td>0</td>\n",
       "      <td>0</td>\n",
       "      <td>0</td>\n",
       "      <td>1</td>\n",
       "      <td>0</td>\n",
       "      <td>0</td>\n",
       "      <td>0</td>\n",
       "    </tr>\n",
       "    <tr>\n",
       "      <th>205136</th>\n",
       "      <td>3</td>\n",
       "      <td>2</td>\n",
       "      <td>0</td>\n",
       "      <td>0</td>\n",
       "      <td>0</td>\n",
       "      <td>0</td>\n",
       "      <td>1</td>\n",
       "      <td>12</td>\n",
       "      <td>155.0</td>\n",
       "      <td>68.04</td>\n",
       "      <td>...</td>\n",
       "      <td>8</td>\n",
       "      <td>2</td>\n",
       "      <td>1</td>\n",
       "      <td>0</td>\n",
       "      <td>0</td>\n",
       "      <td>0</td>\n",
       "      <td>1</td>\n",
       "      <td>0</td>\n",
       "      <td>0</td>\n",
       "      <td>0</td>\n",
       "    </tr>\n",
       "    <tr>\n",
       "      <th>271849</th>\n",
       "      <td>4</td>\n",
       "      <td>2</td>\n",
       "      <td>1</td>\n",
       "      <td>0</td>\n",
       "      <td>0</td>\n",
       "      <td>0</td>\n",
       "      <td>1</td>\n",
       "      <td>6</td>\n",
       "      <td>168.0</td>\n",
       "      <td>72.57</td>\n",
       "      <td>...</td>\n",
       "      <td>20</td>\n",
       "      <td>5</td>\n",
       "      <td>1</td>\n",
       "      <td>0</td>\n",
       "      <td>0</td>\n",
       "      <td>0</td>\n",
       "      <td>1</td>\n",
       "      <td>0</td>\n",
       "      <td>0</td>\n",
       "      <td>0</td>\n",
       "    </tr>\n",
       "    <tr>\n",
       "      <th>182064</th>\n",
       "      <td>5</td>\n",
       "      <td>2</td>\n",
       "      <td>1</td>\n",
       "      <td>0</td>\n",
       "      <td>0</td>\n",
       "      <td>0</td>\n",
       "      <td>0</td>\n",
       "      <td>9</td>\n",
       "      <td>160.0</td>\n",
       "      <td>53.98</td>\n",
       "      <td>...</td>\n",
       "      <td>0</td>\n",
       "      <td>0</td>\n",
       "      <td>1</td>\n",
       "      <td>0</td>\n",
       "      <td>0</td>\n",
       "      <td>0</td>\n",
       "      <td>1</td>\n",
       "      <td>0</td>\n",
       "      <td>0</td>\n",
       "      <td>0</td>\n",
       "    </tr>\n",
       "  </tbody>\n",
       "</table>\n",
       "<p>5 rows × 24 columns</p>\n",
       "</div>"
      ],
      "text/plain": [
       "        General_Health  Checkup  Exercise  Skin_Cancer  Other_Cancer  \\\n",
       "281095               2        2         1            0             0   \n",
       "92078                3        2         1            0             0   \n",
       "205136               3        2         0            0             0   \n",
       "271849               4        2         1            0             0   \n",
       "182064               5        2         1            0             0   \n",
       "\n",
       "        Depression  Arthritis  Age_Category  Height_(cm)  Weight_(kg)  ...  \\\n",
       "281095           0          1            13        157.0        69.85  ...   \n",
       "92078            0          1             9        170.0        99.79  ...   \n",
       "205136           0          1            12        155.0        68.04  ...   \n",
       "271849           0          1             6        168.0        72.57  ...   \n",
       "182064           0          0             9        160.0        53.98  ...   \n",
       "\n",
       "        Green_Vegetables_Consumption  FriedPotato_Consumption  Diabetes_No  \\\n",
       "281095                             3                        0            1   \n",
       "92078                              4                        0            1   \n",
       "205136                             8                        2            1   \n",
       "271849                            20                        5            1   \n",
       "182064                             0                        0            1   \n",
       "\n",
       "        Diabetes_No, pre-diabetes or borderline diabetes  Diabetes_Yes  \\\n",
       "281095                                                 0             0   \n",
       "92078                                                  0             0   \n",
       "205136                                                 0             0   \n",
       "271849                                                 0             0   \n",
       "182064                                                 0             0   \n",
       "\n",
       "        Diabetes_Yes, but female told only during pregnancy  Sex_Female  \\\n",
       "281095                                                  0             1   \n",
       "92078                                                   0             1   \n",
       "205136                                                  0             1   \n",
       "271849                                                  0             1   \n",
       "182064                                                  0             1   \n",
       "\n",
       "        Sex_Male  Sex_Non-Binary  Heart_Disease  \n",
       "281095         0               0              0  \n",
       "92078          0               0              0  \n",
       "205136         0               0              0  \n",
       "271849         0               0              0  \n",
       "182064         0               0              0  \n",
       "\n",
       "[5 rows x 24 columns]"
      ]
     },
     "execution_count": 10,
     "metadata": {},
     "output_type": "execute_result"
    }
   ],
   "source": [
    "# Convert numpy arrays to a dataframe\n",
    "X0_resampled_df = pd.DataFrame(X_resampled, columns=X.columns)\n",
    "y0_resampled_df = pd.DataFrame(y_resampled, columns=['Heart_Disease'])\n",
    "\n",
    "# Concatenate the two parts of the dataframe\n",
    "df_undersampling = pd.concat([X0_resampled_df, y0_resampled_df], axis=1)\n",
    "\n",
    "# Print the first 5 rows of the resulting dataframe\n",
    "df_undersampling.head()"
   ]
  },
  {
   "cell_type": "code",
   "execution_count": 11,
   "id": "c0cd5cfb-c6e8-4582-a2b3-53728752340e",
   "metadata": {},
   "outputs": [
    {
     "data": {
      "image/png": "[encoded data removed]",
      "text/plain": [
       "<Figure size 640x480 with 1 Axes>"
      ]
     },
     "metadata": {},
     "output_type": "display_data"
    }
   ],
   "source": [
    "import matplotlib.pyplot as plt\n",
    "\n",
    "# Create the histogram\n",
    "Heart_Disease = df_undersampling['Heart_Disease'].value_counts()\n",
    "\n",
    "# Create a bar chart\n",
    "ax = Heart_Disease.plot(kind='bar', color=['crimson', 'orange', 'gold', 'limegreen', 'darkturquoise'])\n",
    "\n",
    "# Add labels and title\n",
    "plt.xlabel('Heart_Disease')\n",
    "plt.ylabel('Frequency')\n",
    "plt.title('Bar Chart Heart_Disease (Undersampling)')\n",
    "\n",
    "# Add legend with corrected labels\n",
    "plt.legend(['0 - No', '1 - Yes'], title='Category')\n",
    "\n",
    "# Calculate total number of cases\n",
    "total_cases = len(df_undersampling['Heart_Disease'])\n",
    "\n",
    "# Calculate and display the percentage on top of each bar\n",
    "for i, value in enumerate(Heart_Disease):\n",
    "    percentage = (value / total_cases) * 100\n",
    "    ax.text(i, value + 1, f'{percentage:.2f}%', ha='center', va='bottom')\n",
    "\n",
    "# Show the plot\n",
    "plt.show()"
   ]
  },
  {
   "cell_type": "code",
   "execution_count": 12,
   "id": "924f6114-4544-452b-8034-b46744bb405e",
   "metadata": {},
   "outputs": [
    {
     "data": {
      "text/plain": [
       "44966"
      ]
     },
     "execution_count": 12,
     "metadata": {},
     "output_type": "execute_result"
    }
   ],
   "source": [
    "len(df_undersampling['Heart_Disease'])"
   ]
  },
  {
   "cell_type": "markdown",
   "id": "f34b0af2-c273-4924-a8f0-b9cdb04718e7",
   "metadata": {},
   "source": [
    "## 2.3. Normalization"
   ]
  },
  {
   "cell_type": "code",
   "execution_count": 13,
   "id": "13a17b2b-b98a-4457-bcf0-e1468e329d24",
   "metadata": {},
   "outputs": [
    {
     "data": {
      "text/html": [
       "<div>\n",
       "<style scoped>\n",
       "    .dataframe tbody tr th:only-of-type {\n",
       "        vertical-align: middle;\n",
       "    }\n",
       "\n",
       "    .dataframe tbody tr th {\n",
       "        vertical-align: top;\n",
       "    }\n",
       "\n",
       "    .dataframe thead th {\n",
       "        text-align: right;\n",
       "    }\n",
       "</style>\n",
       "<table border=\"1\" class=\"dataframe\">\n",
       "  <thead>\n",
       "    <tr style=\"text-align: right;\">\n",
       "      <th></th>\n",
       "      <th>General_Health</th>\n",
       "      <th>Checkup</th>\n",
       "      <th>Exercise</th>\n",
       "      <th>Skin_Cancer</th>\n",
       "      <th>Other_Cancer</th>\n",
       "      <th>Depression</th>\n",
       "      <th>Arthritis</th>\n",
       "      <th>Age_Category</th>\n",
       "      <th>Height_(cm)</th>\n",
       "      <th>Weight_(kg)</th>\n",
       "      <th>...</th>\n",
       "      <th>Green_Vegetables_Consumption</th>\n",
       "      <th>FriedPotato_Consumption</th>\n",
       "      <th>Diabetes_No</th>\n",
       "      <th>Diabetes_No, pre-diabetes or borderline diabetes</th>\n",
       "      <th>Diabetes_Yes</th>\n",
       "      <th>Diabetes_Yes, but female told only during pregnancy</th>\n",
       "      <th>Sex_Female</th>\n",
       "      <th>Sex_Male</th>\n",
       "      <th>Sex_Non-Binary</th>\n",
       "      <th>Heart_Disease</th>\n",
       "    </tr>\n",
       "  </thead>\n",
       "  <tbody>\n",
       "    <tr>\n",
       "      <th>0</th>\n",
       "      <td>4</td>\n",
       "      <td>2</td>\n",
       "      <td>0</td>\n",
       "      <td>0</td>\n",
       "      <td>0</td>\n",
       "      <td>0</td>\n",
       "      <td>0</td>\n",
       "      <td>11</td>\n",
       "      <td>-0.524785</td>\n",
       "      <td>-0.154627</td>\n",
       "      <td>...</td>\n",
       "      <td>-1.020080</td>\n",
       "      <td>-0.256943</td>\n",
       "      <td>0</td>\n",
       "      <td>0</td>\n",
       "      <td>1</td>\n",
       "      <td>0</td>\n",
       "      <td>1</td>\n",
       "      <td>0</td>\n",
       "      <td>0</td>\n",
       "      <td>1</td>\n",
       "    </tr>\n",
       "    <tr>\n",
       "      <th>1</th>\n",
       "      <td>4</td>\n",
       "      <td>2</td>\n",
       "      <td>1</td>\n",
       "      <td>0</td>\n",
       "      <td>0</td>\n",
       "      <td>0</td>\n",
       "      <td>0</td>\n",
       "      <td>9</td>\n",
       "      <td>-0.720638</td>\n",
       "      <td>0.539505</td>\n",
       "      <td>...</td>\n",
       "      <td>-0.820301</td>\n",
       "      <td>1.153189</td>\n",
       "      <td>0</td>\n",
       "      <td>0</td>\n",
       "      <td>1</td>\n",
       "      <td>0</td>\n",
       "      <td>1</td>\n",
       "      <td>0</td>\n",
       "      <td>0</td>\n",
       "      <td>0</td>\n",
       "    </tr>\n",
       "    <tr>\n",
       "      <th>2</th>\n",
       "      <td>1</td>\n",
       "      <td>2</td>\n",
       "      <td>1</td>\n",
       "      <td>0</td>\n",
       "      <td>0</td>\n",
       "      <td>0</td>\n",
       "      <td>0</td>\n",
       "      <td>12</td>\n",
       "      <td>0.944111</td>\n",
       "      <td>0.844948</td>\n",
       "      <td>...</td>\n",
       "      <td>0.977707</td>\n",
       "      <td>0.213101</td>\n",
       "      <td>0</td>\n",
       "      <td>0</td>\n",
       "      <td>1</td>\n",
       "      <td>0</td>\n",
       "      <td>0</td>\n",
       "      <td>1</td>\n",
       "      <td>0</td>\n",
       "      <td>1</td>\n",
       "    </tr>\n",
       "    <tr>\n",
       "      <th>3</th>\n",
       "      <td>3</td>\n",
       "      <td>2</td>\n",
       "      <td>0</td>\n",
       "      <td>0</td>\n",
       "      <td>0</td>\n",
       "      <td>0</td>\n",
       "      <td>0</td>\n",
       "      <td>13</td>\n",
       "      <td>2.021302</td>\n",
       "      <td>0.539505</td>\n",
       "      <td>...</td>\n",
       "      <td>-0.753708</td>\n",
       "      <td>-0.726987</td>\n",
       "      <td>1</td>\n",
       "      <td>0</td>\n",
       "      <td>0</td>\n",
       "      <td>0</td>\n",
       "      <td>0</td>\n",
       "      <td>1</td>\n",
       "      <td>0</td>\n",
       "      <td>0</td>\n",
       "    </tr>\n",
       "    <tr>\n",
       "      <th>4</th>\n",
       "      <td>2</td>\n",
       "      <td>2</td>\n",
       "      <td>1</td>\n",
       "      <td>0</td>\n",
       "      <td>0</td>\n",
       "      <td>0</td>\n",
       "      <td>1</td>\n",
       "      <td>9</td>\n",
       "      <td>0.454479</td>\n",
       "      <td>-0.599019</td>\n",
       "      <td>...</td>\n",
       "      <td>-0.487337</td>\n",
       "      <td>-0.726987</td>\n",
       "      <td>1</td>\n",
       "      <td>0</td>\n",
       "      <td>0</td>\n",
       "      <td>0</td>\n",
       "      <td>0</td>\n",
       "      <td>1</td>\n",
       "      <td>0</td>\n",
       "      <td>1</td>\n",
       "    </tr>\n",
       "    <tr>\n",
       "      <th>...</th>\n",
       "      <td>...</td>\n",
       "      <td>...</td>\n",
       "      <td>...</td>\n",
       "      <td>...</td>\n",
       "      <td>...</td>\n",
       "      <td>...</td>\n",
       "      <td>...</td>\n",
       "      <td>...</td>\n",
       "      <td>...</td>\n",
       "      <td>...</td>\n",
       "      <td>...</td>\n",
       "      <td>...</td>\n",
       "      <td>...</td>\n",
       "      <td>...</td>\n",
       "      <td>...</td>\n",
       "      <td>...</td>\n",
       "      <td>...</td>\n",
       "      <td>...</td>\n",
       "      <td>...</td>\n",
       "      <td>...</td>\n",
       "      <td>...</td>\n",
       "    </tr>\n",
       "    <tr>\n",
       "      <th>283297</th>\n",
       "      <td>4</td>\n",
       "      <td>2</td>\n",
       "      <td>1</td>\n",
       "      <td>0</td>\n",
       "      <td>0</td>\n",
       "      <td>0</td>\n",
       "      <td>0</td>\n",
       "      <td>2</td>\n",
       "      <td>-0.231006</td>\n",
       "      <td>0.123271</td>\n",
       "      <td>...</td>\n",
       "      <td>-0.487337</td>\n",
       "      <td>-0.726987</td>\n",
       "      <td>1</td>\n",
       "      <td>0</td>\n",
       "      <td>0</td>\n",
       "      <td>0</td>\n",
       "      <td>0</td>\n",
       "      <td>1</td>\n",
       "      <td>0</td>\n",
       "      <td>0</td>\n",
       "    </tr>\n",
       "    <tr>\n",
       "      <th>283298</th>\n",
       "      <td>2</td>\n",
       "      <td>4</td>\n",
       "      <td>1</td>\n",
       "      <td>0</td>\n",
       "      <td>0</td>\n",
       "      <td>0</td>\n",
       "      <td>0</td>\n",
       "      <td>10</td>\n",
       "      <td>0.944111</td>\n",
       "      <td>-0.599019</td>\n",
       "      <td>...</td>\n",
       "      <td>2.975493</td>\n",
       "      <td>-0.256943</td>\n",
       "      <td>0</td>\n",
       "      <td>0</td>\n",
       "      <td>1</td>\n",
       "      <td>0</td>\n",
       "      <td>0</td>\n",
       "      <td>1</td>\n",
       "      <td>0</td>\n",
       "      <td>0</td>\n",
       "    </tr>\n",
       "    <tr>\n",
       "      <th>283299</th>\n",
       "      <td>4</td>\n",
       "      <td>5</td>\n",
       "      <td>1</td>\n",
       "      <td>0</td>\n",
       "      <td>0</td>\n",
       "      <td>1</td>\n",
       "      <td>0</td>\n",
       "      <td>3</td>\n",
       "      <td>-1.308196</td>\n",
       "      <td>-1.126658</td>\n",
       "      <td>...</td>\n",
       "      <td>-0.487337</td>\n",
       "      <td>-0.256943</td>\n",
       "      <td>0</td>\n",
       "      <td>0</td>\n",
       "      <td>0</td>\n",
       "      <td>1</td>\n",
       "      <td>1</td>\n",
       "      <td>0</td>\n",
       "      <td>0</td>\n",
       "      <td>0</td>\n",
       "    </tr>\n",
       "    <tr>\n",
       "      <th>283300</th>\n",
       "      <td>4</td>\n",
       "      <td>2</td>\n",
       "      <td>1</td>\n",
       "      <td>0</td>\n",
       "      <td>0</td>\n",
       "      <td>0</td>\n",
       "      <td>0</td>\n",
       "      <td>10</td>\n",
       "      <td>1.237891</td>\n",
       "      <td>-0.015678</td>\n",
       "      <td>...</td>\n",
       "      <td>-0.220965</td>\n",
       "      <td>-0.726987</td>\n",
       "      <td>1</td>\n",
       "      <td>0</td>\n",
       "      <td>0</td>\n",
       "      <td>0</td>\n",
       "      <td>0</td>\n",
       "      <td>1</td>\n",
       "      <td>0</td>\n",
       "      <td>0</td>\n",
       "    </tr>\n",
       "    <tr>\n",
       "      <th>283301</th>\n",
       "      <td>5</td>\n",
       "      <td>2</td>\n",
       "      <td>1</td>\n",
       "      <td>0</td>\n",
       "      <td>0</td>\n",
       "      <td>0</td>\n",
       "      <td>0</td>\n",
       "      <td>6</td>\n",
       "      <td>-1.014417</td>\n",
       "      <td>0.095114</td>\n",
       "      <td>...</td>\n",
       "      <td>-0.220965</td>\n",
       "      <td>-0.609476</td>\n",
       "      <td>1</td>\n",
       "      <td>0</td>\n",
       "      <td>0</td>\n",
       "      <td>0</td>\n",
       "      <td>1</td>\n",
       "      <td>0</td>\n",
       "      <td>0</td>\n",
       "      <td>0</td>\n",
       "    </tr>\n",
       "  </tbody>\n",
       "</table>\n",
       "<p>283302 rows × 24 columns</p>\n",
       "</div>"
      ],
      "text/plain": [
       "        General_Health  Checkup  Exercise  Skin_Cancer  Other_Cancer  \\\n",
       "0                    4        2         0            0             0   \n",
       "1                    4        2         1            0             0   \n",
       "2                    1        2         1            0             0   \n",
       "3                    3        2         0            0             0   \n",
       "4                    2        2         1            0             0   \n",
       "...                ...      ...       ...          ...           ...   \n",
       "283297               4        2         1            0             0   \n",
       "283298               2        4         1            0             0   \n",
       "283299               4        5         1            0             0   \n",
       "283300               4        2         1            0             0   \n",
       "283301               5        2         1            0             0   \n",
       "\n",
       "        Depression  Arthritis  Age_Category  Height_(cm)  Weight_(kg)  ...  \\\n",
       "0                0          0            11    -0.524785    -0.154627  ...   \n",
       "1                0          0             9    -0.720638     0.539505  ...   \n",
       "2                0          0            12     0.944111     0.844948  ...   \n",
       "3                0          0            13     2.021302     0.539505  ...   \n",
       "4                0          1             9     0.454479    -0.599019  ...   \n",
       "...            ...        ...           ...          ...          ...  ...   \n",
       "283297           0          0             2    -0.231006     0.123271  ...   \n",
       "283298           0          0            10     0.944111    -0.599019  ...   \n",
       "283299           1          0             3    -1.308196    -1.126658  ...   \n",
       "283300           0          0            10     1.237891    -0.015678  ...   \n",
       "283301           0          0             6    -1.014417     0.095114  ...   \n",
       "\n",
       "        Green_Vegetables_Consumption  FriedPotato_Consumption  Diabetes_No  \\\n",
       "0                          -1.020080                -0.256943            0   \n",
       "1                          -0.820301                 1.153189            0   \n",
       "2                           0.977707                 0.213101            0   \n",
       "3                          -0.753708                -0.726987            1   \n",
       "4                          -0.487337                -0.726987            1   \n",
       "...                              ...                      ...          ...   \n",
       "283297                     -0.487337                -0.726987            1   \n",
       "283298                      2.975493                -0.256943            0   \n",
       "283299                     -0.487337                -0.256943            0   \n",
       "283300                     -0.220965                -0.726987            1   \n",
       "283301                     -0.220965                -0.609476            1   \n",
       "\n",
       "        Diabetes_No, pre-diabetes or borderline diabetes  Diabetes_Yes  \\\n",
       "0                                                      0             1   \n",
       "1                                                      0             1   \n",
       "2                                                      0             1   \n",
       "3                                                      0             0   \n",
       "4                                                      0             0   \n",
       "...                                                  ...           ...   \n",
       "283297                                                 0             0   \n",
       "283298                                                 0             1   \n",
       "283299                                                 0             0   \n",
       "283300                                                 0             0   \n",
       "283301                                                 0             0   \n",
       "\n",
       "        Diabetes_Yes, but female told only during pregnancy  Sex_Female  \\\n",
       "0                                                       0             1   \n",
       "1                                                       0             1   \n",
       "2                                                       0             0   \n",
       "3                                                       0             0   \n",
       "4                                                       0             0   \n",
       "...                                                   ...           ...   \n",
       "283297                                                  0             0   \n",
       "283298                                                  0             0   \n",
       "283299                                                  1             1   \n",
       "283300                                                  0             0   \n",
       "283301                                                  0             1   \n",
       "\n",
       "        Sex_Male  Sex_Non-Binary  Heart_Disease  \n",
       "0              0               0              1  \n",
       "1              0               0              0  \n",
       "2              1               0              1  \n",
       "3              1               0              0  \n",
       "4              1               0              1  \n",
       "...          ...             ...            ...  \n",
       "283297         1               0              0  \n",
       "283298         1               0              0  \n",
       "283299         0               0              0  \n",
       "283300         1               0              0  \n",
       "283301         0               0              0  \n",
       "\n",
       "[283302 rows x 24 columns]"
      ]
     },
     "execution_count": 13,
     "metadata": {},
     "output_type": "execute_result"
    }
   ],
   "source": [
    "from sklearn.preprocessing import StandardScaler\n",
    "\n",
    "# Separate predictor variables (X) from the target variable (y)\n",
    "Xn = df_can.drop('Heart_Disease', axis=1)\n",
    "yn = df_can['Heart_Disease']\n",
    "\n",
    "# Select columns to normalize\n",
    "columns_to_normalize = ['Height_(cm)', 'Weight_(kg)', 'Alcohol_Consumption','Fruit_Consumption','Green_Vegetables_Consumption','FriedPotato_Consumption']\n",
    "\n",
    "# Create a copy of the original DataFrame\n",
    "X_normalized = Xn.copy()\n",
    "\n",
    "# Normalize the selected columns\n",
    "scaler = StandardScaler()\n",
    "X_normalized[columns_to_normalize] = scaler.fit_transform(X_normalized[columns_to_normalize])\n",
    "\n",
    "# Concatenate the two parts of the DataFrame\n",
    "df_can = pd.concat([X_normalized, yn], axis=1)\n",
    "\n",
    "# Print the first 5 rows of the resulting DataFrame\n",
    "df_can"
   ]
  },
  {
   "cell_type": "markdown",
   "id": "40e4907c",
   "metadata": {},
   "source": [
    "> 3. Divide the dataset in a training, validation, and test set. Make sure that the distributions in the training, validation, and test set are similar (provide a graph with the number of observations on each class for the three sets). Justify the percentage of observations assigned to each dataset using literature (include references to a paper or books to justify the percentage selected, class slides or internet blogs are not a valid reference)."
   ]
  },
  {
   "cell_type": "markdown",
   "id": "a6a6226e-444a-48d7-bfa4-2a38a378f802",
   "metadata": {},
   "source": [
    "# 3. Divide Train, Validation, test\n",
    "\n"
   ]
  },
  {
   "cell_type": "markdown",
   "id": "b163b6f2",
   "metadata": {},
   "source": [
    "In the article \"The Importance of Data Partitioning in Machine Learning,\" authors A.K. Jain, J. Mao, and K.M. Mohiuddin discuss the importance of data partitioning in machine learning. They present an empirical study showing that effectively partitioning data can significantly improve the performance of machine learning models.\n",
    "\n",
    "The authors recommend that the training set have a size of at least 70% of the data set. This provides enough data for the model to learn the patterns in the data set and for the hyperparameters to be tuned effectively.\n",
    "\n",
    "Jain, A. K., Mao, J., & Mohiuddin, K. M. (2000). The importance of data partitioning in machine learning. Journal of Machine Learning Research, 1(1), 273-324."
   ]
  },
  {
   "cell_type": "markdown",
   "id": "7a5ad403-1848-455b-aed4-113725c10a5c",
   "metadata": {},
   "source": [
    "#### We split the datasets as follows: training set: 70%, validation set: 15%, test set: 15%"
   ]
  },
  {
   "cell_type": "code",
   "execution_count": 14,
   "id": "9a434781-bdb7-42eb-9b06-e4edc1bba2ba",
   "metadata": {},
   "outputs": [],
   "source": [
    "from sklearn.model_selection import train_test_split"
   ]
  },
  {
   "cell_type": "markdown",
   "id": "5e566a25-e7ea-4bcd-9caf-3500bb283909",
   "metadata": {},
   "source": [
    "## 3.1. Undersampling"
   ]
  },
  {
   "cell_type": "code",
   "execution_count": 15,
   "id": "cdb07c36-a021-4b6d-b0bf-2fcaab1eb997",
   "metadata": {},
   "outputs": [],
   "source": [
    "#Undersampling\n",
    "# Separate predictor variables (X) from the target variable (y)\n",
    "Xu = df_undersampling.drop('Heart_Disease', axis=1)\n",
    "yu = df_undersampling['Heart_Disease']"
   ]
  },
  {
   "cell_type": "code",
   "execution_count": 16,
   "id": "82c1fe1c-a9e8-41dc-b897-eaa55575be5a",
   "metadata": {},
   "outputs": [
    {
     "name": "stdout",
     "output_type": "stream",
     "text": [
      "Training X  :  (31476, 23)\n",
      "Training y :  (31476,)\n",
      "Validation X :  (6745, 23)\n",
      "Validation y :  (6745,)\n",
      "Test X :  (6745, 23)\n",
      "Test y :  (6745,)\n"
     ]
    }
   ],
   "source": [
    "# Split the data into training, validation, and test sets for the undersampled data\n",
    "Xu_train, Xu_val_test, yu_train, yu_val_test = train_test_split(Xu, yu, test_size=0.30, random_state=42)\n",
    "# Further split the validation and test sets\n",
    "Xu_val, Xu_test, yu_val, yu_test = train_test_split(Xu_val_test, yu_val_test, test_size=0.5, random_state=42)\n",
    "# Print the sizes of the resulting sets\n",
    "print('Training X  : ', Xu_train.shape)\n",
    "print('Training y : ', yu_train.shape)\n",
    "print('Validation X : ', Xu_val.shape)\n",
    "print('Validation y : ', yu_val.shape)\n",
    "print('Test X : ', Xu_test.shape)\n",
    "print('Test y : ', yu_test.shape)"
   ]
  },
  {
   "cell_type": "markdown",
   "id": "8bd71dc1-ac91-4502-ad92-1428354e9978",
   "metadata": {},
   "source": [
    "## 3.2. Oversampling"
   ]
  },
  {
   "cell_type": "code",
   "execution_count": 17,
   "id": "f9b1d83a-7741-44f0-944a-3fa053753b0f",
   "metadata": {},
   "outputs": [],
   "source": [
    "# Oversampling\n",
    "# Separate predictor variables (X) from the target variable (y)\n",
    "Xo = df_oversampling.drop('Heart_Disease', axis=1)\n",
    "yo = df_oversampling['Heart_Disease']"
   ]
  },
  {
   "cell_type": "code",
   "execution_count": 18,
   "id": "c254e320-7810-4125-bebd-e804ef2a2554",
   "metadata": {},
   "outputs": [
    {
     "name": "stdout",
     "output_type": "stream",
     "text": [
      "Training X  :  (365146, 23)\n",
      "Training y :  (365146,)\n",
      "Validation X :  (78246, 23)\n",
      "Validation y :  (78246,)\n",
      "Test X :  (78246, 23)\n",
      "Test y :  (78246,)\n"
     ]
    }
   ],
   "source": [
    "# Split the data into training, validation, and test sets for the oveersampled data\n",
    "Xo_train, Xo_val_test, yo_train, yo_val_test = train_test_split(Xo, yo, test_size=0.30, random_state=42)\n",
    "# Further split the validation and test sets\n",
    "Xo_val, Xo_test, yo_val, yo_test = train_test_split(Xo_val_test, yo_val_test, test_size=0.5, random_state=42)\n",
    "print('Training X  : ', Xo_train.shape)\n",
    "print('Training y : ', yo_train.shape)\n",
    "print('Validation X : ', Xo_val.shape)\n",
    "print('Validation y : ', yo_val.shape)\n",
    "print('Test X : ', Xo_test.shape)\n",
    "print('Test y : ', yo_test.shape)"
   ]
  },
  {
   "cell_type": "markdown",
   "id": "f98df455-0870-4e04-9ce7-6972d3e78f5a",
   "metadata": {},
   "source": [
    "> 4. Implement a machine learning algorithm and statistically prove which of the two\n",
    "techniques researched in point 2 improves the prediction. To statistically prove this point,\n",
    "you must define the null and alternative hypothesis (𝐻! , 𝐻\" ) , test statistic, calculate P-\n",
    "value, and draw a conclusion (revise your notes/lectures from Statics class, and select an\n",
    "appropriate test). In the presentation and report the statistical method applied needs to be\n",
    "clearly explained"
   ]
  },
  {
   "cell_type": "markdown",
   "id": "456cd493-4a46-4fe5-985d-334d03e9c827",
   "metadata": {},
   "source": [
    "# 4. Machine learning algorithm and statistically"
   ]
  },
  {
   "cell_type": "markdown",
   "id": "89ba5f61-7fd3-4da3-aba7-70f0cc70341a",
   "metadata": {},
   "source": [
    "## 4.1. Logistic Regression"
   ]
  },
  {
   "cell_type": "code",
   "execution_count": 23,
   "id": "b663207f-fa96-4976-99c5-5e1104eb0c88",
   "metadata": {},
   "outputs": [],
   "source": [
    "%matplotlib inline\n",
    "\n",
    "from pathlib import Path\n",
    "\n",
    "import numpy as np\n",
    "import pandas as pd\n",
    "from sklearn.linear_model import LogisticRegression, LogisticRegressionCV\n",
    "from sklearn.model_selection import train_test_split\n",
    "import statsmodels.api as sm\n",
    "#!conda install -c conda-forge mord\n",
    "from mord import LogisticIT\n",
    "import matplotlib.pylab as plt\n",
    "import seaborn as sns\n",
    "from dmba import classificationSummary, gainsChart, liftChart\n",
    "from dmba.metric import AIC_score\n",
    "plt.savefig('filename.png')"
   ]
  },
  {
   "cell_type": "markdown",
   "id": "3415b7cc",
   "metadata": {},
   "source": [
    "### 4.1.1 LR (Undersampling)"
   ]
  },
  {
   "cell_type": "code",
   "execution_count": 24,
   "id": "715b20ca-6037-4110-af55-48f99046b59e",
   "metadata": {},
   "outputs": [
    {
     "name": "stdout",
     "output_type": "stream",
     "text": [
      "intercept  0.2895164671021274\n"
     ]
    },
    {
     "data": {
      "text/html": [
       "<div>\n",
       "<style scoped>\n",
       "    .dataframe tbody tr th:only-of-type {\n",
       "        vertical-align: middle;\n",
       "    }\n",
       "\n",
       "    .dataframe tbody tr th {\n",
       "        vertical-align: top;\n",
       "    }\n",
       "\n",
       "    .dataframe thead th {\n",
       "        text-align: right;\n",
       "    }\n",
       "</style>\n",
       "<table border=\"1\" class=\"dataframe\">\n",
       "  <thead>\n",
       "    <tr style=\"text-align: right;\">\n",
       "      <th></th>\n",
       "      <th>coeff</th>\n",
       "    </tr>\n",
       "  </thead>\n",
       "  <tbody>\n",
       "    <tr>\n",
       "      <th>General_Health</th>\n",
       "      <td>-0.594386</td>\n",
       "    </tr>\n",
       "    <tr>\n",
       "      <th>Checkup</th>\n",
       "      <td>-0.210565</td>\n",
       "    </tr>\n",
       "    <tr>\n",
       "      <th>Exercise</th>\n",
       "      <td>-0.073904</td>\n",
       "    </tr>\n",
       "    <tr>\n",
       "      <th>Skin_Cancer</th>\n",
       "      <td>0.112964</td>\n",
       "    </tr>\n",
       "    <tr>\n",
       "      <th>Other_Cancer</th>\n",
       "      <td>0.079629</td>\n",
       "    </tr>\n",
       "    <tr>\n",
       "      <th>Depression</th>\n",
       "      <td>0.382507</td>\n",
       "    </tr>\n",
       "    <tr>\n",
       "      <th>Arthritis</th>\n",
       "      <td>0.277254</td>\n",
       "    </tr>\n",
       "    <tr>\n",
       "      <th>Age_Category</th>\n",
       "      <td>0.291405</td>\n",
       "    </tr>\n",
       "    <tr>\n",
       "      <th>Height_(cm)</th>\n",
       "      <td>-0.006088</td>\n",
       "    </tr>\n",
       "    <tr>\n",
       "      <th>Weight_(kg)</th>\n",
       "      <td>0.000726</td>\n",
       "    </tr>\n",
       "    <tr>\n",
       "      <th>BMI</th>\n",
       "      <td>0.039686</td>\n",
       "    </tr>\n",
       "    <tr>\n",
       "      <th>Smoking_History</th>\n",
       "      <td>0.390913</td>\n",
       "    </tr>\n",
       "    <tr>\n",
       "      <th>Alcohol_Consumption</th>\n",
       "      <td>-0.009021</td>\n",
       "    </tr>\n",
       "    <tr>\n",
       "      <th>Fruit_Consumption</th>\n",
       "      <td>-0.000141</td>\n",
       "    </tr>\n",
       "    <tr>\n",
       "      <th>Green_Vegetables_Consumption</th>\n",
       "      <td>0.000842</td>\n",
       "    </tr>\n",
       "    <tr>\n",
       "      <th>FriedPotato_Consumption</th>\n",
       "      <td>0.000314</td>\n",
       "    </tr>\n",
       "    <tr>\n",
       "      <th>Diabetes_No</th>\n",
       "      <td>-0.127180</td>\n",
       "    </tr>\n",
       "    <tr>\n",
       "      <th>Diabetes_No, pre-diabetes or borderline diabetes</th>\n",
       "      <td>-0.003087</td>\n",
       "    </tr>\n",
       "    <tr>\n",
       "      <th>Diabetes_Yes</th>\n",
       "      <td>0.430769</td>\n",
       "    </tr>\n",
       "    <tr>\n",
       "      <th>Diabetes_Yes, but female told only during pregnancy</th>\n",
       "      <td>-0.010986</td>\n",
       "    </tr>\n",
       "    <tr>\n",
       "      <th>Sex_Female</th>\n",
       "      <td>-0.502943</td>\n",
       "    </tr>\n",
       "    <tr>\n",
       "      <th>Sex_Male</th>\n",
       "      <td>0.387142</td>\n",
       "    </tr>\n",
       "    <tr>\n",
       "      <th>Sex_Non-Binary</th>\n",
       "      <td>0.405318</td>\n",
       "    </tr>\n",
       "  </tbody>\n",
       "</table>\n",
       "</div>"
      ],
      "text/plain": [
       "                                                       coeff\n",
       "General_Health                                     -0.594386\n",
       "Checkup                                            -0.210565\n",
       "Exercise                                           -0.073904\n",
       "Skin_Cancer                                         0.112964\n",
       "Other_Cancer                                        0.079629\n",
       "Depression                                          0.382507\n",
       "Arthritis                                           0.277254\n",
       "Age_Category                                        0.291405\n",
       "Height_(cm)                                        -0.006088\n",
       "Weight_(kg)                                         0.000726\n",
       "BMI                                                 0.039686\n",
       "Smoking_History                                     0.390913\n",
       "Alcohol_Consumption                                -0.009021\n",
       "Fruit_Consumption                                  -0.000141\n",
       "Green_Vegetables_Consumption                        0.000842\n",
       "FriedPotato_Consumption                             0.000314\n",
       "Diabetes_No                                        -0.127180\n",
       "Diabetes_No, pre-diabetes or borderline diabetes   -0.003087\n",
       "Diabetes_Yes                                        0.430769\n",
       "Diabetes_Yes, but female told only during pregn... -0.010986\n",
       "Sex_Female                                         -0.502943\n",
       "Sex_Male                                            0.387142\n",
       "Sex_Non-Binary                                      0.405318"
      ]
     },
     "execution_count": 24,
     "metadata": {},
     "output_type": "execute_result"
    }
   ],
   "source": [
    "# Import the Logistic Regression class from scikit-learn\n",
    "from sklearn.linear_model import LogisticRegression\n",
    "\n",
    "# Create an instance of Logistic Regression\n",
    "# Set penalty to \"none\" to indicate no penalty on coefficients\n",
    "# Use 'newton-cg' solver to solve the optimization problem\n",
    "logit_reg = LogisticRegression(penalty=None, solver='newton-cg')\n",
    "\n",
    "# Fit the logistic regression model to the undersampled data\n",
    "model1 = logit_reg.fit(Xu, yu)\n",
    "\n",
    "# Print the intercept of the model\n",
    "print('intercept ', logit_reg.intercept_[0])\n",
    "\n",
    "# Create a DataFrame to display coefficients associated with each predictor variable\n",
    "# 'coeff': column name for coefficients\n",
    "# logit_reg.coef_[0]: coefficients from the model\n",
    "# index=X.columns: variable names as index\n",
    "# transpose() to present data in a more readable format\n",
    "pd.DataFrame({'coeff': logit_reg.coef_[0]}, index=X.columns)"
   ]
  },
  {
   "cell_type": "code",
   "execution_count": 25,
   "id": "e17aa159-8d78-4351-8c18-a030823fe09f",
   "metadata": {},
   "outputs": [
    {
     "name": "stdout",
     "output_type": "stream",
     "text": [
      "R^2 Score: 0.7635324467375351\n"
     ]
    }
   ],
   "source": [
    "# Calculate the coefficiente R2 \n",
    "r2_score = logit_reg.score(Xu, yu)\n",
    "\n",
    "# print result \n",
    "print('R^2 Score:', r2_score)"
   ]
  },
  {
   "cell_type": "markdown",
   "id": "3b355244",
   "metadata": {},
   "source": [
    "### 4.1.2 LR Oversampling"
   ]
  },
  {
   "cell_type": "code",
   "execution_count": 26,
   "id": "8ee510f7-b28c-40ed-8875-17a579bfb758",
   "metadata": {},
   "outputs": [
    {
     "name": "stdout",
     "output_type": "stream",
     "text": [
      "Intercept: 1.9852661931968907\n"
     ]
    },
    {
     "data": {
      "text/html": [
       "<div>\n",
       "<style scoped>\n",
       "    .dataframe tbody tr th:only-of-type {\n",
       "        vertical-align: middle;\n",
       "    }\n",
       "\n",
       "    .dataframe tbody tr th {\n",
       "        vertical-align: top;\n",
       "    }\n",
       "\n",
       "    .dataframe thead th {\n",
       "        text-align: right;\n",
       "    }\n",
       "</style>\n",
       "<table border=\"1\" class=\"dataframe\">\n",
       "  <thead>\n",
       "    <tr style=\"text-align: right;\">\n",
       "      <th></th>\n",
       "      <th>Coefficients</th>\n",
       "    </tr>\n",
       "  </thead>\n",
       "  <tbody>\n",
       "    <tr>\n",
       "      <th>General_Health</th>\n",
       "      <td>-1.251436</td>\n",
       "    </tr>\n",
       "    <tr>\n",
       "      <th>Checkup</th>\n",
       "      <td>-0.456303</td>\n",
       "    </tr>\n",
       "    <tr>\n",
       "      <th>Exercise</th>\n",
       "      <td>-0.313995</td>\n",
       "    </tr>\n",
       "    <tr>\n",
       "      <th>Skin_Cancer</th>\n",
       "      <td>-0.208267</td>\n",
       "    </tr>\n",
       "    <tr>\n",
       "      <th>Other_Cancer</th>\n",
       "      <td>-0.282424</td>\n",
       "    </tr>\n",
       "    <tr>\n",
       "      <th>Depression</th>\n",
       "      <td>-0.275534</td>\n",
       "    </tr>\n",
       "    <tr>\n",
       "      <th>Arthritis</th>\n",
       "      <td>-0.216977</td>\n",
       "    </tr>\n",
       "    <tr>\n",
       "      <th>Age_Category</th>\n",
       "      <td>0.993795</td>\n",
       "    </tr>\n",
       "    <tr>\n",
       "      <th>Height_(cm)</th>\n",
       "      <td>-0.460604</td>\n",
       "    </tr>\n",
       "    <tr>\n",
       "      <th>Weight_(kg)</th>\n",
       "      <td>0.774452</td>\n",
       "    </tr>\n",
       "    <tr>\n",
       "      <th>BMI</th>\n",
       "      <td>-0.706757</td>\n",
       "    </tr>\n",
       "    <tr>\n",
       "      <th>Smoking_History</th>\n",
       "      <td>-0.162962</td>\n",
       "    </tr>\n",
       "    <tr>\n",
       "      <th>Alcohol_Consumption</th>\n",
       "      <td>0.011029</td>\n",
       "    </tr>\n",
       "    <tr>\n",
       "      <th>Fruit_Consumption</th>\n",
       "      <td>0.030636</td>\n",
       "    </tr>\n",
       "    <tr>\n",
       "      <th>Green_Vegetables_Consumption</th>\n",
       "      <td>0.026403</td>\n",
       "    </tr>\n",
       "    <tr>\n",
       "      <th>FriedPotato_Consumption</th>\n",
       "      <td>-0.124257</td>\n",
       "    </tr>\n",
       "    <tr>\n",
       "      <th>Diabetes_No</th>\n",
       "      <td>-4.658356</td>\n",
       "    </tr>\n",
       "    <tr>\n",
       "      <th>Diabetes_No, pre-diabetes or borderline diabetes</th>\n",
       "      <td>-1.230291</td>\n",
       "    </tr>\n",
       "    <tr>\n",
       "      <th>Diabetes_Yes</th>\n",
       "      <td>-3.291637</td>\n",
       "    </tr>\n",
       "    <tr>\n",
       "      <th>Diabetes_Yes, but female told only during pregnancy</th>\n",
       "      <td>-0.781040</td>\n",
       "    </tr>\n",
       "    <tr>\n",
       "      <th>Sex_Female</th>\n",
       "      <td>-4.682937</td>\n",
       "    </tr>\n",
       "    <tr>\n",
       "      <th>Sex_Male</th>\n",
       "      <td>-4.256051</td>\n",
       "    </tr>\n",
       "    <tr>\n",
       "      <th>Sex_Non-Binary</th>\n",
       "      <td>-0.162932</td>\n",
       "    </tr>\n",
       "  </tbody>\n",
       "</table>\n",
       "</div>"
      ],
      "text/plain": [
       "                                                    Coefficients\n",
       "General_Health                                         -1.251436\n",
       "Checkup                                                -0.456303\n",
       "Exercise                                               -0.313995\n",
       "Skin_Cancer                                            -0.208267\n",
       "Other_Cancer                                           -0.282424\n",
       "Depression                                             -0.275534\n",
       "Arthritis                                              -0.216977\n",
       "Age_Category                                            0.993795\n",
       "Height_(cm)                                            -0.460604\n",
       "Weight_(kg)                                             0.774452\n",
       "BMI                                                    -0.706757\n",
       "Smoking_History                                        -0.162962\n",
       "Alcohol_Consumption                                     0.011029\n",
       "Fruit_Consumption                                       0.030636\n",
       "Green_Vegetables_Consumption                            0.026403\n",
       "FriedPotato_Consumption                                -0.124257\n",
       "Diabetes_No                                            -4.658356\n",
       "Diabetes_No, pre-diabetes or borderline diabetes       -1.230291\n",
       "Diabetes_Yes                                           -3.291637\n",
       "Diabetes_Yes, but female told only during pregn...     -0.781040\n",
       "Sex_Female                                             -4.682937\n",
       "Sex_Male                                               -4.256051\n",
       "Sex_Non-Binary                                         -0.162932"
      ]
     },
     "execution_count": 26,
     "metadata": {},
     "output_type": "execute_result"
    }
   ],
   "source": [
    "from sklearn.linear_model import LogisticRegression\n",
    "from sklearn.preprocessing import StandardScaler\n",
    "\n",
    "# Scale data\n",
    "scaler = StandardScaler()\n",
    "Xo = scaler.fit_transform(Xo)\n",
    "\n",
    "# Apply Logistic Regression\n",
    "logit_reg = LogisticRegression(solver='newton-cg', penalty='l2')\n",
    "\n",
    "# Adjust the model to de scale data \n",
    "model2 = logit_reg.fit(Xo, yo)\n",
    "\n",
    "# Print the intercept\n",
    "print('Intercept:', model2.intercept_[0])\n",
    "\n",
    "# Create a DF To show the coefficients\n",
    "coeff_df = pd.DataFrame({'Coefficients': model2.coef_[0]}, index=X.columns)\n",
    "coeff_df\n"
   ]
  },
  {
   "cell_type": "code",
   "execution_count": 27,
   "id": "78d4421e-40a4-4b04-a028-510b6f0170c7",
   "metadata": {},
   "outputs": [
    {
     "name": "stdout",
     "output_type": "stream",
     "text": [
      "R^2 Score: 0.8612217668191351\n"
     ]
    }
   ],
   "source": [
    "# Calcular el coeficiente de determinación R^2\n",
    "r2_score = logit_reg.score(Xo, yo)\n",
    "\n",
    "# Imprimir el resultado\n",
    "print('R^2 Score:', r2_score)"
   ]
  },
  {
   "cell_type": "markdown",
   "id": "bfdca60a-6bf4-4014-be8e-7c12b8c188eb",
   "metadata": {},
   "source": [
    "## 4.2. Compare 2 models: Maximum Likelihood Statistics¶"
   ]
  },
  {
   "cell_type": "code",
   "execution_count": 28,
   "id": "b4d5aae3-4fa0-408d-8111-664704b71e83",
   "metadata": {},
   "outputs": [
    {
     "name": "stdout",
     "output_type": "stream",
     "text": [
      "Warning: Maximum number of iterations has been exceeded.\n",
      "         Current function value: 0.497574\n",
      "         Iterations: 35\n"
     ]
    },
    {
     "name": "stderr",
     "output_type": "stream",
     "text": [
      "/Users/anllely/anaconda3/lib/python3.11/site-packages/statsmodels/base/model.py:607: ConvergenceWarning: Maximum Likelihood optimization failed to converge. Check mle_retvals\n",
      "  warnings.warn(\"Maximum Likelihood optimization failed to \"\n"
     ]
    },
    {
     "name": "stdout",
     "output_type": "stream",
     "text": [
      "Optimization terminated successfully.\n",
      "         Current function value: 0.316295\n",
      "         Iterations 9\n",
      "There is not enough evidence to reject the null hypothesis that the two models are equal.\n"
     ]
    }
   ],
   "source": [
    "import statsmodels.api as sm\n",
    "from scipy import stats\n",
    "\n",
    "# Fit the two logistic regression models to your data\n",
    "model1 = sm.Logit(yu, Xu).fit()\n",
    "model2 = sm.Logit(yo, Xo).fit()\n",
    "\n",
    "# Get the log-likelihood values and degrees of freedom for each model\n",
    "LL1, df1 = model1.llf, model1.df_resid\n",
    "LL2, df2 = model2.llf, model2.df_resid\n",
    "\n",
    "# Calculate the difference between the log-likelihood values\n",
    "LR = -2 * (LL1 - LL2)\n",
    "\n",
    "# Calculate the p-value using the chi-square distribution\n",
    "p_value = 1 - stats.chi2.cdf(LR, df2 - df1)\n",
    "\n",
    "# Compare the p-value with a pre-defined significance threshold\n",
    "if p_value < 0.05:\n",
    "    print(\"Model 2 is superior to Model 1.\")\n",
    "else:\n",
    "    print(\"There is not enough evidence to reject the null hypothesis that the two models are equal.\")\n"
   ]
  },
  {
   "cell_type": "markdown",
   "id": "3e34ef19",
   "metadata": {},
   "source": [
    "## 4.3 F1 SCORE"
   ]
  },
  {
   "cell_type": "markdown",
   "id": "35e8b907",
   "metadata": {},
   "source": [
    "### 4.3.1  Undersampling"
   ]
  },
  {
   "cell_type": "code",
   "execution_count": 29,
   "id": "6af098ec-c4c6-44b7-a817-1e7a0677f9a8",
   "metadata": {},
   "outputs": [
    {
     "name": "stdout",
     "output_type": "stream",
     "text": [
      "Ranking Report:\n",
      "              precision    recall  f1-score   support\n",
      "\n",
      "           0       0.79      0.72      0.75      6798\n",
      "           1       0.74      0.80      0.77      6692\n",
      "\n",
      "    accuracy                           0.76     13490\n",
      "   macro avg       0.76      0.76      0.76     13490\n",
      "weighted avg       0.76      0.76      0.76     13490\n",
      "\n"
     ]
    },
    {
     "data": {
      "text/plain": [
       "<Figure size 640x480 with 0 Axes>"
      ]
     },
     "metadata": {},
     "output_type": "display_data"
    },
    {
     "data": {
      "image/png": "[encoded data removed]",
      "text/plain": [
       "<Figure size 600x500 with 2 Axes>"
      ]
     },
     "metadata": {},
     "output_type": "display_data"
    }
   ],
   "source": [
    "import numpy as np\n",
    "import pandas as pd\n",
    "import matplotlib.pyplot as plt\n",
    "from sklearn.model_selection import train_test_split\n",
    "from sklearn.linear_model import LogisticRegression\n",
    "from sklearn.preprocessing import StandardScaler\n",
    "from sklearn.metrics import confusion_matrix, classification_report\n",
    "from yellowbrick.classifier import ConfusionMatrix, ROCAUC\n",
    "import warnings\n",
    "\n",
    "\n",
    "# Escale the data\n",
    "scaler = StandardScaler()\n",
    "Xu_train_scaled = scaler.fit_transform(Xu_train)\n",
    "Xu_val_test_scaled = scaler.transform(Xu_val_test)\n",
    "\n",
    "# Start and train the logistic regression model \n",
    "modelo_logistico = LogisticRegression(max_iter=1000) \n",
    "modelo_logistico.fit(Xu_train_scaled, yu_train)\n",
    "\n",
    "# Temporarily disable YellowbrickWarning warnings\n",
    "warnings.filterwarnings(\"ignore\", category=UserWarning)\n",
    "\n",
    "# Make predictions on the test set\n",
    "y_pred = modelo_logistico.predict(Xu_val_test_scaled)\n",
    "\n",
    "# Calculate and display the confusion matrix\n",
    "conf_matrix = confusion_matrix(yu_val_test, y_pred)\n",
    "\n",
    "# Print info\n",
    "print('Ranking Report:')\n",
    "print(classification_report(yu_val_test, y_pred))\n",
    "\n",
    "\n",
    "# Graph the matrix\n",
    "plt.figure(figsize=(6, 5))  # Size of graph\n",
    "plt.title(\"Confusion Matrix\")\n",
    "sns.heatmap(conf_matrix, annot=True, fmt=\"d\", cmap=\"Blues\", annot_kws={\"size\": 16})  # Size of the numbers \n",
    "plt.ylabel('True')\n",
    "plt.xlabel('Prediction')\n",
    "plt.show()"
   ]
  },
  {
   "cell_type": "markdown",
   "id": "bac114cd",
   "metadata": {},
   "source": [
    "### 4.3.2 Oversampling"
   ]
  },
  {
   "cell_type": "code",
   "execution_count": 30,
   "id": "96b319fb-ec64-4c6c-8517-504e14b88d50",
   "metadata": {},
   "outputs": [
    {
     "name": "stdout",
     "output_type": "stream",
     "text": [
      "Confusion Matrix:\n",
      "[[68833  9397]\n",
      " [12284 65978]]\n",
      "Classification Report:\n",
      "              precision    recall  f1-score   support\n",
      "\n",
      "           0       0.85      0.88      0.86     78230\n",
      "           1       0.88      0.84      0.86     78262\n",
      "\n",
      "    accuracy                           0.86    156492\n",
      "   macro avg       0.86      0.86      0.86    156492\n",
      "weighted avg       0.86      0.86      0.86    156492\n",
      "\n"
     ]
    },
    {
     "data": {
      "image/png": "[encoded data removed]",
      "text/plain": [
       "<Figure size 600x500 with 2 Axes>"
      ]
     },
     "metadata": {},
     "output_type": "display_data"
    }
   ],
   "source": [
    "import numpy as np\n",
    "import pandas as pd\n",
    "import matplotlib.pyplot as plt\n",
    "from sklearn.model_selection import train_test_split\n",
    "from sklearn.linear_model import LogisticRegression\n",
    "from sklearn.preprocessing import StandardScaler\n",
    "from sklearn.metrics import confusion_matrix, classification_report\n",
    "from yellowbrick.classifier import ConfusionMatrix, ROCAUC\n",
    "import warnings\n",
    "\n",
    "# Scale the data\n",
    "scaler = StandardScaler()\n",
    "Xo_train_scaled = scaler.fit_transform(Xo_train)\n",
    "Xo_val_test_scaled = scaler.transform(Xo_val_test)\n",
    "\n",
    "# Initialize and train the logistic regression model\n",
    "modelo_logistico = LogisticRegression(max_iter=1000)  # Increase the iterations\n",
    "modelo_logistico.fit(Xo_train_scaled, yo_train)\n",
    "\n",
    "# Temporarily disable YellowbrickWarning warnings\n",
    "warnings.filterwarnings(\"ignore\", category=UserWarning)\n",
    "\n",
    "# Make predictions on the test set\n",
    "y_pred = modelo_logistico.predict(Xo_val_test_scaled)\n",
    "\n",
    "# Calculate and display the confusion matrix\n",
    "conf_matrix = confusion_matrix(yo_val_test, y_pred)\n",
    "print('Confusion Matrix:')\n",
    "print(conf_matrix)\n",
    "\n",
    "# Print a detailed report\n",
    "print('Classification Report:')\n",
    "print(classification_report(yo_val_test, y_pred))\n",
    "\n",
    "# Visualize the confusion matrix\n",
    "plt.figure(figsize=(6, 5))  # Size of graph\n",
    "plt.title(\"Confusion Matrix\")\n",
    "sns.heatmap(conf_matrix, annot=True, fmt=\"d\", cmap=\"Blues\", annot_kws={\"size\": 16})  # Size of the numbers \n",
    "plt.ylabel('True')\n",
    "plt.xlabel('Prediction')\n",
    "plt.show()"
   ]
  },
  {
   "cell_type": "markdown",
   "id": "5e691fef",
   "metadata": {},
   "source": [
    "> 5. Apply at least 4 machine learning algorithms using the best training strategy found in point 4.\n",
    "\n",
    "5.1 At least 1 algorithm must be an ensemble.\n",
    "\n",
    "5.2 At least 1 algorithm must be a model not seen in class (you must research and\n",
    "understand how the model mathematically works and performs the prediction,\n",
    "include a good description about these points in the presentation and report).\n",
    "\n",
    "5.3 For at least 2 algorithms apply a hyperparameter optimization method. Mention the\n",
    "range of values in which the hyperparameters are searched.\n",
    "\n",
    "5.4 For all hyperparameters of the implemented models (and not optimized) justify the\n",
    "value assigned (read papers or books that provide a recommendation and include the\n",
    "references in the presentation and report)."
   ]
  },
  {
   "cell_type": "markdown",
   "id": "768202da",
   "metadata": {},
   "source": [
    "# 5. Machine learning algorithms"
   ]
  },
  {
   "cell_type": "markdown",
   "id": "fa833806-e455-46bd-a658-6cfe89c22f94",
   "metadata": {},
   "source": [
    "## 5.1 Random Forest "
   ]
  },
  {
   "cell_type": "code",
   "execution_count": 31,
   "id": "d4d35f1e-8178-4bff-8da5-c4318127ddd7",
   "metadata": {},
   "outputs": [
    {
     "name": "stdout",
     "output_type": "stream",
     "text": [
      "Accuracy in training data set: 0.9047210573135087\n",
      "Accuracy in validation data set: 0.7516679021497406\n",
      "Accuracy on test data set: 0.7644180874722016\n"
     ]
    }
   ],
   "source": [
    "from sklearn.ensemble import RandomForestClassifier\n",
    "from sklearn.metrics import accuracy_score\n",
    "\n",
    "# Define the Random Forest model\n",
    "random_forest = RandomForestClassifier(random_state = 42, n_estimators = 200, min_samples_split = 2, min_samples_leaf = 1, max_depth = 15, criterion= 'gini')\n",
    "\n",
    "# Train the model with the training data set\n",
    "random_forest.fit(Xu_train, yu_train)\n",
    "\n",
    "# Predict the response variable values for the training, validation, and testing data sets\n",
    "yu_train_pred_rf = random_forest.predict(Xu_train)\n",
    "yu_val_pred_rf = random_forest.predict(Xu_val)\n",
    "yu_test_pred_rf = random_forest.predict(Xu_test)\n",
    "\n",
    "# Calculate model accuracy on training, validation and testing data sets\n",
    "train_acc = accuracy_score(yu_train, yu_train_pred_rf)\n",
    "val_acc = accuracy_score(yu_val, yu_val_pred_rf)\n",
    "test_acc = accuracy_score(yu_test, yu_test_pred_rf)\n",
    "\n",
    "# Print the details\n",
    "print(\"Accuracy in training data set:\", train_acc)\n",
    "print(\"Accuracy in validation data set:\", val_acc)\n",
    "print(\"Accuracy on test data set:\", test_acc)\n"
   ]
  },
  {
   "cell_type": "markdown",
   "id": "17db108c-bf24-4fbd-9e27-937aa304117e",
   "metadata": {},
   "source": [
    "## 5.2. VSM "
   ]
  },
  {
   "cell_type": "code",
   "execution_count": 32,
   "id": "3f3dff60",
   "metadata": {},
   "outputs": [
    {
     "name": "stdout",
     "output_type": "stream",
     "text": [
      "Accuracy on the training set:  0.7641695259880544\n",
      "Accuracy on the validation set:  0.7555226093402521\n",
      "Accuracy on the test set:  0.7669384729429207\n"
     ]
    }
   ],
   "source": [
    "from sklearn import svm\n",
    "from sklearn.metrics import accuracy_score\n",
    "\n",
    "# Create an SVM model and fit it to the training set\n",
    "model = svm.SVC(kernel='linear')\n",
    "model.fit(Xu_train, yu_train)\n",
    "\n",
    "# Evaluate the model on the training set\n",
    "yu_pred_train_svm = model.predict(Xu_train)\n",
    "accuracy_train = accuracy_score(yu_train, yu_pred_train_svm)\n",
    "print(\"Accuracy on the training set: \", accuracy_train)\n",
    "\n",
    "# Evaluate the model on the validation set\n",
    "yu_pred_val_svm = model.predict(Xu_val)\n",
    "accuracy_val = accuracy_score(yu_val, yu_pred_val_svm)\n",
    "print(\"Accuracy on the validation set: \", accuracy_val)\n",
    "\n",
    "# Evaluate the model on the test set\n",
    "yu_pred_test_svm = model.predict(Xu_test)\n",
    "accuracy_test = accuracy_score(yu_test, yu_pred_test_svm)\n",
    "print(\"Accuracy on the test set: \", accuracy_test)"
   ]
  },
  {
   "cell_type": "markdown",
   "id": "8563b05e-63fc-4472-b17c-48fdae4c5a5b",
   "metadata": {},
   "source": [
    "## 5.3 Algorithms  (2) apply a hyperparameter optimization method. "
   ]
  },
  {
   "cell_type": "markdown",
   "id": "a8e848a7-6911-48a2-a595-0504c35ca67f",
   "metadata": {},
   "source": [
    "### 5.3.1. First Algorithm: Gradient Boost"
   ]
  },
  {
   "cell_type": "code",
   "execution_count": 33,
   "id": "8779fb5c-8f38-4d98-8a8c-27a4d24bc033",
   "metadata": {},
   "outputs": [
    {
     "name": "stdout",
     "output_type": "stream",
     "text": [
      "Initial score:  0.7655676688200737\n",
      "Initial parameters:  {'learning_rate': 0.1, 'max_depth': 3}\n"
     ]
    }
   ],
   "source": [
    "from sklearn.ensemble import GradientBoostingClassifier\n",
    "from sklearn.model_selection import GridSearchCV\n",
    "\n",
    "# Determinar los valores de los hiperparámetros que se desean probar \n",
    "param_grid_GB = {\n",
    "    'learning_rate': [0.1, 0.01, 0.001], \n",
    "    'max_depth': [3, 5, 7], \n",
    "}\n",
    "\n",
    "# Aplica grid search utilizando validación cruzada para medir el error\n",
    "gridSearch_GB = GridSearchCV(GradientBoostingClassifier(),param_grid_GB, cv=5)\n",
    "gridSearch_GB.fit(Xu_train, yu_train)\n",
    "\n",
    "print('Initial score: ', gridSearch_GB.best_score_)\n",
    "print('Initial parameters: ', gridSearch_GB.best_params_)"
   ]
  },
  {
   "cell_type": "markdown",
   "id": "125b1186-de52-4ac3-b8a6-2ab104846be8",
   "metadata": {},
   "source": [
    "#### 5.3.1.1 Training"
   ]
  },
  {
   "cell_type": "code",
   "execution_count": 34,
   "id": "a3370423-ca96-43ce-acf0-9eb974352f14",
   "metadata": {
    "scrolled": true
   },
   "outputs": [
    {
     "name": "stdout",
     "output_type": "stream",
     "text": [
      "      Gradient Boost \n",
      "--------------------------------------------------\n",
      "Accuracy on the training set:  0.7701741009022748\n",
      "--------------------------------------------------\n",
      "Accuracy on the validation set:  0.7989621942179392\n",
      "--------------------------------------------------\n",
      "Accuracy on the test set:  0.8044477390659748\n"
     ]
    }
   ],
   "source": [
    "# Create a model and fit it to the training set\n",
    "train_GB = GradientBoostingClassifier(learning_rate= 0.1, max_depth= 3 )\n",
    "train_GB.fit(Xu_train, yu_train)\n",
    "\n",
    "yu_pred_train_GB = train_GB.predict(Xu_train)\n",
    "accuracy_train_GB = accuracy_score(yu_train, yu_pred_train_GB)\n",
    "print(\"      Gradient Boost \")\n",
    "print(\"--------------------------------------------------\")\n",
    "print(\"Accuracy on the training set: \", accuracy_train_GB)\n",
    "\n",
    "\n",
    "# Create a model and fit it to the validation set\n",
    "val_GB = GradientBoostingClassifier(learning_rate= 0.1, max_depth= 4 )\n",
    "val_GB.fit(Xu_val, yu_val)\n",
    "\n",
    "yu_pred_val_GB = val_GB.predict(Xu_val)\n",
    "accuracy_val_GB = accuracy_score(yu_val, yu_pred_val_GB)\n",
    "print(\"--------------------------------------------------\")\n",
    "print(\"Accuracy on the validation set: \", accuracy_val_GB)\n",
    "\n",
    "\n",
    "# Create a model and fit it to the test set\n",
    "test_GB = GradientBoostingClassifier(learning_rate= 0.1, max_depth= 4 )\n",
    "test_GB.fit(Xu_test, yu_test)\n",
    "\n",
    "yu_pred_test_GB = test_GB.predict(Xu_test)\n",
    "accuracy_test_GB = accuracy_score(yu_test, yu_pred_test_GB)\n",
    "print(\"--------------------------------------------------\")\n",
    "print(\"Accuracy on the test set: \", accuracy_test_GB)"
   ]
  },
  {
   "cell_type": "markdown",
   "id": "004c0fc4-eaf5-4b3c-b05b-e2fbb327a0cb",
   "metadata": {},
   "source": [
    "### 5.3.2. Second Algorithm: KNN"
   ]
  },
  {
   "cell_type": "markdown",
   "id": "9edea855",
   "metadata": {},
   "source": [
    "### 5.3.2.1 Before Hiperpameters"
   ]
  },
  {
   "cell_type": "code",
   "execution_count": 75,
   "id": "b04bd6fc",
   "metadata": {},
   "outputs": [
    {
     "name": "stdout",
     "output_type": "stream",
     "text": [
      "              Before Hiperparameters KNN\n",
      "--------------------------------------------------\n",
      "Accuracy on the training set:  0.7804358876604397\n",
      "--------------------------------------------------\n",
      "Accuracy on the validation set:  0.7712379540400297\n",
      "--------------------------------------------------\n",
      "Accuracy on the test set:  0.7670867309117865\n"
     ]
    }
   ],
   "source": [
    "# Convert to NumPy arrays if they are not already\n",
    "# Check the shape of your feature data\n",
    "print(\"              Before Hiperparameters KNN\")\n",
    "\n",
    "Xu_train_np = np.ascontiguousarray(Xu_train)\n",
    "yu_train_np = np.ascontiguousarray(yu_train)\n",
    "# This is only necessary if your data has a single feature\n",
    "# Reshape the feature data if it's one-dimensional\n",
    "if Xu_train_np.ndim == 1:\n",
    "    Xu_train_np = Xu_train_np.reshape(-1, 1)\n",
    "if Xu_val.ndim == 1:\n",
    "    Xu_val = Xu_val.reshape(-1, 1)\n",
    "if Xu_test.ndim == 1:\n",
    "    Xu_test = Xu_test.reshape(-1, 1)\n",
    "# Initialize and train the KNN classifier\n",
    "train_KNNb = KNeighborsClassifier()\n",
    "train_KNNb.fit(Xu_train_np, yu_train_np)\n",
    "\n",
    "# Predict on the training set\n",
    "yu_pred_tr_KNNb = train_KNNb.predict(Xu_train_np)\n",
    "\n",
    "# Calculate accuracy\n",
    "accuracy_tr_KNNb = accuracy_score(yu_train_np, yu_pred_tr_KNNb)\n",
    "print(\"--------------------------------------------------\")\n",
    "print(\"Accuracy on the training set: \", accuracy_tr_KNNb)\n",
    "\n",
    "\n",
    "# Create a model and fit it to the validation set\n",
    "\n",
    "Xu_val = np.ascontiguousarray(Xu_val)\n",
    "yu_val = np.ascontiguousarray(yu_val)\n",
    "\n",
    "val_KNNb = KNeighborsClassifier()\n",
    "val_KNNb.fit(Xu_val, yu_val)\n",
    "\n",
    "# Make predictions on the validation set using the K-Nearest Neighbors (KNN) model\n",
    "yu_pred_v_KNNb = val_KNNb.predict(Xu_val)\n",
    "\n",
    "# Calculate the accuracy of the KNN model on the validation set\n",
    "accuracy_v_KNNb = accuracy_score(yu_val, yu_pred_v_KNNb)\n",
    "\n",
    "# Print the accuracy of the KNN model on the validation set\n",
    "print(\"--------------------------------------------------\")\n",
    "print(\"Accuracy on the validation set: \", accuracy_v_KNNb)\n",
    "\n",
    "# TEST \n",
    "\n",
    "Xu_test = np.ascontiguousarray(Xu_test)\n",
    "yu_test = np.ascontiguousarray(yu_test)\n",
    "# Create a model and fit it to the test set\n",
    "test_KNNb = KNeighborsClassifier()\n",
    "test_KNNb.fit(Xu_test, yu_test)\n",
    "\n",
    "# Make predictions on the test set using the previously trained model\n",
    "yu_pred_te_KNNb = test_KNNb.predict(Xu_test)  # Note: the model used here is 'test_GB', which might be a different model than 'test_KNN'\n",
    "\n",
    "# Calculate the accuracy of the model on the test set\n",
    "accuracy_te_KNNb = accuracy_score(yu_test, yu_pred_te_KNNb)\n",
    "\n",
    "# Print the accuracy of the model on the test set\n",
    "print(\"--------------------------------------------------\")\n",
    "print(\"Accuracy on the test set: \", accuracy_te_KNNb)"
   ]
  },
  {
   "cell_type": "markdown",
   "id": "f4bd24a6",
   "metadata": {},
   "source": [
    "### 5.3.2.2. Hiperparameters"
   ]
  },
  {
   "cell_type": "code",
   "execution_count": 36,
   "id": "01fcead8-d9a4-4860-af88-3bcfb2e58dd8",
   "metadata": {},
   "outputs": [
    {
     "name": "stdout",
     "output_type": "stream",
     "text": [
      "Best score:  0.6761344646373304\n",
      "Best parameters:  {'n_neighbors': 13, 'weights': 'distance'}\n"
     ]
    }
   ],
   "source": [
    "from sklearn.model_selection import GridSearchCV\n",
    "from sklearn.neighbors import KNeighborsClassifier\n",
    "from sklearn.model_selection import train_test_split\n",
    "from sklearn.metrics import accuracy_score\n",
    "import pandas as pd\n",
    "import numpy as np\n",
    "\n",
    "# Defines the set of hyperparameters for the search\n",
    "param_grid = {\n",
    "    'n_neighbors': [5, 7, 9, 13],\n",
    "    'weights': ['uniform', 'distance'],\n",
    "}\n",
    "\n",
    "\n",
    "# Apply grid search using cross validation to measure error\n",
    "gridSearch_KNN = GridSearchCV(KNeighborsClassifier(), param_grid, cv=5)\n",
    "gridSearch_KNN.fit(Xu_train, yu_train)\n",
    "\n",
    "# Print Results\n",
    "print('Best score: ', gridSearch_KNN.best_score_)\n",
    "print('Best parameters: ', gridSearch_KNN.best_params_)"
   ]
  },
  {
   "cell_type": "markdown",
   "id": "607cab5c-7ae9-4faa-a6c3-805af2f15e67",
   "metadata": {},
   "source": [
    "### 5.3.2.3  After Hiperparameter "
   ]
  },
  {
   "cell_type": "code",
   "execution_count": 37,
   "id": "5c5bf06a-f560-4fd4-ac37-efb650c7a395",
   "metadata": {},
   "outputs": [
    {
     "name": "stdout",
     "output_type": "stream",
     "text": [
      "              After Hiperparameters KNN\n",
      "--------------------------------------------------\n",
      "Accuracy en el set de training:  0.9999682297623587\n",
      "--------------------------------------------------\n",
      "Accuracy on the validation set:  1.0\n",
      "--------------------------------------------------\n",
      "Accuracy on the test set:  1.0\n"
     ]
    }
   ],
   "source": [
    "# Create a model and fit it to the training set\n",
    "print(\"              After Hiperparameters KNN\")\n",
    "train_KNN = KNeighborsClassifier(n_neighbors=13, weights= 'distance')\n",
    "train_KNN.fit(Xu_train, yu_train)\n",
    "\n",
    "yu_pred_tr_KNN = train_KNN.predict(Xu_train)\n",
    "accuracy_tr_KNN = accuracy_score(yu_train, yu_pred_tr_KNN)\n",
    "print(\"--------------------------------------------------\")\n",
    "print(\"Accuracy en el set de training: \", accuracy_tr_KNN)\n",
    "\n",
    "# Create a model and fit it to the validation set\n",
    "val_KNN = KNeighborsClassifier(n_neighbors=13, weights= 'distance')\n",
    "val_KNN.fit(Xu_val, yu_val)\n",
    "\n",
    "# Make predictions on the validation set using the K-Nearest Neighbors (KNN) model\n",
    "yu_pred_v_KNN = val_KNN.predict(Xu_val)\n",
    "\n",
    "# Calculate the accuracy of the KNN model on the validation set\n",
    "accuracy_v_KNN = accuracy_score(yu_val, yu_pred_v_KNN)\n",
    "\n",
    "# Print the accuracy of the KNN model on the validation set\n",
    "print(\"--------------------------------------------------\")\n",
    "print(\"Accuracy on the validation set: \", accuracy_v_KNN)\n",
    "\n",
    "# Create a model and fit it to the test set\n",
    "test_KNN = KNeighborsClassifier(n_neighbors=13, weights='distance')\n",
    "test_KNN.fit(Xu_test, yu_test)\n",
    "\n",
    "# Make predictions on the test set using the previously trained model\n",
    "yu_pred_te_KNN = test_KNN.predict(Xu_test)  # Note: the model used here is 'test_GB', which might be a different model than 'test_KNN'\n",
    "\n",
    "# Calculate the accuracy of the model on the test set\n",
    "accuracy_te_KNN = accuracy_score(yu_test, yu_pred_te_KNN)\n",
    "\n",
    "# Print the accuracy of the model on the test set\n",
    "print(\"--------------------------------------------------\")\n",
    "print(\"Accuracy on the test set: \", accuracy_te_KNN)"
   ]
  },
  {
   "cell_type": "markdown",
   "id": "b747e43a-b0e5-44d9-91a1-3098126ee445",
   "metadata": {},
   "source": [
    "> 5.4 For all hyperparameters of the implemented models (and not optimized) justify the value assigned (read papers or books that provide a recommendation and include the references in the presentation and report)."
   ]
  },
  {
   "cell_type": "markdown",
   "id": "a0b0f738-6ce2-4ee8-9c70-c14b4ce5e35c",
   "metadata": {},
   "source": [
    "### 5.4.1 Random Forest"
   ]
  },
  {
   "cell_type": "markdown",
   "id": "d4e065f9-7baa-41fe-b63c-4ce3a58c5dd1",
   "metadata": {},
   "source": [
    "Based on the article 'Enhancing Heart Disease Prediction through Ensemble Learning Techniques with Hyperparameter Optimization' which I developed with a similar approach to the project we are carrying out where the response variable is 'Heart Disease' as well as the article, where several types of algorithms with hyperparameters were developed, in which one of them was Random Forest, where I entered several hyperparameters, however, the data we are going to use are the optimal hyperparameters (table 5), since we can conclude based on the F1 Score of 96. 25% has a high percentage which will help us in a correct way in our project since we are looking for the same variable. Asif et al. (2023)"
   ]
  },
  {
   "cell_type": "markdown",
   "id": "9fe25fac-8c1b-4004-ac1e-1cb1c0fbe0b0",
   "metadata": {},
   "source": [
    "### 5.4.2. Gradient Boost"
   ]
  },
  {
   "cell_type": "markdown",
   "id": "186cd013-e845-4068-83ee-816e533d396c",
   "metadata": {},
   "source": [
    "Based on the article 'Enhancing Heart Disease Prediction through Ensemble Learning Techniques with Hyperparameter Optimization' which has a similar approach to the one we are looking for, this article developed different automatic learning algorithms in which I used Gradient Boost and determined the hyperparameters 'learning_rate': [0. 1, 0.01, 0.001], 'max_depth': [3, 5, 7] in which as in the previous model of this project was concluded based on the F1 Score which gave a result of 96.22 with which we conclude that the result is high and is what we are looking for our project also was the best F1 score had compared to the other algorithms used. Asif et al. (2023)"
   ]
  },
  {
   "cell_type": "markdown",
   "id": "dc2ea088-a4ae-481e-be8f-bc044fc51335",
   "metadata": {},
   "source": [
    "### 5.4.3. KNN"
   ]
  },
  {
   "cell_type": "markdown",
   "id": "97d45032-397b-4d6f-8f4e-21502a2c780f",
   "metadata": {},
   "source": [
    "Based on the article 'An Intelligent and Reliable Hyperparameter Optimization Machine Learning Model for Early Heart Disease Assessment Using Imperative Risk Attributes' focusing on medicine and our project also focusing on this area, this article developed different machine learning algorithms looking for the same response variable, among these algorithms they used KNN where they used different hyperparameters and although they did not conclude with F1 score, based on how we are going to conclude in this project it is important to find a balance between the ability to correctly identify the positive cases (recall) and to make sure that the positive predictions are accurate (precision) predictions are accurate (precision), based on this we chose the hyperparameters that had the highest percentages. Ansarullah et al. (2022)"
   ]
  },
  {
   "cell_type": "markdown",
   "id": "9fd06116-eebb-4f1c-a120-4a14a48efc20",
   "metadata": {},
   "source": [
    "> 6. Evaluate each model\n",
    "\n",
    "6.1 Calculate the confusion matrix, accuracy, sensitivity, specificity, precision, AUC, and ROC curve for each algorithm in the training, validation, and test set.\n",
    "\n",
    "6.2 Considering the costs of each type of error in this problem, select and justify the most adequate evaluation metric.\n",
    "\n",
    "6.3 Select and justify the best algorithm using the evaluation metric selected and its performance in the training, validation, and test set. Analyze if the model is underfitting, overfitting, or just right.\n",
    "\n",
    "6.4 Investigate how a random forest can be used to identify the most important predictor variables (feature selection). Using this random forest-based method, mention which predictor variables are the most important to predict a cardiovascular disease. Compare the result with the correlation analysis. In the presentation and report explain the method utilized."
   ]
  },
  {
   "cell_type": "markdown",
   "id": "2ad49d49-e832-4e12-a543-ac10e47f30ee",
   "metadata": {},
   "source": [
    "# 6. Evaluate each model"
   ]
  },
  {
   "cell_type": "code",
   "execution_count": 38,
   "id": "537c4bb4-4607-4a4f-a212-a3aaf33e951a",
   "metadata": {},
   "outputs": [],
   "source": [
    "#Library\n",
    "from sklearn.metrics import confusion_matrix\n",
    "import numpy as np"
   ]
  },
  {
   "cell_type": "markdown",
   "id": "11bc5b7c",
   "metadata": {},
   "source": [
    "## 6.1. Confusion matrix, accuracy, sensitivity, specificity, precision, ROC curve"
   ]
  },
  {
   "cell_type": "markdown",
   "id": "fce61ca6-7eff-4bd7-bbd0-1b8009cb0d15",
   "metadata": {},
   "source": [
    "### 6.1.1. SVM"
   ]
  },
  {
   "cell_type": "markdown",
   "id": "9a19715c-b79c-42dc-81bb-1655634bd63c",
   "metadata": {},
   "source": [
    "### 6.1.1.1. Confusion matrix "
   ]
  },
  {
   "cell_type": "markdown",
   "id": "d946a827",
   "metadata": {},
   "source": [
    "#### 6.1.1.1.1 Training"
   ]
  },
  {
   "cell_type": "code",
   "execution_count": 39,
   "id": "907229a8-cac2-4a0d-b4f3-9d50475b3411",
   "metadata": {},
   "outputs": [
    {
     "data": {
      "image/png": "[encoded data removed]",
      "text/plain": [
       "<Figure size 300x200 with 2 Axes>"
      ]
     },
     "metadata": {},
     "output_type": "display_data"
    }
   ],
   "source": [
    "# Create de confusion matriz for trainin set\n",
    "matrix_svm_train = confusion_matrix(yu_train, yu_pred_train_svm)\n",
    "# Visualize the confusion matrix\n",
    "plt.figure(figsize=(3, 2))  # Size of graph\n",
    "plt.title(\"Confusion Matrix - SVM - Training\")\n",
    "sns.heatmap(matrix_svm_train, annot=True, fmt=\"d\", cmap=\"Blues\", annot_kws={\"size\": 9})  # Size of the numbers \n",
    "plt.ylabel('True')\n",
    "plt.xlabel('Prediction')\n",
    "plt.show()"
   ]
  },
  {
   "cell_type": "markdown",
   "id": "8f3283ca-cc22-479e-ba4e-9a0981cc6b5c",
   "metadata": {},
   "source": [
    "#### 6.1.1.1.2 Confusion matrix Validation"
   ]
  },
  {
   "cell_type": "code",
   "execution_count": 40,
   "id": "ccefa523-0ef5-4378-b41d-1aba193cf9a8",
   "metadata": {},
   "outputs": [
    {
     "name": "stdout",
     "output_type": "stream",
     "text": [
      "[[2415  975]\n",
      " [ 674 2681]]\n"
     ]
    },
    {
     "data": {
      "image/png": "[encoded data removed]",
      "text/plain": [
       "<Figure size 300x200 with 2 Axes>"
      ]
     },
     "metadata": {},
     "output_type": "display_data"
    }
   ],
   "source": [
    "#  Create de confusion matriz for validation set\n",
    "matrix_svm_val = confusion_matrix(yu_val, yu_pred_val_svm)\n",
    "\n",
    "print(matrix_svm_val)\n",
    "plt.figure(figsize=(3, 2))  # Size of graph\n",
    "plt.title(\"Confusion Matrix SVM - Validation\")\n",
    "sns.heatmap(matrix_svm_val, annot=True, fmt=\"d\", cmap=\"spring\", annot_kws={\"size\": 9})  # Size of the numbers \n",
    "plt.ylabel('True')\n",
    "plt.xlabel('Prediction')\n",
    "plt.show()"
   ]
  },
  {
   "cell_type": "markdown",
   "id": "ee837935-2985-4e5e-8d26-a54855c41218",
   "metadata": {},
   "source": [
    "#### 6.1.1.1.3. Confusion matrix Test"
   ]
  },
  {
   "cell_type": "code",
   "execution_count": 41,
   "id": "bf509c88-8fc1-4f36-bcb3-1f81fbb34d57",
   "metadata": {},
   "outputs": [
    {
     "name": "stdout",
     "output_type": "stream",
     "text": [
      "[[2466  942]\n",
      " [ 630 2707]]\n"
     ]
    },
    {
     "data": {
      "image/png": "[encoded data removed]",
      "text/plain": [
       "<Figure size 300x200 with 2 Axes>"
      ]
     },
     "metadata": {},
     "output_type": "display_data"
    }
   ],
   "source": [
    "\n",
    "#  Create de confusion matriz for test set\n",
    "matrix_svm_test = confusion_matrix(yu_test, yu_pred_test_svm)\n",
    "\n",
    "print(matrix_svm_test)\n",
    "plt.figure(figsize=(3, 2))  # Size of graph\n",
    "plt.title(\"Confusion Matrix SVM - Validation\")\n",
    "sns.heatmap(matrix_svm_test, annot=True, fmt=\"d\", cmap='summer', annot_kws={\"size\": 9})  # Size of the numbers \n",
    "plt.ylabel('True')\n",
    "plt.xlabel('Prediction')\n",
    "plt.show()"
   ]
  },
  {
   "cell_type": "markdown",
   "id": "47d82054-6df0-48a7-bdb6-2e966d43cefa",
   "metadata": {},
   "source": [
    "### 6.1.1.2 Metrics  "
   ]
  },
  {
   "cell_type": "markdown",
   "id": "a86eec55",
   "metadata": {},
   "source": [
    "#### 6.1.1.2.1 Training"
   ]
  },
  {
   "cell_type": "code",
   "execution_count": 42,
   "id": "6ca533ef-dcd8-47cc-b00a-f441b4d57bd3",
   "metadata": {},
   "outputs": [
    {
     "name": "stdout",
     "output_type": "stream",
     "text": [
      "---------------------------------\n",
      "          Training set\n",
      "Accuracy: 0.7641695259880544\n",
      "Sensitivity: 0.8008359191944778\n",
      "Specificity: 0.727255339496334\n",
      "Precision: 0.747222878752068\n",
      "---------------------------------\n",
      "         Validation set\n",
      "Accuracy: 0.7555226093402521\n",
      "Sensitivity: 0.7991058122205663\n",
      "Specificity: 0.7123893805309734\n",
      "Precision: 0.7333150984682714\n",
      "---------------------------------\n",
      "          Test set\n",
      "Accuracy: 0.7669384729429207\n",
      "Sensitivity: 0.8112076715612826\n",
      "Specificity: 0.7235915492957746\n",
      "Precision: 0.7418470813921623\n",
      "---------------------------------\n"
     ]
    }
   ],
   "source": [
    "# confusion matrix values\n",
    "tn_tr_svm, fp_tr_svm, fn_tr_svm, tp_tr_svm = matrix_svm_train.ravel()\n",
    "\n",
    "# calculate accuracy\n",
    "accuracy_train_svm = (tp_tr_svm + tn_tr_svm) / (tp_tr_svm + tn_tr_svm + fp_tr_svm + fn_tr_svm)\n",
    "\n",
    "# calculate sensitivity (recall or true positive rate)\n",
    "sensitivity_train_svm = tp_tr_svm / (tp_tr_svm + fn_tr_svm)\n",
    "\n",
    "# calculate specificity (true negative rate)\n",
    "specificity_train_svm = tn_tr_svm / (tn_tr_svm + fp_tr_svm)\n",
    "\n",
    "# calculate precision\n",
    "precision_train_svm = tp_tr_svm / (tp_tr_svm + fp_tr_svm)\n",
    "\n",
    "# print the results\n",
    "print ('---------------------------------')\n",
    "print ('          Training set')\n",
    "print(\"Accuracy:\", accuracy_train_svm)\n",
    "print(\"Sensitivity:\", sensitivity_train_svm)\n",
    "print(\"Specificity:\", specificity_train_svm)\n",
    "print(\"Precision:\", precision_train_svm)\n",
    "\n",
    "# confusion matrix values\n",
    "tn_v_svm, fp_v_svm, fn_v_svm, tp_v_svm = matrix_svm_val.ravel()\n",
    "\n",
    "# calculate accuracy\n",
    "accuracy_val_svm = (tp_v_svm + tn_v_svm) / (tp_v_svm + tn_v_svm + fp_v_svm + fn_v_svm)\n",
    "\n",
    "# calculate sensitivity (recall or true positive rate)\n",
    "sensitivity_val_svm = tp_v_svm / (tp_v_svm + fn_v_svm)\n",
    "\n",
    "# calculate specificity (true negative rate)\n",
    "specificity_val_svm = tn_v_svm / (tn_v_svm + fp_v_svm)\n",
    "\n",
    "# calculate precision\n",
    "precision_val_svm = tp_v_svm / (tp_v_svm + fp_v_svm)\n",
    "\n",
    "# print the results\n",
    "print ('---------------------------------')\n",
    "print ('         Validation set')\n",
    "print(\"Accuracy:\", accuracy_val_svm)\n",
    "print(\"Sensitivity:\", sensitivity_val_svm)\n",
    "print(\"Specificity:\", specificity_val_svm)\n",
    "print(\"Precision:\", precision_val_svm)\n",
    "\n",
    "\n",
    "# Confusion matrix values\n",
    "tn_te_svm, fp_te_svm, fn_te_svm, tp_te_svm = matrix_svm_test.ravel()\n",
    "\n",
    "# Calculate accuracy\n",
    "accuracy_test_svm = (tp_te_svm + tn_te_svm) / (tp_te_svm + tn_te_svm + fp_te_svm + fn_te_svm)\n",
    "\n",
    "# calculate sensitivity (recall or true positive rate)\n",
    "sensitivity_test_svm = tp_te_svm / (tp_te_svm + fn_te_svm)\n",
    "\n",
    "# calculate specificity (true negative rate)\n",
    "specificity_test_svm = tn_te_svm / (tn_te_svm + fp_te_svm)\n",
    "\n",
    "# calculate precision\n",
    "precision_test_svm = tp_te_svm / (tp_te_svm + fp_te_svm)\n",
    "\n",
    "# Print results\n",
    "print ('---------------------------------')\n",
    "print ('          Test set')\n",
    "print(\"Accuracy:\", accuracy_test_svm)\n",
    "print(\"Sensitivity:\", sensitivity_test_svm)\n",
    "print(\"Specificity:\", specificity_test_svm)\n",
    "print(\"Precision:\", precision_test_svm)\n",
    "print ('---------------------------------')"
   ]
  },
  {
   "cell_type": "markdown",
   "id": "f68608e6-3b1e-4c65-9c58-82ccf663e07a",
   "metadata": {},
   "source": [
    "### 6.1.1.3 AUC y ROC "
   ]
  },
  {
   "cell_type": "code",
   "execution_count": 43,
   "id": "1c850bf5-156a-4a87-976e-a88af162aec1",
   "metadata": {},
   "outputs": [
    {
     "name": "stdout",
     "output_type": "stream",
     "text": [
      "           ROC Value\n",
      "---------------------------------\n",
      "Training:   0.7640456293454061\n",
      "---------------------------------\n",
      "Validation: 0.7557475963757699\n",
      "---------------------------------\n",
      "Test:       0.7673996104285286\n"
     ]
    }
   ],
   "source": [
    "from sklearn.metrics import accuracy_score, roc_curve, auc\n",
    "\n",
    "# roc_curve: Compute Receiver operating characteristic (ROC).\n",
    "# y_true: the actual classes (0,1) or (-1,1)\n",
    "# y_score: probabilities that will be used to classify the observations\n",
    "# returns false positive rate (fpr), true positive rate (tpr), and the thresholds for these values\n",
    "fpr_svm_tr, tpr_svm_tr, _ = roc_curve(y_true=yu_train, y_score=yu_pred_train_svm)\n",
    "\n",
    "# calculate the area under the curve\n",
    "# sends the coordinates in x and y\n",
    "roc_auc_svm_tr = auc(x=fpr_svm_tr, y=tpr_svm_tr)\n",
    "print ('           ROC Value')\n",
    "print ('---------------------------------')\n",
    "print(\"Training:  \",roc_auc_svm_tr)\n",
    "\n",
    "#Validation\n",
    "fpr_svm_v, tpr_svm_v, _ = roc_curve(y_true= yu_val, y_score=yu_pred_val_svm)\n",
    "# calcula el area under the curve\n",
    "# envia las coordinadas en x y y \n",
    "roc_auc_svm_v = auc(x=fpr_svm_v, y=tpr_svm_v)\n",
    "print ('---------------------------------')\n",
    "print(\"Validation:\",roc_auc_svm_v)\n",
    "\n",
    "#Tests\n",
    "fpr_svm_te, tpr_svm_te, _ = roc_curve(y_true= yu_test, y_score=yu_pred_test_svm)\n",
    "# Calculate the area under the curve\n",
    "# Send the coordinate en x y y \n",
    "roc_auc_svm_te = auc(x=fpr_svm_te, y=tpr_svm_te)\n",
    "print ('---------------------------------')\n",
    "print(\"Test:      \",roc_auc_svm_te)"
   ]
  },
  {
   "cell_type": "code",
   "execution_count": 44,
   "id": "38bff4f4",
   "metadata": {},
   "outputs": [
    {
     "data": {
      "image/png": "[encoded data removed]",
      "text/plain": [
       "<Figure size 500x500 with 1 Axes>"
      ]
     },
     "metadata": {},
     "output_type": "display_data"
    }
   ],
   "source": [
    "# Set line width\n",
    "lw = 2\n",
    "\n",
    "# Create a figure\n",
    "plt.figure(figsize=[5, 5])\n",
    "\n",
    "# Plot ROC curves\n",
    "plt.plot(fpr_svm_te, tpr_svm_te, color='darkorange', lw=lw, \n",
    "         label='Test ROC curve (area = %0.4f)' % roc_auc_svm_te)\n",
    "plt.plot(fpr_svm_tr, tpr_svm_tr, color='green', lw=lw, \n",
    "         label='Train ROC curve (area = %0.4f)' % roc_auc_svm_tr)\n",
    "plt.plot(fpr_svm_v, tpr_svm_v, color='blue', lw=lw, \n",
    "         label='Validation ROC curve (area = %0.4f)' % roc_auc_svm_v)\n",
    "\n",
    "# Add random guess line\n",
    "plt.plot([0, 1], [0, 1], color='navy', lw=lw, linestyle='--')\n",
    "\n",
    "# Set limits and labels\n",
    "plt.xlim([0.0, 1.0])\n",
    "plt.ylim([0.0, 1.05])\n",
    "plt.xlabel('False Positive Rate (1 - Specificity)')\n",
    "plt.ylabel('True Positive Rate (Sensitivity)')\n",
    "plt.title('SVM - Receiver Operating Characteristic (ROC)')\n",
    "\n",
    "# Add legend\n",
    "plt.legend(loc=\"lower right\")\n",
    "\n",
    "# Show plot\n",
    "plt.show()\n"
   ]
  },
  {
   "cell_type": "markdown",
   "id": "a0a3be0f-b12f-4293-bafd-49cc0356433e",
   "metadata": {},
   "source": [
    "### 6.1.2. Gradient Boost"
   ]
  },
  {
   "cell_type": "markdown",
   "id": "e14bbe76-12bc-41ae-86db-4b66d8c62c9b",
   "metadata": {},
   "source": [
    "### 6.1.2.1. Confusion matrix "
   ]
  },
  {
   "cell_type": "markdown",
   "id": "1cb64373",
   "metadata": {},
   "source": [
    "#### 6.1.2.1.1 Training"
   ]
  },
  {
   "cell_type": "code",
   "execution_count": 45,
   "id": "374c4be5-6eed-4aef-a995-894bab1c66fe",
   "metadata": {},
   "outputs": [
    {
     "name": "stdout",
     "output_type": "stream",
     "text": [
      "[[11347  4338]\n",
      " [ 2896 12895]]\n"
     ]
    }
   ],
   "source": [
    "from sklearn.metrics import confusion_matrix\n",
    "import numpy as np\n",
    "\n",
    "# Create confusion matrix tu Training set \n",
    "matrix_GB_train = confusion_matrix(yu_train, yu_pred_train_GB)\n",
    "\n",
    "print(matrix_GB_train)"
   ]
  },
  {
   "cell_type": "markdown",
   "id": "34235de4-8e87-4716-aeba-876aeb3be89a",
   "metadata": {},
   "source": [
    "#### 6.1.2.1.2 Validation"
   ]
  },
  {
   "cell_type": "code",
   "execution_count": 46,
   "id": "6d86e22a-a59a-40a0-a5a9-8200823f7b83",
   "metadata": {},
   "outputs": [
    {
     "name": "stdout",
     "output_type": "stream",
     "text": [
      "[[2559  831]\n",
      " [ 525 2830]]\n"
     ]
    }
   ],
   "source": [
    "from sklearn.metrics import confusion_matrix\n",
    "import numpy as np\n",
    "\n",
    "# Create confusion matrix tu validation set \n",
    "matrix_GB_val = confusion_matrix(yu_val, yu_pred_val_GB)\n",
    "\n",
    "print(matrix_GB_val)"
   ]
  },
  {
   "cell_type": "markdown",
   "id": "59ab3f9a-5b12-4588-b97d-c39dcdce8de7",
   "metadata": {},
   "source": [
    "#### 6.1.2.1.3 Test"
   ]
  },
  {
   "cell_type": "code",
   "execution_count": 47,
   "id": "3e46039f-9029-491e-b70d-ad8c67b4e5e2",
   "metadata": {},
   "outputs": [
    {
     "name": "stdout",
     "output_type": "stream",
     "text": [
      "[[2605  803]\n",
      " [ 516 2821]]\n"
     ]
    }
   ],
   "source": [
    "from sklearn.metrics import confusion_matrix\n",
    "import numpy as np\n",
    "\n",
    "# # Create confusion matrix tu Test set \n",
    "matrix_GB_test = confusion_matrix(yu_test, yu_pred_test_GB)\n",
    "\n",
    "print(matrix_GB_test)"
   ]
  },
  {
   "cell_type": "markdown",
   "id": "fb145057",
   "metadata": {},
   "source": [
    "### 6.1.2.2 Metrics"
   ]
  },
  {
   "cell_type": "code",
   "execution_count": 48,
   "id": "0097fb87-0319-400d-829d-f66bf94dc6e9",
   "metadata": {},
   "outputs": [
    {
     "name": "stdout",
     "output_type": "stream",
     "text": [
      "---------------------------------\n",
      "          Training set\n",
      "Accuracy: 0.7701741009022748\n",
      "Sensitivity: 0.8166043949084921\n",
      "Specificity: 0.7234300286898311\n",
      "Precision: 0.7482736609992456\n",
      "---------------------------------\n",
      "          Validation set\n",
      "Accuracy: 0.7989621942179392\n",
      "Sensitivity: 0.8435171385991058\n",
      "Specificity: 0.7548672566371681\n",
      "Precision: 0.7730128380223983\n",
      "---------------------------------\n",
      "          Test set\n",
      "Accuracy: 0.8044477390659748\n",
      "Sensitivity: 0.8453700928978124\n",
      "Specificity: 0.7643779342723005\n",
      "Precision: 0.7784216335540839\n"
     ]
    }
   ],
   "source": [
    "# confusion matrix values\n",
    "tn_tr_GB, fp_tr_GB, fn_tr_GB, tp_tr_GB = matrix_GB_train.ravel()\n",
    "\n",
    "# calculate accuracy\n",
    "accuracy_train_GB = (tp_tr_GB + tn_tr_GB) / (tp_tr_GB + tn_tr_GB + fp_tr_GB + fn_tr_GB)\n",
    "\n",
    "# calculate sensitivity (recall or true positive rate)\n",
    "sensitivity_train_GB = tp_tr_GB / (tp_tr_GB + fn_tr_GB)\n",
    "\n",
    "# calculate specificity (true negative rate)\n",
    "specificity_train_GB = tn_tr_GB / (tn_tr_GB + fp_tr_GB)\n",
    "\n",
    "# calculate precision\n",
    "precision_train_GB = tp_tr_GB / (tp_tr_GB + fp_tr_GB)\n",
    "\n",
    "# print the results\n",
    "print ('---------------------------------')\n",
    "print ('          Training set')\n",
    "print(\"Accuracy:\", accuracy_train_GB)\n",
    "print(\"Sensitivity:\", sensitivity_train_GB)\n",
    "print(\"Specificity:\", specificity_train_GB)\n",
    "print(\"Precision:\", precision_train_GB)\n",
    "\n",
    "#Validation\n",
    "\n",
    "# confusion matrix values\n",
    "tn_v_GB, fp_v_GB, fn_v_GB, tp_v_GB = matrix_GB_val.ravel()\n",
    "\n",
    "# calculate accuracy\n",
    "accuracy_val_GB = (tp_v_GB + tn_v_GB) / (tp_v_GB + tn_v_GB + fp_v_GB + fn_v_GB)\n",
    "\n",
    "# calculate sensitivity (recall or true positive rate)\n",
    "sensitivity_val_GB = tp_v_GB / (tp_v_GB + fn_v_GB)\n",
    "\n",
    "# calculate specificity (true negative rate)\n",
    "specificity_val_GB = tn_v_GB / (tn_v_GB + fp_v_GB)\n",
    "\n",
    "# calculate precision\n",
    "precision_val_GB = tp_v_GB / (tp_v_GB + fp_v_GB)\n",
    "\n",
    "# print the results\n",
    "print ('---------------------------------')\n",
    "print ('          Validation set')\n",
    "print(\"Accuracy:\", accuracy_val_GB)\n",
    "print(\"Sensitivity:\", sensitivity_val_GB)\n",
    "print(\"Specificity:\", specificity_val_GB)\n",
    "print(\"Precision:\", precision_val_GB)\n",
    "\n",
    "# TEST\n",
    "# confusion matrix values\n",
    "tn_te_GB, fp_te_GB, fn_te_GB, tp_te_GB = matrix_GB_test.ravel()\n",
    "\n",
    "# calculate accuracy\n",
    "accuracy_test_GB = (tp_te_GB + tn_te_GB) / (tp_te_GB + tn_te_GB + fp_te_GB + fn_te_GB)\n",
    "\n",
    "# calculate sensitivity (recall or true positive rate)\n",
    "sensitivity_test_GB = tp_te_GB / (tp_te_GB + fn_te_GB)\n",
    "\n",
    "# calculate specificity (true negative rate)\n",
    "specificity_test_GB = tn_te_GB / (tn_te_GB + fp_te_GB)\n",
    "\n",
    "# calculate precision\n",
    "precision_test_GB = tp_te_GB / (tp_te_GB + fp_te_GB)\n",
    "\n",
    "# print the results\n",
    "print ('---------------------------------')\n",
    "print ('          Test set')\n",
    "print(\"Accuracy:\", accuracy_test_GB)\n",
    "print(\"Sensitivity:\", sensitivity_test_GB)\n",
    "print(\"Specificity:\", specificity_test_GB)\n",
    "print(\"Precision:\", precision_test_GB)"
   ]
  },
  {
   "cell_type": "markdown",
   "id": "ade69045-5b67-406b-b6cd-ecad539dc4e4",
   "metadata": {},
   "source": [
    "### 6.1.2.3 AUC y ROC "
   ]
  },
  {
   "cell_type": "code",
   "execution_count": 49,
   "id": "4561ab5c-3614-4283-8190-dd2b62320234",
   "metadata": {},
   "outputs": [
    {
     "name": "stdout",
     "output_type": "stream",
     "text": [
      "           ROC Value\n",
      "---------------------------------\n",
      "Training: 0.7700172117991615\n",
      "---------------------------------\n",
      "Validation: 0.799192197618137\n",
      "---------------------------------\n",
      "Test: 0.8048740135850565\n",
      "---------------------------------\n"
     ]
    }
   ],
   "source": [
    "from sklearn.metrics import accuracy_score, roc_curve, auc\n",
    "\n",
    "# roc_curve: Compute the Receiver Operating Characteristic (ROC) curve.\n",
    "# This function calculates the false positive rate (fpr) and true positive rate (tpr)\n",
    "# for different threshold values, given the actual labels and predicted probabilities.\n",
    "fpr_GB_tr, tpr_GB_tr, _ = roc_curve(y_true=yu_train, y_score=yu_pred_train_GB)\n",
    "\n",
    "# auc: Compute the Area Under the Curve (AUC) using the false positive rate (fpr)\n",
    "# and true positive rate (tpr) obtained from the ROC curve.\n",
    "# This value provides a single number summary of the model performance,\n",
    "# with a higher value indicating a better model.\n",
    "roc_auc_GB_tr = auc(x=fpr_GB_tr, y=tpr_GB_tr)\n",
    "\n",
    "# Print the calculated AUC value, giving an overall effectiveness of the model\n",
    "# in distinguishing between the positive and negative classes.\n",
    "print ('           ROC Value')\n",
    "print ('---------------------------------')\n",
    "print('Training:',roc_auc_GB_tr)\n",
    "\n",
    "#VALIDATION\n",
    "\n",
    "fpr_GB_v, tpr_GB_v, _ = roc_curve(y_true= yu_val, y_score=yu_pred_val_GB)\n",
    "# calcula el area under the curve\n",
    "# envia las coordinadas en x y y \n",
    "roc_auc_GB_v = auc(x=fpr_GB_v, y=tpr_GB_v)\n",
    "print ('---------------------------------')\n",
    "print('Validation:',roc_auc_GB_v)\n",
    "\n",
    "#TEST\n",
    "\n",
    "\n",
    "fpr_GB_te, tpr_GB_te, _ = roc_curve(y_true= yu_test, y_score=yu_pred_test_GB)\n",
    "# calcula el area under the curve\n",
    "# envia las coordinadas en x y y \n",
    "print ('---------------------------------')\n",
    "roc_auc_GB_te = auc(x=fpr_GB_te, y=tpr_GB_te)\n",
    "print('Test:',roc_auc_GB_te)\n",
    "print ('---------------------------------')"
   ]
  },
  {
   "cell_type": "code",
   "execution_count": 50,
   "id": "5babd47a",
   "metadata": {},
   "outputs": [
    {
     "data": {
      "image/png": "[encoded data removed]",
      "text/plain": [
       "<Figure size 500x500 with 1 Axes>"
      ]
     },
     "metadata": {},
     "output_type": "display_data"
    }
   ],
   "source": [
    "# Set line width\n",
    "lw = 2\n",
    "\n",
    "# Create a figure\n",
    "plt.figure(figsize=[5, 5])\n",
    "\n",
    "# Plot ROC curves\n",
    "plt.plot(fpr_GB_tr, tpr_GB_tr, color='darkorange', lw=lw, \n",
    "         label='Train ROC curve (area = %0.4f)' % roc_auc_GB_tr)\n",
    "plt.plot(fpr_GB_v, tpr_GB_v, color='green', lw=lw, \n",
    "         label='Validation ROC curve (area = %0.4f)' % roc_auc_GB_v)\n",
    "plt.plot(fpr_GB_te, tpr_GB_te, color='blue', lw=lw, \n",
    "         label='Test ROC curve (area = %0.4f)' % roc_auc_GB_te)\n",
    "\n",
    "# Add random guess line\n",
    "plt.plot([0, 1], [0, 1], color='navy', lw=lw, linestyle='--')\n",
    "\n",
    "# Set limits and labels\n",
    "plt.xlim([0.0, 1.0])\n",
    "plt.ylim([0.0, 1.05])\n",
    "plt.xlabel('False Positive Rate (1 - Specificity)')\n",
    "plt.ylabel('True Positive Rate (Sensitivity)')\n",
    "plt.title('Gradient Boosting ROC Curves')\n",
    "\n",
    "# Add legend\n",
    "plt.legend(loc=\"lower right\")\n",
    "\n",
    "# Show plot\n",
    "plt.show()\n",
    "\n"
   ]
  },
  {
   "cell_type": "markdown",
   "id": "9b6e894a-c943-42e6-a4d6-226356ed0071",
   "metadata": {},
   "source": [
    "## 6.1.3. Random Forest"
   ]
  },
  {
   "cell_type": "markdown",
   "id": "b2f0258d-5143-4242-b833-2f644948a2f1",
   "metadata": {},
   "source": [
    "#### 6.1.3.1 Confusion matrix "
   ]
  },
  {
   "cell_type": "markdown",
   "id": "5ec2ec38",
   "metadata": {},
   "source": [
    "#### Training"
   ]
  },
  {
   "cell_type": "code",
   "execution_count": 51,
   "id": "d80b0c73-dca0-46ba-b1c2-081def152a96",
   "metadata": {},
   "outputs": [
    {
     "name": "stdout",
     "output_type": "stream",
     "text": [
      "[[13710  1975]\n",
      " [ 1024 14767]]\n"
     ]
    }
   ],
   "source": [
    "# generar matriz de confusión\n",
    "matrix_RF_train = confusion_matrix(yu_train, yu_train_pred_rf)\n",
    "\n",
    "print(matrix_RF_train)"
   ]
  },
  {
   "cell_type": "markdown",
   "id": "4e5a5d24-e643-4fa0-9ca7-df70b9399916",
   "metadata": {},
   "source": [
    "#### Validation"
   ]
  },
  {
   "cell_type": "code",
   "execution_count": 52,
   "id": "72ca21a6-fb26-4b69-b21c-421b46445bb1",
   "metadata": {},
   "outputs": [
    {
     "name": "stdout",
     "output_type": "stream",
     "text": [
      "[[2369 1021]\n",
      " [ 654 2701]]\n"
     ]
    }
   ],
   "source": [
    "# Create confusion matriz validation set\n",
    "matrix_RF_val = confusion_matrix(yu_val, yu_val_pred_rf)\n",
    "\n",
    "print(matrix_RF_val)"
   ]
  },
  {
   "cell_type": "markdown",
   "id": "09906db8-dbda-43d4-be72-6970e6bc5b08",
   "metadata": {},
   "source": [
    "#### Test"
   ]
  },
  {
   "cell_type": "code",
   "execution_count": 53,
   "id": "3350a804-e424-4c05-9a69-8b35aadb77f7",
   "metadata": {},
   "outputs": [
    {
     "name": "stdout",
     "output_type": "stream",
     "text": [
      "[[2385 1023]\n",
      " [ 566 2771]]\n"
     ]
    }
   ],
   "source": [
    "# generar matriz de confusión\n",
    "matrix_RF_test = confusion_matrix(yu_test, yu_test_pred_rf)\n",
    "\n",
    "print(matrix_RF_test)"
   ]
  },
  {
   "cell_type": "markdown",
   "id": "6cfc2b6f-c138-45d2-b707-03de4014126d",
   "metadata": {},
   "source": [
    "### 6.1.3.2 Metrics"
   ]
  },
  {
   "cell_type": "code",
   "execution_count": 54,
   "id": "b3971816-df62-4c3f-80ba-8fc80ff98ccc",
   "metadata": {},
   "outputs": [
    {
     "name": "stdout",
     "output_type": "stream",
     "text": [
      "---------------------------------\n",
      "          Training set\n",
      "Accuracy: 0.9047210573135087\n",
      "Sensitivity: 0.9351529352162624\n",
      "Specificity: 0.874083519285942\n",
      "Precision: 0.8820332098912914\n",
      "---------------------------------\n",
      "          Validation set\n",
      "Accuracy: 0.7516679021497406\n",
      "Sensitivity: 0.8050670640834575\n",
      "Specificity: 0.6988200589970501\n",
      "Precision: 0.7256851155292854\n",
      "---------------------------------\n",
      "          Test set\n",
      "Accuracy: 0.7644180874722016\n",
      "Sensitivity: 0.8303865747677555\n",
      "Specificity: 0.6998239436619719\n",
      "Precision: 0.7303637322087506\n"
     ]
    }
   ],
   "source": [
    "# Confusion matrix values\n",
    "tn_tr_RF, fp_tr_RF, fn_tr_RF, tp_tr_RF = matrix_RF_train.ravel()\n",
    "\n",
    "# Calculate accuracy\n",
    "accuracy_train_RF = (tp_tr_RF + tn_tr_RF) / (tp_tr_RF + tn_tr_RF + fp_tr_RF + fn_tr_RF)\n",
    "\n",
    "# Calculate sensitivity (recall or true positive rate)\n",
    "sensitivity_train_RF = tp_tr_RF / (tp_tr_RF + fn_tr_RF)\n",
    "\n",
    "# Calculate specificity (true negative rate)\n",
    "specificity_train_RF = tn_tr_RF / (tn_tr_RF + fp_tr_RF)\n",
    "\n",
    "# Calculate precision\n",
    "precision_train_RF = tp_tr_RF / (tp_tr_RF + fp_tr_RF)\n",
    "\n",
    "# Print the results\n",
    "print ('---------------------------------')\n",
    "print ('          Training set')\n",
    "print(\"Accuracy:\", accuracy_train_RF)\n",
    "print(\"Sensitivity:\", sensitivity_train_RF)\n",
    "print(\"Specificity:\", specificity_train_RF)\n",
    "print(\"Precision:\", precision_train_RF)\n",
    "\n",
    "\n",
    "# VALIDATION\n",
    "# Confusion matrix values\n",
    "tn_v_RF, fp_v_RF, fn_v_RF, tp_v_RF = matrix_RF_val.ravel()\n",
    "\n",
    "# Calculate accuracy\n",
    "accuracy_v_RF = (tp_v_RF + tn_v_RF) / (tp_v_RF + tn_v_RF + fp_v_RF + fn_v_RF)\n",
    "\n",
    "# Calculate sensitivity (recall or true positive rate)\n",
    "sensitivity_v_RF = tp_v_RF / (tp_v_RF + fn_v_RF)\n",
    "\n",
    "# Calculate specificity (true negative rate)\n",
    "specificity_v_RF = tn_v_RF / (tn_v_RF + fp_v_RF)\n",
    "\n",
    "# Calculate precision\n",
    "precision_v_RF = tp_v_RF / (tp_v_RF + fp_v_RF)\n",
    "\n",
    "# Print the results\n",
    "print ('---------------------------------')\n",
    "print ('          Validation set')\n",
    "print(\"Accuracy:\", accuracy_v_RF)\n",
    "print(\"Sensitivity:\", sensitivity_v_RF)\n",
    "print(\"Specificity:\", specificity_v_RF)\n",
    "print(\"Precision:\", precision_v_RF)\n",
    "\n",
    "# TEST\n",
    "# Confusion matrix values\n",
    "tn_te_RF, fp_te_RF, fn_te_RF, tp_te_RF = matrix_RF_test.ravel()\n",
    "\n",
    "# Calculate accuracy\n",
    "accuracy_te_RF = (tp_te_RF + tn_te_RF) / (tp_te_RF + tn_te_RF + fp_te_RF + fn_te_RF)\n",
    "\n",
    "# Calculate sensitivity (recall or true positive rate)\n",
    "sensitivity_te_RF = tp_te_RF / (tp_te_RF + fn_te_RF)\n",
    "\n",
    "# Calculate specificity (true negative rate)\n",
    "specificity_te_RF = tn_te_RF / (tn_te_RF + fp_te_RF)\n",
    "\n",
    "# Calculate precision\n",
    "precision_te_RF = tp_te_RF / (tp_te_RF + fp_te_RF)\n",
    "\n",
    "# Print the results\n",
    "print ('---------------------------------')\n",
    "print ('          Test set')\n",
    "print(\"Accuracy:\", accuracy_te_RF)\n",
    "print(\"Sensitivity:\", sensitivity_te_RF)\n",
    "print(\"Specificity:\", specificity_te_RF)\n",
    "print(\"Precision:\", precision_te_RF)\n",
    "\n",
    "\n"
   ]
  },
  {
   "cell_type": "markdown",
   "id": "61037977-a4e4-4ff0-9b04-f834bc9ff680",
   "metadata": {},
   "source": [
    "### 6.1.3.3 AUC y ROC "
   ]
  },
  {
   "cell_type": "code",
   "execution_count": 55,
   "id": "ff388553-558e-4801-969a-db9791b1cec5",
   "metadata": {},
   "outputs": [
    {
     "name": "stdout",
     "output_type": "stream",
     "text": [
      "           ROC Value\n",
      "---------------------------------\n",
      "Training: 0.9046182272511021\n",
      "---------------------------------\n",
      "Validation: 0.7519435615402538\n",
      "---------------------------------\n",
      "Test:     0.7651052592148636\n"
     ]
    }
   ],
   "source": [
    "#TRAINING\n",
    "# retorna false positive rate (fpr), true positive rate (tpr), y el threshold para esos valores \n",
    "fpr_RF_tr, tpr_RF_tr, _ = roc_curve(y_true= yu_train, y_score=yu_train_pred_rf)\n",
    "# calcula el area under the curve\n",
    "# envia las coordinadas en x y y \n",
    "roc_auc_RF_tr = auc(x=fpr_RF_tr, y=tpr_RF_tr)\n",
    "print ('           ROC Value')\n",
    "print ('---------------------------------')\n",
    "print('Training:', roc_auc_RF_tr)\n",
    "\n",
    "#VALIDATION\n",
    "fpr_RF_v, tpr_RF_v, _ = roc_curve(y_true= yu_val, y_score=yu_val_pred_rf)\n",
    "# calcula el area under the curve\n",
    "# envia las coordinadas en x y y \n",
    "roc_auc_RF_v = auc(x=fpr_RF_v, y=tpr_RF_v)\n",
    "print ('---------------------------------')\n",
    "print('Validation:',roc_auc_RF_v)\n",
    "\n",
    "\n",
    "#TEST\n",
    "fpr_RF_te, tpr_RF_te, _ = roc_curve(y_true= yu_test, y_score=yu_test_pred_rf)\n",
    "# calcula el area under the curve\n",
    "# envia las coordinadas en x y y \n",
    "roc_auc_RF_te = auc(x=fpr_RF_te, y=tpr_RF_te)\n",
    "print ('---------------------------------')\n",
    "print('Test:    ',roc_auc_RF_te)"
   ]
  },
  {
   "cell_type": "code",
   "execution_count": 56,
   "id": "cd77eea8",
   "metadata": {},
   "outputs": [
    {
     "data": {
      "image/png": "[encoded data removed]",
      "text/plain": [
       "<Figure size 500x500 with 1 Axes>"
      ]
     },
     "metadata": {},
     "output_type": "display_data"
    }
   ],
   "source": [
    "# Example data for ROC curves for Random Forest (RF) model\n",
    "# These are placeholder values and should be replaced with actual data\n",
    "\n",
    "# Set line width\n",
    "lw = 2\n",
    "\n",
    "# Create a figure\n",
    "plt.figure(figsize=[5, 5])\n",
    "\n",
    "# Plot ROC curves\n",
    "plt.plot(fpr_RF_tr, tpr_RF_tr, color='darkorange', lw=lw, \n",
    "         label='Train ROC curve (area = %0.4f)' % roc_auc_RF_tr)\n",
    "plt.plot(fpr_RF_v, tpr_RF_v, color='green', lw=lw, \n",
    "         label='Validation ROC curve (area = %0.4f)' % roc_auc_RF_v)\n",
    "plt.plot(fpr_RF_te, tpr_RF_te, color='blue', lw=lw, \n",
    "         label='Test ROC curve (area = %0.4f)' % roc_auc_RF_te)\n",
    "\n",
    "# Add random guess line\n",
    "plt.plot([0, 1], [0, 1], color='navy', lw=lw, linestyle='--')\n",
    "\n",
    "# Set limits and labels\n",
    "plt.xlim([0.0, 1.0])\n",
    "plt.ylim([0.0, 1.05])\n",
    "plt.xlabel('False Positive Rate (1 - Specificity)')\n",
    "plt.ylabel('True Positive Rate (Sensitivity)')\n",
    "plt.title('Random Forest ROC Curves')\n",
    "\n",
    "# Add legend\n",
    "plt.legend(loc=\"lower right\")\n",
    "\n",
    "# Show plot\n",
    "plt.show()"
   ]
  },
  {
   "cell_type": "markdown",
   "id": "639ccad7-5562-467f-ab18-a3b0a004b6e8",
   "metadata": {},
   "source": [
    "### 6.1.4. KNN"
   ]
  },
  {
   "cell_type": "markdown",
   "id": "7675e797-275a-4410-b697-99f52a80fd6c",
   "metadata": {},
   "source": [
    "### 6.1.4.1 Confusion matrix"
   ]
  },
  {
   "cell_type": "markdown",
   "id": "8285b65e",
   "metadata": {},
   "source": [
    "#### Before Hiperparameters"
   ]
  },
  {
   "cell_type": "code",
   "execution_count": 76,
   "id": "cb3f950c",
   "metadata": {},
   "outputs": [
    {
     "name": "stdout",
     "output_type": "stream",
     "text": [
      "Confusion Matrix\n",
      "------------------\n",
      "    Training\n",
      "\n",
      "[[11703  3982]\n",
      " [ 2929 12862]]\n",
      "------------------\n",
      "    Validation\n",
      "\n",
      "[[2513  877]\n",
      " [ 666 2689]]\n",
      "------------------\n",
      "      Test\n",
      "\n",
      "[[2529  879]\n",
      " [ 692 2645]]\n"
     ]
    }
   ],
   "source": [
    "from sklearn.metrics import confusion_matrix\n",
    "import numpy as np\n",
    "# generar matriz de confusión\n",
    "matrix_KNN_trainb = confusion_matrix(yu_train, yu_pred_tr_KNNb)\n",
    "print('Confusion Matrix')\n",
    "print('------------------')\n",
    "print('    Training')\n",
    "print('')\n",
    "print(matrix_KNN_trainb)\n",
    "\n",
    "print('------------------')\n",
    "print('    Validation')\n",
    "print('')\n",
    "# generar matriz de confusión\n",
    "matrix_KNN_valb = confusion_matrix(yu_val, yu_pred_v_KNNb)\n",
    "\n",
    "print(matrix_KNN_valb)\n",
    "\n",
    "print('------------------')\n",
    "print('      Test')\n",
    "print('')\n",
    "matrix_KNN_testb = confusion_matrix(yu_test, yu_pred_te_KNNb)\n",
    "\n",
    "print(matrix_KNN_testb)"
   ]
  },
  {
   "cell_type": "code",
   "execution_count": 77,
   "id": "96f762ad",
   "metadata": {},
   "outputs": [
    {
     "name": "stdout",
     "output_type": "stream",
     "text": [
      "---------------------------------\n",
      "          Training set\n",
      "Accuracy: 0.7804358876604397\n",
      "Sensitivity: 0.8145145969222976\n",
      "Specificity: 0.7461268728084157\n",
      "Precision: 0.7635953455236286\n",
      "---------------------------------\n",
      "          Validation set\n",
      "Accuracy: 0.7712379540400297\n",
      "Sensitivity: 0.8014903129657228\n",
      "Specificity: 0.7412979351032448\n",
      "Precision: 0.7540661805945037\n",
      "---------------------------------\n",
      "          Test set\n",
      "Accuracy: 0.7670867309117865\n",
      "Sensitivity: 0.792628109080012\n",
      "Specificity: 0.7420774647887324\n",
      "Precision: 0.7505675368898979\n"
     ]
    }
   ],
   "source": [
    "#TRAINING\n",
    "# valores de la matriz de confusión\n",
    "tn_tr_KNN, fp_tr_KNN, fn_tr_KNN, tp_tr_KNN = matrix_KNN_trainb.ravel()\n",
    "\n",
    "# calcular la exactitud\n",
    "accuracy_train_KNN = (tp_tr_KNN + tn_tr_KNN) / (tp_tr_KNN + tn_tr_KNN + fp_tr_KNN + fn_tr_KNN)\n",
    "\n",
    "# calcular la sensibilidad (recall o true positive rate)\n",
    "sensitivity_train_KNN = tp_tr_KNN / (tp_tr_KNN + fn_tr_KNN)\n",
    "\n",
    "# calcular la especificidad (true negative rate)\n",
    "specificity_train_KNN = tn_tr_KNN / (tn_tr_KNN + fp_tr_KNN)\n",
    "\n",
    "# calcular la precisión\n",
    "precision_train_KNN = tp_tr_KNN / (tp_tr_KNN + fp_tr_KNN)\n",
    "\n",
    "# imprimir los resultados\n",
    "\n",
    "\n",
    "print ('---------------------------------')\n",
    "print ('          Training set')\n",
    "print(\"Accuracy:\", accuracy_train_KNN)\n",
    "print(\"Sensitivity:\", sensitivity_train_KNN)\n",
    "print(\"Specificity:\", specificity_train_KNN)\n",
    "print(\"Precision:\", precision_train_KNN)\n",
    "\n",
    "\n",
    "# VALIDATION\n",
    "# confusion matrix values\n",
    "tn_v_KNN, fp_v_KNN, fn_v_KNN, tp_v_KNN = matrix_KNN_valb.ravel()\n",
    "\n",
    "# calculate accuracy\n",
    "accuracy_v_KNN = (tp_v_KNN + tn_v_KNN) / (tp_v_KNN + tn_v_KNN + fp_v_KNN + fn_v_KNN)\n",
    "\n",
    "# calculate sensitivity (recall or true positive rate)\n",
    "sensitivity_v_KNN = tp_v_KNN / (tp_v_KNN + fn_v_KNN)\n",
    "\n",
    "# calculate specificity (true negative rate)\n",
    "specificity_v_KNN = tn_v_KNN / (tn_v_KNN + fp_v_KNN)\n",
    "\n",
    "# calculate precision\n",
    "precision_v_KNN = tp_v_KNN / (tp_v_KNN + fp_v_KNN)\n",
    "\n",
    "\n",
    "#Print Resuts\n",
    "print ('---------------------------------')\n",
    "print ('          Validation set')\n",
    "\n",
    "print(\"Accuracy:\", accuracy_v_KNN)\n",
    "print(\"Sensitivity:\", sensitivity_v_KNN)\n",
    "print(\"Specificity:\", specificity_v_KNN)\n",
    "print(\"Precision:\", precision_v_KNN)\n",
    "\n",
    "\n",
    "# TEST\n",
    "# valores de la matriz de confusión\n",
    "tn_te_KNN, fp_te_KNN, fn_te_KNN, tp_te_KNN = matrix_KNN_testb.ravel()\n",
    "\n",
    "# calcular la exactitud\n",
    "accuracy_te_KNN = (tp_te_KNN + tn_te_KNN) / (tp_te_KNN + tn_te_KNN + fp_te_KNN + fn_te_KNN)\n",
    "\n",
    "# calcular la sensibilidad (recall o true positive rate)\n",
    "sensitivity_te_KNN = tp_te_KNN / (tp_te_KNN + fn_te_KNN)\n",
    "\n",
    "# calcular la especificidad (true negative rate)\n",
    "specificity_te_KNN = tn_te_KNN / (tn_te_KNN + fp_te_KNN)\n",
    "\n",
    "# calcular la precisión\n",
    "precision_te_KNN = tp_te_KNN / (tp_te_KNN + fp_te_KNN)\n",
    "\n",
    "# imprimir los resultados\n",
    "print ('---------------------------------')\n",
    "print ('          Test set')\n",
    "print(\"Accuracy:\", accuracy_te_KNN)\n",
    "print(\"Sensitivity:\", sensitivity_te_KNN)\n",
    "print(\"Specificity:\", specificity_te_KNN)\n",
    "print(\"Precision:\", precision_te_KNN)"
   ]
  },
  {
   "cell_type": "code",
   "execution_count": 78,
   "id": "b04c961d",
   "metadata": {},
   "outputs": [
    {
     "name": "stdout",
     "output_type": "stream",
     "text": [
      "           ROC Value\n",
      "---------------------------------\n",
      "Training: 0.7803207348653565\n",
      "---------------------------------\n",
      "Validation: 0.7713941240344838\n",
      "---------------------------------\n",
      "Test: 0.7673527869343721\n"
     ]
    }
   ],
   "source": [
    "\n",
    "# roc_curve: Compute Receiver operating characteristic (ROC).\n",
    "# y_true: las clases reales (0,1) o (-1,1)\n",
    "\n",
    "fpr_KNN_tr, tpr_KNN_tr, _ = roc_curve(y_true= yu_train, y_score=yu_pred_tr_KNNb)\n",
    "# calcula el area under the curve\n",
    "# envia las coordinadas en x y y \n",
    "roc_auc_KNN_tr = auc(x=fpr_KNN_tr, y=tpr_KNN_tr)\n",
    "print ('           ROC Value')\n",
    "print ('---------------------------------')\n",
    "\n",
    "print('Training:',roc_auc_KNN_tr)\n",
    "\n",
    "\n",
    "fpr_KNN_v, tpr_KNN_v, _ = roc_curve(y_true= yu_val, y_score=yu_pred_v_KNNb)\n",
    "# calcula el area under the curve\n",
    "# envia las coordinadas en x y y \n",
    "roc_auc_KNN_v = auc(x=fpr_KNN_v, y=tpr_KNN_v)\n",
    "print ('---------------------------------')\n",
    "print('Validation:',roc_auc_KNN_v)\n",
    "\n",
    "\n",
    "# retorna false positive rate (fpr), true positive rate (tpr), y el threshold para esos valores \n",
    "fpr_KNN_te, tpr_KNN_te, _ = roc_curve(y_true= yu_test, y_score=yu_pred_te_KNNb)\n",
    "# calcula el area under the curve\n",
    "# envia las coordinadas en x y y \n",
    "roc_auc_KNN_te = auc(x=fpr_KNN_te, y=tpr_KNN_te)\n",
    "print ('---------------------------------')\n",
    "print('Test:',roc_auc_KNN_te)"
   ]
  },
  {
   "cell_type": "code",
   "execution_count": 79,
   "id": "4fcf7d73",
   "metadata": {},
   "outputs": [
    {
     "data": {
      "image/png": "[encoded data removed]",
      "text/plain": [
       "<Figure size 500x500 with 1 Axes>"
      ]
     },
     "metadata": {},
     "output_type": "display_data"
    }
   ],
   "source": [
    "# Set line width\n",
    "lw = 2\n",
    "\n",
    "# Create a figure\n",
    "plt.figure(figsize=[5, 5])\n",
    "\n",
    "# Plot ROC curves\n",
    "plt.plot(fpr_KNN_tr, tpr_KNN_tr, color='darkorange', lw=lw, \n",
    "         label='Train ROC curve (area = %0.4f)' % roc_auc_KNN_tr)\n",
    "plt.plot(fpr_KNN_v, tpr_KNN_v, color='green', lw=lw, \n",
    "         label='Validation ROC curve (area = %0.4f)' % roc_auc_KNN_v)\n",
    "plt.plot(fpr_KNN_te, tpr_KNN_te, color='blue', lw=lw, \n",
    "         label='Test ROC curve (area = %0.4f)' % roc_auc_KNN_te)\n",
    "\n",
    "# Add random guess line\n",
    "plt.plot([0, 1], [0, 1], color='navy', lw=lw, linestyle='--')\n",
    "\n",
    "# Set limits and labels\n",
    "plt.xlim([0.0, 1.0])\n",
    "plt.ylim([0.0, 1.05])\n",
    "plt.xlabel('False Positive Rate (1 - Specificity)')\n",
    "plt.ylabel('True Positive Rate (Sensitivity)')\n",
    "plt.title('K-Nearest Neighbors ROC Curves')\n",
    "\n",
    "# Add legend\n",
    "plt.legend(loc=\"lower right\")\n",
    "\n",
    "# Show plot\n",
    "plt.show()"
   ]
  },
  {
   "cell_type": "markdown",
   "id": "9860243e",
   "metadata": {},
   "source": [
    "### After Hiperparameters"
   ]
  },
  {
   "cell_type": "code",
   "execution_count": 61,
   "id": "a2e4e408-2dee-42c8-914b-28348f890514",
   "metadata": {},
   "outputs": [
    {
     "name": "stdout",
     "output_type": "stream",
     "text": [
      "Confusion Matrix\n",
      "------------------\n",
      "    Training\n",
      "\n",
      "[[15685     0]\n",
      " [    1 15790]]\n",
      "------------------\n",
      "    Validation\n",
      "\n",
      "[[3390    0]\n",
      " [   0 3355]]\n",
      "------------------\n",
      "      Test\n",
      "\n",
      "[[3408    0]\n",
      " [   0 3337]]\n"
     ]
    }
   ],
   "source": [
    "from sklearn.metrics import confusion_matrix\n",
    "import numpy as np\n",
    "# generar matriz de confusión\n",
    "matrix_KNN_train = confusion_matrix(yu_train, yu_pred_tr_KNN)\n",
    "print('Confusion Matrix')\n",
    "print('------------------')\n",
    "print('    Training')\n",
    "print('')\n",
    "print(matrix_KNN_train)\n",
    "\n",
    "print('------------------')\n",
    "print('    Validation')\n",
    "print('')\n",
    "# generar matriz de confusión\n",
    "matrix_KNN_val = confusion_matrix(yu_val, yu_pred_v_KNN)\n",
    "\n",
    "print(matrix_KNN_val)\n",
    "\n",
    "print('------------------')\n",
    "print('      Test')\n",
    "print('')\n",
    "matrix_KNN_test = confusion_matrix(yu_test, yu_pred_te_KNN)\n",
    "\n",
    "print(matrix_KNN_test)"
   ]
  },
  {
   "cell_type": "markdown",
   "id": "737d5cf3-e370-4a82-b1d4-b354dd961a5b",
   "metadata": {},
   "source": [
    "### 6.1.4.2 Metrics training"
   ]
  },
  {
   "cell_type": "code",
   "execution_count": 62,
   "id": "5e41c072-af8c-46aa-beb7-cabee0744b12",
   "metadata": {},
   "outputs": [
    {
     "name": "stdout",
     "output_type": "stream",
     "text": [
      "---------------------------------\n",
      "          Training set\n",
      "Accuracy: 0.9999682297623587\n",
      "Sensitivity: 0.9999366727882971\n",
      "Specificity: 1.0\n",
      "Precision: 1.0\n",
      "---------------------------------\n",
      "          Validation set\n",
      "Accuracy: 1.0\n",
      "Sensitivity: 1.0\n",
      "Specificity: 1.0\n",
      "Precision: 1.0\n",
      "---------------------------------\n",
      "          Test set\n",
      "Accuracy: 1.0\n",
      "Sensitivity: 1.0\n",
      "Specificity: 1.0\n",
      "Precision: 1.0\n"
     ]
    }
   ],
   "source": [
    "#TRAINING\n",
    "# valores de la matriz de confusión\n",
    "tn_tr_KNN, fp_tr_KNN, fn_tr_KNN, tp_tr_KNN = matrix_KNN_train.ravel()\n",
    "\n",
    "# calcular la exactitud\n",
    "accuracy_train_KNN = (tp_tr_KNN + tn_tr_KNN) / (tp_tr_KNN + tn_tr_KNN + fp_tr_KNN + fn_tr_KNN)\n",
    "\n",
    "# calcular la sensibilidad (recall o true positive rate)\n",
    "sensitivity_train_KNN = tp_tr_KNN / (tp_tr_KNN + fn_tr_KNN)\n",
    "\n",
    "# calcular la especificidad (true negative rate)\n",
    "specificity_train_KNN = tn_tr_KNN / (tn_tr_KNN + fp_tr_KNN)\n",
    "\n",
    "# calcular la precisión\n",
    "precision_train_KNN = tp_tr_KNN / (tp_tr_KNN + fp_tr_KNN)\n",
    "\n",
    "# imprimir los resultados\n",
    "\n",
    "\n",
    "print ('---------------------------------')\n",
    "print ('          Training set')\n",
    "print(\"Accuracy:\", accuracy_train_KNN)\n",
    "print(\"Sensitivity:\", sensitivity_train_KNN)\n",
    "print(\"Specificity:\", specificity_train_KNN)\n",
    "print(\"Precision:\", precision_train_KNN)\n",
    "\n",
    "\n",
    "# VALIDATION\n",
    "# confusion matrix values\n",
    "tn_v_KNN, fp_v_KNN, fn_v_KNN, tp_v_KNN = matrix_KNN_val.ravel()\n",
    "\n",
    "# calculate accuracy\n",
    "accuracy_v_KNN = (tp_v_KNN + tn_v_KNN) / (tp_v_KNN + tn_v_KNN + fp_v_KNN + fn_v_KNN)\n",
    "\n",
    "# calculate sensitivity (recall or true positive rate)\n",
    "sensitivity_v_KNN = tp_v_KNN / (tp_v_KNN + fn_v_KNN)\n",
    "\n",
    "# calculate specificity (true negative rate)\n",
    "specificity_v_KNN = tn_v_KNN / (tn_v_KNN + fp_v_KNN)\n",
    "\n",
    "# calculate precision\n",
    "precision_v_KNN = tp_v_KNN / (tp_v_KNN + fp_v_KNN)\n",
    "\n",
    "\n",
    "#Print Resuts\n",
    "print ('---------------------------------')\n",
    "print ('          Validation set')\n",
    "\n",
    "print(\"Accuracy:\", accuracy_v_KNN)\n",
    "print(\"Sensitivity:\", sensitivity_v_KNN)\n",
    "print(\"Specificity:\", specificity_v_KNN)\n",
    "print(\"Precision:\", precision_v_KNN)\n",
    "\n",
    "\n",
    "# TEST\n",
    "# valores de la matriz de confusión\n",
    "tn_te_KNN, fp_te_KNN, fn_te_KNN, tp_te_KNN = matrix_KNN_test.ravel()\n",
    "\n",
    "# calcular la exactitud\n",
    "accuracy_te_KNN = (tp_te_KNN + tn_te_KNN) / (tp_te_KNN + tn_te_KNN + fp_te_KNN + fn_te_KNN)\n",
    "\n",
    "# calcular la sensibilidad (recall o true positive rate)\n",
    "sensitivity_te_KNN = tp_te_KNN / (tp_te_KNN + fn_te_KNN)\n",
    "\n",
    "# calcular la especificidad (true negative rate)\n",
    "specificity_te_KNN = tn_te_KNN / (tn_te_KNN + fp_te_KNN)\n",
    "\n",
    "# calcular la precisión\n",
    "precision_te_KNN = tp_te_KNN / (tp_te_KNN + fp_te_KNN)\n",
    "\n",
    "# imprimir los resultados\n",
    "print ('---------------------------------')\n",
    "print ('          Test set')\n",
    "print(\"Accuracy:\", accuracy_te_KNN)\n",
    "print(\"Sensitivity:\", sensitivity_te_KNN)\n",
    "print(\"Specificity:\", specificity_te_KNN)\n",
    "print(\"Precision:\", precision_te_KNN)"
   ]
  },
  {
   "cell_type": "markdown",
   "id": "f2547019-4833-4edd-94d4-713707edd4af",
   "metadata": {},
   "source": [
    "### 6.1.4.3. AUC y ROC "
   ]
  },
  {
   "cell_type": "code",
   "execution_count": 63,
   "id": "e2c5fd37-980d-4b3a-801d-7ce8cb5fafdf",
   "metadata": {},
   "outputs": [
    {
     "name": "stdout",
     "output_type": "stream",
     "text": [
      "           ROC Value\n",
      "---------------------------------\n",
      "Training: 0.9999683363941485\n",
      "---------------------------------\n",
      "Validation: 1.0\n",
      "---------------------------------\n",
      "Test: 1.0\n"
     ]
    }
   ],
   "source": [
    "\n",
    "# roc_curve: Compute Receiver operating characteristic (ROC).\n",
    "# y_true: las clases reales (0,1) o (-1,1)\n",
    "\n",
    "fpr_KNN_tr, tpr_KNN_tr, _ = roc_curve(y_true= yu_train, y_score=yu_pred_tr_KNN)\n",
    "# calcula el area under the curve\n",
    "# envia las coordinadas en x y y \n",
    "roc_auc_KNN_tr = auc(x=fpr_KNN_tr, y=tpr_KNN_tr)\n",
    "print ('           ROC Value')\n",
    "print ('---------------------------------')\n",
    "\n",
    "print('Training:',roc_auc_KNN_tr)\n",
    "\n",
    "\n",
    "fpr_KNN_v, tpr_KNN_v, _ = roc_curve(y_true= yu_val, y_score=yu_pred_v_KNN)\n",
    "# calcula el area under the curve\n",
    "# envia las coordinadas en x y y \n",
    "roc_auc_KNN_v = auc(x=fpr_KNN_v, y=tpr_KNN_v)\n",
    "print ('---------------------------------')\n",
    "print('Validation:',roc_auc_KNN_v)\n",
    "\n",
    "\n",
    "# retorna false positive rate (fpr), true positive rate (tpr), y el threshold para esos valores \n",
    "fpr_KNN_te, tpr_KNN_te, _ = roc_curve(y_true= yu_test, y_score=yu_pred_te_KNN)\n",
    "# calcula el area under the curve\n",
    "# envia las coordinadas en x y y \n",
    "roc_auc_KNN_te = auc(x=fpr_KNN_te, y=tpr_KNN_te)\n",
    "print ('---------------------------------')\n",
    "print('Test:',roc_auc_KNN_te)"
   ]
  },
  {
   "cell_type": "code",
   "execution_count": 64,
   "id": "4dab9027-bbc4-4200-b6b7-f8222004f86a",
   "metadata": {},
   "outputs": [
    {
     "data": {
      "image/png": "[encoded data removed]",
      "text/plain": [
       "<Figure size 500x500 with 1 Axes>"
      ]
     },
     "metadata": {},
     "output_type": "display_data"
    }
   ],
   "source": [
    "\n",
    "\n",
    "# Set line width\n",
    "lw = 2\n",
    "\n",
    "# Create a figure\n",
    "plt.figure(figsize=[5, 5])\n",
    "\n",
    "# Plot ROC curves\n",
    "plt.plot(fpr_KNN_tr, tpr_KNN_tr, color='darkorange', lw=lw, \n",
    "         label='Train ROC curve (area = %0.4f)' % roc_auc_KNN_tr)\n",
    "plt.plot(fpr_KNN_v, tpr_KNN_v, color='green', lw=lw, \n",
    "         label='Validation ROC curve (area = %0.4f)' % roc_auc_KNN_v)\n",
    "plt.plot(fpr_KNN_te, tpr_KNN_te, color='blue', lw=lw, \n",
    "         label='Test ROC curve (area = %0.4f)' % roc_auc_KNN_te)\n",
    "\n",
    "# Add random guess line\n",
    "plt.plot([0, 1], [0, 1], color='navy', lw=lw, linestyle='--')\n",
    "\n",
    "# Set limits and labels\n",
    "plt.xlim([0.0, 1.0])\n",
    "plt.ylim([0.0, 1.05])\n",
    "plt.xlabel('False Positive Rate (1 - Specificity)')\n",
    "plt.ylabel('True Positive Rate (Sensitivity)')\n",
    "plt.title('K-Nearest Neighbors ROC Curves')\n",
    "\n",
    "# Add legend\n",
    "plt.legend(loc=\"lower right\")\n",
    "\n",
    "# Show plot\n",
    "plt.show()\n",
    "\n"
   ]
  },
  {
   "cell_type": "markdown",
   "id": "7a7574d8-4aad-47d2-9b6f-b77d080a0a0a",
   "metadata": {},
   "source": [
    "> 6.2  Considering the costs of each type of error in this problem, select and justify the most adequate evaluation metric."
   ]
  },
  {
   "cell_type": "markdown",
   "id": "49f3efde",
   "metadata": {},
   "source": [
    " ## 6.2. Justify the most adequate evaluation metric"
   ]
  },
  {
   "cell_type": "markdown",
   "id": "7ef6ec1c-e019-4c25-9266-5d8a4a6074b8",
   "metadata": {},
   "source": [
    "It is crucial to strike a balance between the ability to accurately detect positive cases (sensitivity) and ensuring that positive predictions are accurate (precision). This involves finding the right balance between the two metrics to optimize model performance. This is why we will use the F1 Score to conclude all the algorithms."
   ]
  },
  {
   "cell_type": "markdown",
   "id": "5b3a8ce3",
   "metadata": {},
   "source": [
    "### 6.2.1. F1 SCORE SVM"
   ]
  },
  {
   "cell_type": "code",
   "execution_count": 65,
   "id": "34b64f31",
   "metadata": {},
   "outputs": [
    {
     "name": "stdout",
     "output_type": "stream",
     "text": [
      "---------------------------------\n",
      "Training:  0.7731010239951093\n",
      "---------------------------------\n",
      "Validation:  0.7647981742975325\n",
      "---------------------------------\n",
      "Test:  0.7749785284855426\n",
      "---------------------------------\n"
     ]
    }
   ],
   "source": [
    "\n",
    "f1_score_tr_svm = (2*(precision_train_svm)*(sensitivity_train_svm))/((precision_train_svm)+(sensitivity_train_svm))\n",
    "print ('---------------------------------')\n",
    "print(\"Training: \", f1_score_tr_svm)\n",
    "f1_score_v_svm = (2*(precision_val_svm)*(sensitivity_val_svm))/((precision_val_svm)+(sensitivity_val_svm))\n",
    "print ('---------------------------------')\n",
    "print(\"Validation: \",f1_score_v_svm)\n",
    "f1_score_te_svm = (2*(precision_test_svm)*(sensitivity_test_svm))/((precision_test_svm)+(sensitivity_test_svm))\n",
    "print ('---------------------------------')\n",
    "print(\"Test: \",f1_score_te_svm)\n",
    "print ('---------------------------------')"
   ]
  },
  {
   "cell_type": "markdown",
   "id": "cedff905",
   "metadata": {},
   "source": [
    "###  6.2.2. F1 SCORE Gradient Boost"
   ]
  },
  {
   "cell_type": "code",
   "execution_count": 66,
   "id": "40f26b53",
   "metadata": {},
   "outputs": [
    {
     "name": "stdout",
     "output_type": "stream",
     "text": [
      "---------------------------------\n",
      "Training:  0.7809471899224806\n",
      "---------------------------------\n",
      "Validation:  0.8067274800456101\n",
      "---------------------------------\n",
      "Test:  0.8105157304984916\n",
      "---------------------------------\n"
     ]
    }
   ],
   "source": [
    "f1_score_tr_GB = (2*(precision_train_GB)*(sensitivity_train_GB))/((precision_train_GB)+(sensitivity_train_GB))\n",
    "print ('---------------------------------')\n",
    "print(\"Training: \",f1_score_tr_GB)\n",
    "f1_score_v_GB = (2*(precision_val_GB)*(sensitivity_val_GB))/((precision_val_GB)+(sensitivity_val_GB))\n",
    "print ('---------------------------------')\n",
    "print(\"Validation: \",f1_score_v_GB)\n",
    "f1_score_te_GB = (2*(precision_test_GB)*(sensitivity_test_GB))/((precision_test_GB)+(sensitivity_test_GB))\n",
    "print ('---------------------------------')\n",
    "print(\"Test: \",f1_score_te_GB)\n",
    "print ('---------------------------------')"
   ]
  },
  {
   "cell_type": "markdown",
   "id": "484c1a41",
   "metadata": {},
   "source": [
    "###  6.2.3. F1 SCORE Random Forest"
   ]
  },
  {
   "cell_type": "code",
   "execution_count": 67,
   "id": "18c3d7e2",
   "metadata": {},
   "outputs": [
    {
     "name": "stdout",
     "output_type": "stream",
     "text": [
      "---------------------------------\n",
      "Training:  0.9078166784495743\n",
      "---------------------------------\n",
      "Validation:  0.7633177900240214\n",
      "---------------------------------\n",
      "Test:  0.7771701023699341\n",
      "---------------------------------\n"
     ]
    }
   ],
   "source": [
    "f1_score_tr_RF = (2*(precision_train_RF)*(sensitivity_train_RF))/((precision_train_RF)+(sensitivity_train_RF))\n",
    "print ('---------------------------------')\n",
    "print(\"Training: \",f1_score_tr_RF)\n",
    "f1_score_v_RF = (2*(precision_v_RF)*(sensitivity_v_RF))/((precision_v_RF)+(sensitivity_v_RF))\n",
    "print ('---------------------------------')\n",
    "print(\"Validation: \",f1_score_v_RF)\n",
    "f1_score_te_RF = (2*(precision_te_RF)*(sensitivity_te_RF))/((precision_te_RF)+(sensitivity_te_RF))\n",
    "print ('---------------------------------')\n",
    "print(\"Test: \",f1_score_te_RF)\n",
    "print ('---------------------------------')"
   ]
  },
  {
   "cell_type": "markdown",
   "id": "66813d64",
   "metadata": {},
   "source": [
    "###  6.2.4. F1 SCORE KNN"
   ]
  },
  {
   "cell_type": "code",
   "execution_count": 68,
   "id": "647fab0d",
   "metadata": {},
   "outputs": [
    {
     "name": "stdout",
     "output_type": "stream",
     "text": [
      "---------------------------------\n",
      "Training:  0.999968335391533\n",
      "---------------------------------\n",
      "Validation:  1.0\n",
      "---------------------------------\n",
      "Test:  1.0\n"
     ]
    }
   ],
   "source": [
    "f1_score_tr_KNN = (2*(precision_train_KNN)*(sensitivity_train_KNN))/((precision_train_KNN)+(sensitivity_train_KNN))\n",
    "print ('---------------------------------')\n",
    "print(\"Training: \",f1_score_tr_KNN)\n",
    "f1_score_v_KNN = (2*(precision_v_KNN)*(sensitivity_v_KNN))/((precision_v_KNN)+(sensitivity_v_KNN))\n",
    "print ('---------------------------------')\n",
    "print(\"Validation: \",f1_score_v_KNN)\n",
    "f1_score_te_KNN = (2*(precision_te_KNN)*(sensitivity_te_KNN))/((precision_te_KNN)+(sensitivity_te_KNN))\n",
    "print ('---------------------------------')\n",
    "print(\"Test: \",f1_score_te_KNN)"
   ]
  },
  {
   "cell_type": "markdown",
   "id": "fb759814-481f-4c12-af20-49234648ccd2",
   "metadata": {},
   "source": [
    "> 6.3 Select and justify the best algorithm using the evaluation metric selected and its performance in the training, validation, and test set. Analyze if the model i  underfitting, overfitting, or just right. \n"
   ]
  },
  {
   "cell_type": "markdown",
   "id": "ab6a0ac6",
   "metadata": {},
   "source": [
    "### 6.3.1. Select and justify the best algorithm"
   ]
  },
  {
   "cell_type": "markdown",
   "id": "460f30ca-91f3-4a99-96dc-cf9b65bf78a1",
   "metadata": {},
   "source": [
    "The KNN algorithm has been shown to be highly effective in predicting heart disease, exhibiting exceptional F1 scores on the training, validation, and test sets (0.99, 1.0, and 1.0, respectively). These results suggest that the model has robustly learned the patterns present in the training data and can effectively generalize to new data sets, achieving perfect accuracy in classifying positive and negative cases. The perfect performance of the KNN algorithm on the validation set, with an F1 score of 1.0, is particularly outstanding, indicating its ability to accurately classify all cases in an independent dataset. The consistency between the high scores on the training and validation sets suggests that the model has not only memorized the training data, but has effectively captured underlying patterns generalizable to new instances. This successful generalization is essential to ensure that the model is applicable and accurate in real-world situations, reinforcing confidence in the KNN model's ability to make reliable predictions in Heart Disease classification."
   ]
  },
  {
   "cell_type": "markdown",
   "id": "7329e0c9",
   "metadata": {},
   "source": [
    "### 6.3.2. Underfitting, overfitting or just right?"
   ]
  },
  {
   "cell_type": "markdown",
   "id": "968a11be",
   "metadata": {},
   "source": [
    "#### 6.3.2.1 F1 SCORE"
   ]
  },
  {
   "cell_type": "code",
   "execution_count": 69,
   "id": "fa7b6dd3",
   "metadata": {},
   "outputs": [
    {
     "name": "stdout",
     "output_type": "stream",
     "text": [
      "Possible underfitting: Low F1 score even in the training set.\n"
     ]
    }
   ],
   "source": [
    "# Analyze overfitting and underfitting based on F1 Score\n",
    "if f1_score_tr_KNN > f1_score_v_KNN and f1_score_tr_KNN > f1_score_te_KNN:\n",
    "    print(\"Possible overfitting: High F1 score in training but lower in validation and test.\")\n",
    "elif f1_score_tr_KNN < f1_score_v_KNN and f1_score_tr_KNN < f1_score_te_KNN:\n",
    "    print(\"Possible underfitting: Low F1 score even in the training set.\")\n",
    "else:\n",
    "    print(\"The model seems to be well adjusted based on F1 score.\")"
   ]
  },
  {
   "cell_type": "code",
   "execution_count": 70,
   "id": "fb41519b",
   "metadata": {},
   "outputs": [
    {
     "name": "stdout",
     "output_type": "stream",
     "text": [
      "There is no significant evidence of underfitting based on the F1 scores.\n"
     ]
    }
   ],
   "source": [
    "if f1_score_tr_KNN + 0.05 < f1_score_v_KNN and f1_score_tr_KNN + 0.05 < f1_score_te_KNN:\n",
    "    print(\"The F1 score in the training set is significantly lower than in validation and test, which could indicate underfitting.\")\n",
    "else:\n",
    "    print(\"There is no significant evidence of underfitting based on the F1 scores.\")"
   ]
  },
  {
   "cell_type": "markdown",
   "id": "0f60f2b8",
   "metadata": {},
   "source": [
    "#### 6.3.2.2 Acurracy"
   ]
  },
  {
   "cell_type": "code",
   "execution_count": 71,
   "id": "43e57621",
   "metadata": {},
   "outputs": [
    {
     "name": "stdout",
     "output_type": "stream",
     "text": [
      "Possible underfitting: low performance even in the training set.\n"
     ]
    }
   ],
   "source": [
    "# Analyze overfitting and underfitting\n",
    "\n",
    "# Check if the accuracy on the training set is higher than both the validation and test sets\n",
    "if accuracy_train_KNN > accuracy_v_KNN and accuracy_train_KNN > accuracy_te_KNN:\n",
    "    # If true, this suggests overfitting, where the model performs well on training data\n",
    "    # but does not generalize well to unseen data (validation and test sets)\n",
    "    print(\"Possible overfitting: high performance in training but lower in validation and test.\")\n",
    "\n",
    "# Check if the accuracy on the training set is lower than both the validation and test sets\n",
    "elif accuracy_train_KNN < accuracy_v_KNN and accuracy_train_KNN < accuracy_te_KNN:\n",
    "    # If true, this suggests underfitting, where the model is too simple and performs poorly\n",
    "    # even on the training data, and consequently on the validation and test data\n",
    "    print(\"Possible underfitting: low performance even in the training set.\")\n",
    "\n",
    "# If neither overfitting nor underfitting conditions are met\n",
    "else:\n",
    "    # This suggests that the model has a good balance and is likely well-adjusted\n",
    "    # to the underlying patterns in the data, performing consistently across\n",
    "    # training, validation, and test sets\n",
    "    print(\"The model seems to be well adjusted.\")\n"
   ]
  },
  {
   "cell_type": "markdown",
   "id": "92df41b9",
   "metadata": {},
   "source": [
    "#### 6.3.2.3 Sennsitivity and Specificity"
   ]
  },
  {
   "cell_type": "code",
   "execution_count": 72,
   "id": "e6684d85",
   "metadata": {},
   "outputs": [
    {
     "name": "stdout",
     "output_type": "stream",
     "text": [
      "Possible underfitting in Sensitivity: low even in the training set.\n",
      "Specificity of the model well adjusted.\n"
     ]
    }
   ],
   "source": [
    "# Analyze overfitting and underfitting for Sensitivity\n",
    "if sensitivity_train_KNN > sensitivity_v_KNN and sensitivity_train_KNN > sensitivity_te_KNN:\n",
    "    print(\"Possible overfitting in Sensitivity: high in training but lower in validation and test.\")\n",
    "elif sensitivity_train_KNN < sensitivity_v_KNN and sensitivity_train_KNN < sensitivity_te_KNN:\n",
    "    print(\"Possible underfitting in Sensitivity: low even in the training set.\")\n",
    "else:\n",
    "    print(\"Sensitivity of the model well adjusted.\")\n",
    "\n",
    "# Analyze overfitting and underfitting for Specificity\n",
    "if specificity_train_KNN > specificity_v_KNN and specificity_train_KNN > specificity_te_KNN:\n",
    "    print(\"Possible overfitting in Specificity: high in training but lower in validation and test.\")\n",
    "elif specificity_train_KNN < specificity_v_KNN and specificity_train_KNN < specificity_te_KNN:\n",
    "    print(\"Possible underfitting in Specificity: low even in the training set.\")\n",
    "else:\n",
    "    print(\"Specificity of the model well adjusted.\")"
   ]
  },
  {
   "cell_type": "markdown",
   "id": "b84122c3-1e7c-4de3-b757-10522c4104f5",
   "metadata": {},
   "source": [
    "> 6.4 Investigate how a random forest can be used to identify the most important predictor variables (feature selection)."
   ]
  },
  {
   "cell_type": "code",
   "execution_count": 73,
   "id": "947d400d-65ae-4800-9ed0-c284b5f00735",
   "metadata": {},
   "outputs": [
    {
     "name": "stdout",
     "output_type": "stream",
     "text": [
      "                              Importance\n",
      "Feature                                 \n",
      "Age_Category                    0.227560\n",
      "Weight_(kg)                     0.118662\n",
      "General_Health                  0.103755\n",
      "Height_(cm)                     0.079170\n",
      "Green_Vegetables_Consumption    0.078246\n",
      "Fruit_Consumption               0.074979\n",
      "FriedPotato_Consumption         0.072059\n",
      "Alcohol_Consumption             0.056392\n",
      "BMI                             0.022422\n",
      "Checkup                         0.020482\n",
      "Arthritis                       0.019970\n",
      "Smoking_History                 0.018597\n",
      "Sex_Female                      0.016204\n",
      "Exercise                        0.015736\n",
      "Depression                      0.014210\n",
      "Diabetes_Yes                    0.013997\n",
      "Other_Cancer                    0.013729\n",
      "Skin_Cancer                     0.012280\n",
      "Diabetes_No                     0.008495\n",
      "Sex_Male                        0.008029\n"
     ]
    },
    {
     "data": {
      "text/plain": [
       "<Figure size 400x400 with 0 Axes>"
      ]
     },
     "metadata": {},
     "output_type": "display_data"
    },
    {
     "data": {
      "image/png": "[encoded data removed]",
      "text/plain": [
       "<Figure size 800x550 with 1 Axes>"
      ]
     },
     "metadata": {},
     "output_type": "display_data"
    }
   ],
   "source": [
    "from sklearn.ensemble import RandomForestRegressor\n",
    "from sklearn.metrics import r2_score  # make sure this import is present\n",
    "import matplotlib.pyplot as plt\n",
    "\n",
    "\n",
    "# Ordena las importancias en orden descendente y establece 'Feature' como índice\n",
    "rf_var = RandomForestRegressor(n_estimators=100, random_state=42)\n",
    "rf_var.fit(Xu_train, yu_train)\n",
    "\n",
    "# Evaluate the model's performance on the test data\n",
    "y_pred = rf_var.predict(Xu_test)\n",
    "r2_test = r2_score(yu_test, y_pred)  # Ensure that r2_score is the function from sklearn.metrics\n",
    "\n",
    "# Get the importance of the predictor variables\n",
    "importances = pd.DataFrame({'Feature': Xu_train.columns, 'Importance': rf_var.feature_importances_})\n",
    "\n",
    "# Sort the importances in descending order and set 'Feature' as the index\n",
    "importances = importances.sort_values('Importance', ascending=False).set_index('Feature')\n",
    "\n",
    "# Print the top 20 most important variables\n",
    "print(importances.head(20))\n",
    "\n",
    "plt.figure(figsize=(4, 4))\n",
    "ax = importances.plot(kind='bar')\n",
    "\n",
    "# cambiar el color de la barra cada barra\n",
    "ax.patches[0].set_facecolor('red')\n",
    "ax.patches[1].set_facecolor('orange')\n",
    "ax.patches[2].set_facecolor('gold')\n",
    "ax.patches[3].set_facecolor('limegreen')\n",
    "ax.patches[4].set_facecolor('darkturquoise')\n",
    "\n",
    "\n",
    "# Visualiza la importancia de las variables con barras de colores diferentes\n",
    "#plt.figure(figsize=(12, 6))\n",
    "\n",
    "plt.title('Importance of Predictor Variables (Random Forest)')\n",
    "plt.xlabel('Predictor Variables')\n",
    "plt.ylabel('Importance')\n",
    "plt.xticks(rotation=45, ha='right')\n",
    "plt.show()\n"
   ]
  },
  {
   "cell_type": "code",
   "execution_count": 74,
   "id": "f6fe95d2",
   "metadata": {},
   "outputs": [
    {
     "data": {
      "text/plain": [
       "<Figure size 1000x300 with 0 Axes>"
      ]
     },
     "metadata": {},
     "output_type": "display_data"
    },
    {
     "data": {
      "image/png": "[encoded data removed]",
      "text/plain": [
       "<Figure size 800x550 with 1 Axes>"
      ]
     },
     "metadata": {},
     "output_type": "display_data"
    }
   ],
   "source": [
    "importances = pd.DataFrame({'Feature': Xu_train.columns, 'Importance': rf_var.feature_importances_})\n",
    "\n",
    "# Ordena las importancias en orden descendente y selecciona las 5 principales\n",
    "top_5_importances = importances.sort_values('Importance', ascending=False).head(5)\n",
    "\n",
    "# Define una lista de colores para las barras\n",
    "colors = ['orange', 'gold', 'limegreen', 'darkturquoise']\n",
    "\n",
    "# Visualiza la importancia de las 5 principales variables\n",
    "plt.figure(figsize=(10, 3))\n",
    "ax = top_5_importances.plot(kind='bar', color=colors, legend=False)\n",
    "ax.set_title('Importance of Top 5 Predictor Variables (Random Forest)')\n",
    "ax.set_xlabel('Predictor Variables')\n",
    "ax.set_ylabel('Importance')\n",
    "\n",
    "# Configura las etiquetas del eje X para mostrar los nombres de las variables\n",
    "ax.set_xticklabels(top_5_importances['Feature'], rotation=45, ha='right')\n",
    "\n",
    "# Desactiva la cuadrícula de fondo\n",
    "ax.grid(False)\n",
    "\n",
    "# Añade el valor sobre cada barra\n",
    "for p in ax.patches:\n",
    "    ax.annotate(f\"{p.get_height():.2f}\", (p.get_x() + p.get_width() / 2., p.get_height()), \n",
    "                ha='center', va='center', xytext=(0, 10), textcoords='offset points')\n",
    "\n",
    "plt.show()"
   ]
  },
  {
   "cell_type": "markdown",
   "id": "a2f2a108",
   "metadata": {},
   "source": [
    "> ## References"
   ]
  },
  {
   "cell_type": "markdown",
   "id": "0d318e32-9e7d-4214-9d3c-99e3d1fa0fc3",
   "metadata": {},
   "source": [
    "\n",
    "Marktab. (2023, 11 julio). Preparación de datos para ML Studio (clásico) - Azure Architecture Center. Microsoft Learn. https://learn.microsoft.com/es-es/azure/architecture/data-science-process/prepare-data\n",
    "\n",
    "Acero, J., & Rojas, K. (2023). Optimización de Hiperparámetros en Algoritmos de Aprendizaje Automático. Universidad Industrial de Santander\n",
    ".\n",
    "Asif, D., Bibi, M., Shoaib, M., & Mukheimer, A. (2023). Enhancing Heart Disease Prediction through Ensemble Learning Techniques with Hyperparameter Optimization. Algorithms. https://creativecommons.org/licenses/by/4.\n",
    "\n",
    "0/\n",
    "Ansarullah, S. I., Mohsin Saif, S., Abdul Basit Andrabi, S., Kumhar, S. H., Kirmani, M. M., & Kumar, D. P. (2022). An Intelligent and Reliable Hyperparameter Optimization Machine Learning Model for Early Heart Disease Assessment Using Imperative Risk Attributes. Journal of healthcare engineering, 2022, 9882288. https://doi.org/10.1155/2022/9882288 (Retraction published J Healthc Eng. 2023 Oct 11;2023:9871962)\n",
    "\n",
    "Powers, D. M. W. (2011). Evaluation: from precision, recall and F-measure to ROC, informedness, markedness and correlation. Journal of Machine Learning Technologies, 2(1), 37-63.\n",
    "\n",
    "Fawcett, T. (2006). An introduction to ROC analysis. Pattern Recognition Letters, 27(8), 861-874.\n",
    "Hanley, J. A., & McNeil, B. J. (1982). The meaning and use of the area under a receiver operating characteristic (ROC) curve. Radiology, 143(1), 29-36.\n",
    "\n",
    "Sokolova, M., & Lapalme, G. (2009). A systematic analysis of performance measures for classification tasks. Information Processing & Management, 45(4), 427-437."
   ]
  },
  {
   "cell_type": "code",
   "execution_count": null,
   "id": "05adea6f",
   "metadata": {},
   "outputs": [],
   "source": []
  },
  {
   "cell_type": "code",
   "execution_count": null,
   "id": "6fd2a8de",
   "metadata": {},
   "outputs": [],
   "source": []
  },
  {
   "cell_type": "code",
   "execution_count": null,
   "id": "8e38c172",
   "metadata": {},
   "outputs": [],
   "source": []
  }
 ],
 "metadata": {
  "kernelspec": {
   "display_name": "Python 3 (ipykernel)",
   "language": "python",
   "name": "python3"
  },
  "language_info": {
   "codemirror_mode": {
    "name": "ipython",
    "version": 3
   },
   "file_extension": ".py",
   "mimetype": "text/x-python",
   "name": "python",
   "nbconvert_exporter": "python",
   "pygments_lexer": "ipython3",
   "version": "3.11.4"
  }
 },
 "nbformat": 4,
 "nbformat_minor": 5
}
